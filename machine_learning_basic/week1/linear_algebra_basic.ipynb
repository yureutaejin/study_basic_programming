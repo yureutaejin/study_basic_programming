{
 "cells": [
  {
   "cell_type": "code",
   "execution_count": 1,
   "metadata": {},
   "outputs": [],
   "source": [
    "%matplotlib inline\n",
    "import numpy as np\n",
    "import pandas as pd\n",
    "import seaborn as sns\n",
    "import requests"
   ]
  },
  {
   "cell_type": "code",
   "execution_count": 2,
   "metadata": {},
   "outputs": [
    {
     "name": "stdout",
     "output_type": "stream",
     "text": [
      "[[ 1 -1  2]\n",
      " [ 3  2  2]\n",
      " [ 4  1  2]\n",
      " [ 7  5  6]]\n",
      "\n",
      "[[ 0  1]\n",
      " [-1  3]\n",
      " [ 5  2]]\n",
      "\n",
      "[[0.10932609 0.84808028 0.31461369 0.74041717 0.70219479]\n",
      " [0.29710548 0.72305728 0.51516441 0.43767583 0.56187727]\n",
      " [0.91278161 0.62870426 0.11213023 0.98038717 0.47800591]]\n",
      "\n",
      "[[0. 0. 0. 0.]\n",
      " [0. 0. 0. 0.]]\n"
     ]
    }
   ],
   "source": [
    "# use matrix with numpy\n",
    "A = np.array([\n",
    "    [1, -1, 2],\n",
    "    [3, 2, 2],\n",
    "    [4, 1, 2],\n",
    "    [7, 5 , 6]\n",
    "])\n",
    "\n",
    "B = np.array([\n",
    "    [0, 1],\n",
    "    [-1, 3],\n",
    "    [5, 2]\n",
    "])\n",
    "\n",
    "C = np.random.rand(3, 5)\n",
    "\n",
    "print(A)\n",
    "print()\n",
    "print(B)\n",
    "print()\n",
    "print(C)\n",
    "print()\n",
    "print(np.zeros((2, 4)))"
   ]
  },
  {
   "cell_type": "code",
   "execution_count": 3,
   "metadata": {},
   "outputs": [
    {
     "name": "stdout",
     "output_type": "stream",
     "text": [
      "2\n"
     ]
    }
   ],
   "source": [
    "print(A[0][2])"
   ]
  },
  {
   "cell_type": "code",
   "execution_count": 4,
   "metadata": {},
   "outputs": [
    {
     "name": "stdout",
     "output_type": "stream",
     "text": [
      "[[ 0  1 -1]\n",
      " [ 1  2  3]\n",
      " [ 2  1  0]\n",
      " [-1  2 -4]]\n",
      "[[ 0  2]\n",
      " [ 1  1]\n",
      " [-1 -2]]\n",
      "2\n",
      "-1\n"
     ]
    }
   ],
   "source": [
    "# 실습과제_numpy 행렬 연습\n",
    "\n",
    "A_list = [[0, 1, -1], [1, 2, 3], [2, 1, 0], [-1, 2, -4]]\n",
    "A = np.array(A_list)\n",
    "\n",
    "B_list = [[0, 2], [1, 1], [-1, -2]]\n",
    "B = np.array(B_list)\n",
    "\n",
    "print(A)\n",
    "print(B)\n",
    "print(A[1][1])\n",
    "print(A[3][0])\n",
    "\n",
    "\n",
    "# vector -> 차원이 1인 행렬"
   ]
  },
  {
   "cell_type": "markdown",
   "metadata": {},
   "source": [
    "# calculate matrix\n",
    "행렬 연산은 차원이 같아야한다.\n",
    "덧셈: 같은 원소끼리 더함, 스칼라 곱: 스칼라를 주어진 matrix의 각 원소에 곱해주면 된다.\n",
    "\n",
    "두 행렬의 내적곱: 2*3인 A행렬, 3*2인 B행렬을 정의했을 때 A(*)B는 2*2인 행렬이 나온다.(A에서 row 갯수, B에서 column 갯수)  \n",
    "단, A의 열 갯수 = B의 행 갯수여야 행렬 간의 곱셈이 가능하다.  \n",
    "즉, m*n인 A행렬과 n*p인 B행렬이 있을 경우, n으로 동일하기 때문에 AB는 m*p인 행렬이 만들어진다.  \n",
    "또한 AB와 BA는 다른 식이다.(순서를 구분, 교환법칙 성립x)  \n",
    "각 원소에는 A의 행과 B의 열의 각 원소를 순서대로 서로 곱해주고 차례대로 더해서 집어넣어 하나의 원소를 만든다.  \n",
    "\n",
    "요소별 곱: 두 행렬의 차원이 같을 경우, 각 원소끼리 곱하여 새로운 행렬을 만듦(A∘B)  \n",
    "내적곱을 하면 차원이 사라지기 때문에 요소별 곱을 사용하는 경우가 있다."
   ]
  },
  {
   "cell_type": "code",
   "execution_count": 5,
   "metadata": {},
   "outputs": [
    {
     "name": "stdout",
     "output_type": "stream",
     "text": [
      "[[ 0  2  6]\n",
      " [ 8  0  6]\n",
      " [ 7 16  0]]\n"
     ]
    }
   ],
   "source": [
    "# numpy로 요소별 곱하기\n",
    "A = np.array([\n",
    "    [1, 2, 3],\n",
    "    [4, 5, 6],\n",
    "    [7, 8, 9]\n",
    "])\n",
    "\n",
    "B = np.array([\n",
    "    [0, 1, 2],\n",
    "    [2, 0, 1],\n",
    "    [1, 2, 0]\n",
    "])\n",
    "\n",
    "print(A*B) # 행렬 요소간의 곱은 *연산자"
   ]
  },
  {
   "cell_type": "code",
   "execution_count": 6,
   "metadata": {},
   "outputs": [
    {
     "name": "stdout",
     "output_type": "stream",
     "text": [
      "[[ 1.72591366 -0.56431713  2.33761013]\n",
      " [ 3.62201235  2.95446095  2.37932861]\n",
      " [ 4.70749483  1.80941099  2.00061328]]\n",
      "[[ 5 -5 10]\n",
      " [15 10 10]\n",
      " [20  5 10]]\n",
      "\n",
      "[[ 1.51889098  1.1000439  -0.04049191]\n",
      " [ 4.83675535  4.83479249  1.77271418]\n",
      " [ 4.94065666  4.31601441  1.7309957 ]]\n",
      "[[ 1.51889098  1.1000439  -0.04049191]\n",
      " [ 4.83675535  4.83479249  1.77271418]\n",
      " [ 4.94065666  4.31601441  1.7309957 ]]\n"
     ]
    }
   ],
   "source": [
    "A = np.array([\n",
    "    [1, -1, 2],\n",
    "    [3, 2, 2],\n",
    "    [4, 1, 2]\n",
    "])\n",
    "\n",
    "B = np.random.rand(3, 3)\n",
    "\n",
    "print(A+B) # 요소별 덧셈\n",
    "print(5*A) # 요소별 스칼라 곱\n",
    "print()\n",
    "print(np.dot(A,B)) # 내적곱(행렬곱)\n",
    "print(A@B)\n"
   ]
  },
  {
   "cell_type": "code",
   "execution_count": 7,
   "metadata": {},
   "outputs": [
    {
     "data": {
      "text/plain": [
       "array([[  34,  -28],\n",
       "       [ 110, -130]])"
      ]
     },
     "execution_count": 7,
     "metadata": {},
     "output_type": "execute_result"
    }
   ],
   "source": [
    "# 실습과제_numpy로 행렬 연산 연습하기\n",
    "\n",
    "import numpy as np\n",
    "\n",
    "A = np.array([\n",
    "    [1, -1, 2],\n",
    "    [3, 2, 2]\n",
    "])\n",
    "\n",
    "B = np.array([\n",
    "    [0, 1],\n",
    "    [-1, 1],\n",
    "    [5, 2]\n",
    "])\n",
    "\n",
    "C = np.array([\n",
    "    [2, -1],\n",
    "    [-3, 3]\n",
    "])\n",
    "\n",
    "D = np.array([\n",
    "    [-5, 1],\n",
    "    [2, 0]\n",
    "])\n",
    "# 2A X -B X (3C + D)\n",
    "# 행렬 연산 결과를 result에 저장하세요\n",
    "result = (2*A) @ ((-1) * B) @ (3*C + D)\n",
    "\n",
    "result\n"
   ]
  },
  {
   "cell_type": "code",
   "execution_count": 9,
   "metadata": {},
   "outputs": [
    {
     "name": "stdout",
     "output_type": "stream",
     "text": [
      "[[ 1  3  4]\n",
      " [-1  2  1]\n",
      " [ 2  2  2]]\n",
      "\n",
      "[[1. 0. 0.]\n",
      " [0. 1. 0.]\n",
      " [0. 0. 1.]]\n",
      "[[ 1. -1.  2.]\n",
      " [ 3.  2.  2.]\n",
      " [ 4.  1.  2.]]\n",
      "\n",
      "[[-0.2 -0.4  0.6]\n",
      " [-0.2  0.6 -0.4]\n",
      " [ 0.5  0.5 -0.5]]\n",
      "[[ 1.00000000e+00  5.55111512e-16 -8.88178420e-16]\n",
      " [ 0.00000000e+00  1.00000000e+00 -8.88178420e-16]\n",
      " [ 2.22044605e-16  2.22044605e-16  1.00000000e+00]]\n"
     ]
    }
   ],
   "source": [
    "# 전치, 단위 역행렬 사용\n",
    "A = np.array([\n",
    "    [1, -1, 2],\n",
    "    [3, 2, 2],\n",
    "    [4, 1, 2]\n",
    "])\n",
    "\n",
    "# 전치 행렬\n",
    "A_transpose = np.transpose(A) # or A_transpose = A.T\n",
    "print(A_transpose)\n",
    "print()\n",
    "\n",
    "# 단위 행렬\n",
    "I = np.identity(3)\n",
    "print(I)\n",
    "# 단위 행렬 검증\n",
    "print(A @ I)\n",
    "\n",
    "print()\n",
    "# 역 행렬\n",
    "A_inverse = np.linalg.pinv(A)\n",
    "print(A_inverse)\n",
    "# 역 행렬 검증\n",
    "print(A@A_inverse)"
   ]
  },
  {
   "cell_type": "code",
   "execution_count": 12,
   "metadata": {},
   "outputs": [
    {
     "name": "stdout",
     "output_type": "stream",
     "text": [
      "[[20. 98.]\n",
      " [56. 60.]]\n"
     ]
    }
   ],
   "source": [
    "# 실습과제_numpy로 전치, 단위, 역행렬 연습\n",
    "import numpy as np\n",
    "\n",
    "A = np.array([\n",
    "    [1, -1, 2],\n",
    "    [3, 2, 2]\n",
    "])\n",
    "\n",
    "B = np.array([\n",
    "    [0, 1],\n",
    "    [-1, 1],\n",
    "    [5, 2]\n",
    "])\n",
    "\n",
    "C = np.array([\n",
    "    [2, -1],\n",
    "    [-3, 3]\n",
    "])\n",
    "\n",
    "D = np.array([\n",
    "    [-5, 1],\n",
    "    [2, 0]\n",
    "])\n",
    "\n",
    "C_inverse = np.linalg.pinv(C)\n",
    "\n",
    "# 행렬 연산을 result 변수에 저장하세요\n",
    "result = (B.T) @ (2*A.T) @ (3*C_inverse + D.T)\n",
    "\n",
    "print(result)"
   ]
  },
  {
   "cell_type": "code",
   "execution_count": null,
   "metadata": {},
   "outputs": [],
   "source": []
  }
 ],
 "metadata": {
  "kernelspec": {
   "display_name": "Python 3",
   "language": "python",
   "name": "python3"
  },
  "language_info": {
   "codemirror_mode": {
    "name": "ipython",
    "version": 3
   },
   "file_extension": ".py",
   "mimetype": "text/x-python",
   "name": "python",
   "nbconvert_exporter": "python",
   "pygments_lexer": "ipython3",
   "version": "3.8.5"
  }
 },
 "nbformat": 4,
 "nbformat_minor": 4
}
