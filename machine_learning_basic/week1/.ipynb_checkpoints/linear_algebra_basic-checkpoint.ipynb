{
 "cells": [
  {
   "cell_type": "code",
   "execution_count": 1,
   "metadata": {},
   "outputs": [],
   "source": [
    "%matplotlib inline\n",
    "import numpy as np\n",
    "import pandas as pd\n",
    "import seaborn as sns\n",
    "import requests"
   ]
  },
  {
   "cell_type": "code",
   "execution_count": 2,
   "metadata": {},
   "outputs": [
    {
     "name": "stdout",
     "output_type": "stream",
     "text": [
      "[[ 1 -1  2]\n",
      " [ 3  2  2]\n",
      " [ 4  1  2]\n",
      " [ 7  5  6]]\n",
      "\n",
      "[[ 0  1]\n",
      " [-1  3]\n",
      " [ 5  2]]\n",
      "\n",
      "[[0.03813823 0.01864818 0.28083347 0.63221562 0.47836777]\n",
      " [0.85714864 0.21084507 0.08500169 0.61883739 0.26664396]\n",
      " [0.23196682 0.00851735 0.98418073 0.47735389 0.06730342]]\n",
      "\n",
      "[[0. 0. 0. 0.]\n",
      " [0. 0. 0. 0.]]\n"
     ]
    }
   ],
   "source": [
    "# use matrix with numpy\n",
    "A = np.array([\n",
    "    [1, -1, 2],\n",
    "    [3, 2, 2],\n",
    "    [4, 1, 2],\n",
    "    [7, 5 , 6]\n",
    "])\n",
    "\n",
    "B = np.array([\n",
    "    [0, 1],\n",
    "    [-1, 3],\n",
    "    [5, 2]\n",
    "])\n",
    "\n",
    "C = np.random.rand(3, 5)\n",
    "\n",
    "print(A)\n",
    "print()\n",
    "print(B)\n",
    "print()\n",
    "print(C)\n",
    "print()\n",
    "print(np.zeros((2, 4)))"
   ]
  },
  {
   "cell_type": "code",
   "execution_count": 3,
   "metadata": {},
   "outputs": [
    {
     "name": "stdout",
     "output_type": "stream",
     "text": [
      "2\n"
     ]
    }
   ],
   "source": [
    "print(A[0][2])"
   ]
  },
  {
   "cell_type": "code",
   "execution_count": 4,
   "metadata": {},
   "outputs": [
    {
     "name": "stdout",
     "output_type": "stream",
     "text": [
      "[[ 0  1 -1]\n",
      " [ 1  2  3]\n",
      " [ 2  1  0]\n",
      " [-1  2 -4]]\n",
      "[[ 0  2]\n",
      " [ 1  1]\n",
      " [-1 -2]]\n",
      "2\n",
      "-1\n"
     ]
    }
   ],
   "source": [
    "# 실습과제_numpy 행렬 연습\n",
    "\n",
    "A_list = [[0, 1, -1], [1, 2, 3], [2, 1, 0], [-1, 2, -4]]\n",
    "A = np.array(A_list)\n",
    "\n",
    "B_list = [[0, 2], [1, 1], [-1, -2]]\n",
    "B = np.array(B_list)\n",
    "\n",
    "print(A)\n",
    "print(B)\n",
    "print(A[1][1])\n",
    "print(A[3][0])\n",
    "\n",
    "\n",
    "# vector -> 차원이 1인 행렬"
   ]
  },
  {
   "cell_type": "markdown",
   "metadata": {},
   "source": [
    "# calculate matrix\n",
    "행렬 연산은 차원이 같아야한다.\n",
    "덧셈: 같은 원소끼리 더함, 스칼라 곱: 스칼라를 주어진 matrix의 각 원소에 곱해주면 된다.\n",
    "\n",
    "두 행렬의 내적곱: 2*3인 A행렬, 3*2인 B행렬을 정의했을 때 A(*)B는 2*2인 행렬이 나온다.(A에서 row 갯수, B에서 column 갯수)  \n",
    "단, A의 열 갯수 = B의 행 갯수여야 행렬 간의 곱셈이 가능하다.  \n",
    "즉, m*n인 A행렬과 n*p인 B행렬이 있을 경우, n으로 동일하기 때문에 AB는 m*p인 행렬이 만들어진다.  \n",
    "또한 AB와 BA는 다른 식이다.(순서를 구분, 교환법칙 성립x)  \n",
    "각 원소에는 A의 행과 B의 열의 각 원소를 순서대로 서로 곱해주고 차례대로 더해서 집어넣어 하나의 원소를 만든다.  \n",
    "\n",
    "요소별 곱: 두 행렬의 차원이 같을 경우, 각 원소끼리 곱하여 새로운 행렬을 만듦(A∘B)  \n",
    "내적곱을 하면 차원이 사라지기 때문에 요소별 곱을 사용하는 경우가 있다."
   ]
  },
  {
   "cell_type": "code",
   "execution_count": 5,
   "metadata": {},
   "outputs": [
    {
     "name": "stdout",
     "output_type": "stream",
     "text": [
      "[[ 0  2  6]\n",
      " [ 8  0  6]\n",
      " [ 7 16  0]]\n"
     ]
    }
   ],
   "source": [
    "# numpy로 요소별 곱하기\n",
    "A = np.array([\n",
    "    [1, 2, 3],\n",
    "    [4, 5, 6],\n",
    "    [7, 8, 9]\n",
    "])\n",
    "\n",
    "B = np.array([\n",
    "    [0, 1, 2],\n",
    "    [2, 0, 1],\n",
    "    [1, 2, 0]\n",
    "])\n",
    "\n",
    "print(A*B) # 요소별 곱은 *연산자"
   ]
  },
  {
   "cell_type": "code",
   "execution_count": null,
   "metadata": {},
   "outputs": [],
   "source": []
  }
 ],
 "metadata": {
  "kernelspec": {
   "display_name": "Python 3",
   "language": "python",
   "name": "python3"
  },
  "language_info": {
   "codemirror_mode": {
    "name": "ipython",
    "version": 3
   },
   "file_extension": ".py",
   "mimetype": "text/x-python",
   "name": "python",
   "nbconvert_exporter": "python",
   "pygments_lexer": "ipython3",
   "version": "3.8.5"
  }
 },
 "nbformat": 4,
 "nbformat_minor": 4
}
