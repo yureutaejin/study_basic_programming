{
 "cells": [
  {
   "cell_type": "code",
   "execution_count": 1,
   "id": "18243c78",
   "metadata": {},
   "outputs": [
    {
     "name": "stdout",
     "output_type": "stream",
     "text": [
      "{'go': 1, 'hamburger': 2, 'would': 3, 'like': 4, 'lunch': 5, \"let's\": 6, 'eat': 7, 'best': 8}\n",
      "[6, 1, 7, 2, 2, 8]\n",
      "[[0. 0. 0. 0. 0. 0. 1. 0. 0.]\n",
      " [0. 1. 0. 0. 0. 0. 0. 0. 0.]\n",
      " [0. 0. 0. 0. 0. 0. 0. 1. 0.]\n",
      " [0. 0. 1. 0. 0. 0. 0. 0. 0.]\n",
      " [0. 0. 1. 0. 0. 0. 0. 0. 0.]\n",
      " [0. 0. 0. 0. 0. 0. 0. 0. 1.]]\n"
     ]
    }
   ],
   "source": [
    "# One-Hot Encoding by Keras\n",
    "\n",
    "from tensorflow.keras.preprocessing.text import text_to_word_sequence\n",
    "from nltk.corpus import stopwords\n",
    "from tensorflow.keras.preprocessing.text import Tokenizer\n",
    "from tensorflow.keras.utils import to_categorical\n",
    "\n",
    "text = \"Would you like to go having lunch with me? Let's go to eat Hamburger. Hamburger is best.\"\n",
    "\n",
    "word_tokens = text_to_word_sequence(text)\n",
    "\n",
    "stop_words = set(stopwords.words('english'))\n",
    "\n",
    "result = []\n",
    "\n",
    "for word in word_tokens:\n",
    "    if word not in stop_words:\n",
    "        result.append(word)\n",
    "        \n",
    "word_tokens = result\n",
    "\n",
    "tokenizer = Tokenizer()\n",
    "tokenizer.fit_on_texts(word_tokens)\n",
    "print(tokenizer.word_index)\n",
    "\n",
    "sub_text = \"Let's go to eat Hamburger. Hamburger is best.\"\n",
    "encoded = tokenizer.texts_to_sequences([sub_text])[0]\n",
    "print(encoded)\n",
    "\n",
    "one_hot = to_categorical(encoded, num_classes=9)\n",
    "print(one_hot)\n"
   ]
  }
 ],
 "metadata": {
  "kernelspec": {
   "display_name": "Python 3 (ipykernel)",
   "language": "python",
   "name": "python3"
  },
  "language_info": {
   "codemirror_mode": {
    "name": "ipython",
    "version": 3
   },
   "file_extension": ".py",
   "mimetype": "text/x-python",
   "name": "python",
   "nbconvert_exporter": "python",
   "pygments_lexer": "ipython3",
   "version": "3.8.12"
  }
 },
 "nbformat": 4,
 "nbformat_minor": 5
}
