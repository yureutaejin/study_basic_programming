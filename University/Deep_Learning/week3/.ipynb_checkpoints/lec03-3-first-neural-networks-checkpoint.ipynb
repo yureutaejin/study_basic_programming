{
 "cells": [
  {
   "cell_type": "markdown",
   "metadata": {
    "id": "F4orxCkFOJZp"
   },
   "source": [
    "### Some useful Colab keyboard shorcuts \n",
    "  \n",
    "\n",
    "\n"
   ]
  },
  {
   "cell_type": "markdown",
   "metadata": {
    "id": "PgaVqnYyqiHL"
   },
   "source": [
    "  * Show keyboard shortcuts: `ctrl+M+H`"
   ]
  },
  {
   "cell_type": "markdown",
   "metadata": {
    "id": "Qs_vv0ihRMb5"
   },
   "source": [
    "---\n",
    "\n",
    "We'll begin this lecture with a practical example of a neural network to understand essential components and concepts. \n",
    "\n",
    "---"
   ]
  },
  {
   "cell_type": "markdown",
   "metadata": {
    "id": "dbGDwo4AQFi-"
   },
   "source": [
    "\n",
    "## A first look at a neural network\n",
    "  "
   ]
  },
  {
   "cell_type": "markdown",
   "metadata": {
    "id": "ES-0w15WqfsX"
   },
   "source": [
    "* An example of a neural network to learn to classify handwritten digits\n",
    "* We will use the MNIST dataset.\n",
    "  * 28*28 grayscale images, 10 categories\n",
    "  * 60,000 training images, 10,000 test images\n",
    "  * Refer to http://yann.lecun.com/exdb/mnist/\n",
    "  * Solving MNIST is like the \"hello world\" of deep learning\n",
    "* Note\n",
    "  * In ML, a category in a classification problem is called a *class*.\n",
    "  * Data points are called *samples*.\n",
    "  * The class associated with a specific sample is called a *label*, *target* or *ground truth*.\n",
    "* First, let's look into the MNIST dataset."
   ]
  },
  {
   "cell_type": "code",
   "execution_count": null,
   "metadata": {
    "colab": {
     "base_uri": "https://localhost:8080/",
     "height": 35
    },
    "executionInfo": {
     "elapsed": 3574,
     "status": "ok",
     "timestamp": 1646361510818,
     "user": {
      "displayName": "Sangheum Hwang",
      "photoUrl": "https://lh3.googleusercontent.com/a-/AOh14GhtqOw3hsZi5PhH_iEySd-ET3W-tZTVnyY_dax5-g=s64",
      "userId": "12292317320178717925"
     },
     "user_tz": -540
    },
    "id": "t9Kda5DkQZSN",
    "outputId": "ee14e741-9b71-43ff-8292-9d1ed7a8088e"
   },
   "outputs": [
    {
     "data": {
      "application/vnd.google.colaboratory.intrinsic+json": {
       "type": "string"
      },
      "text/plain": [
       "'2.8.0'"
      ]
     },
     "execution_count": 1,
     "metadata": {},
     "output_type": "execute_result"
    }
   ],
   "source": [
    "import tensorflow as tf\n",
    "tf.__version__"
   ]
  },
  {
   "cell_type": "code",
   "execution_count": null,
   "metadata": {
    "colab": {
     "base_uri": "https://localhost:8080/"
    },
    "executionInfo": {
     "elapsed": 6129,
     "status": "ok",
     "timestamp": 1646361516943,
     "user": {
      "displayName": "Sangheum Hwang",
      "photoUrl": "https://lh3.googleusercontent.com/a-/AOh14GhtqOw3hsZi5PhH_iEySd-ET3W-tZTVnyY_dax5-g=s64",
      "userId": "12292317320178717925"
     },
     "user_tz": -540
    },
    "id": "b0ghtonIQhgr",
    "outputId": "d4b02be9-bad9-40bd-f451-3a59818b5e74"
   },
   "outputs": [
    {
     "name": "stdout",
     "output_type": "stream",
     "text": [
      "Requirement already satisfied: tensorflow in /usr/local/lib/python3.7/dist-packages (2.8.0)\n",
      "Requirement already satisfied: keras-preprocessing>=1.1.1 in /usr/local/lib/python3.7/dist-packages (from tensorflow) (1.1.2)\n",
      "Requirement already satisfied: gast>=0.2.1 in /usr/local/lib/python3.7/dist-packages (from tensorflow) (0.5.3)\n",
      "Requirement already satisfied: google-pasta>=0.1.1 in /usr/local/lib/python3.7/dist-packages (from tensorflow) (0.2.0)\n",
      "Requirement already satisfied: grpcio<2.0,>=1.24.3 in /usr/local/lib/python3.7/dist-packages (from tensorflow) (1.44.0)\n",
      "Requirement already satisfied: protobuf>=3.9.2 in /usr/local/lib/python3.7/dist-packages (from tensorflow) (3.17.3)\n",
      "Requirement already satisfied: flatbuffers>=1.12 in /usr/local/lib/python3.7/dist-packages (from tensorflow) (2.0)\n",
      "Requirement already satisfied: setuptools in /usr/local/lib/python3.7/dist-packages (from tensorflow) (57.4.0)\n",
      "Requirement already satisfied: libclang>=9.0.1 in /usr/local/lib/python3.7/dist-packages (from tensorflow) (13.0.0)\n",
      "Requirement already satisfied: tensorflow-io-gcs-filesystem>=0.23.1 in /usr/local/lib/python3.7/dist-packages (from tensorflow) (0.24.0)\n",
      "Requirement already satisfied: numpy>=1.20 in /usr/local/lib/python3.7/dist-packages (from tensorflow) (1.21.5)\n",
      "Requirement already satisfied: typing-extensions>=3.6.6 in /usr/local/lib/python3.7/dist-packages (from tensorflow) (3.10.0.2)\n",
      "Requirement already satisfied: wrapt>=1.11.0 in /usr/local/lib/python3.7/dist-packages (from tensorflow) (1.13.3)\n",
      "Requirement already satisfied: opt-einsum>=2.3.2 in /usr/local/lib/python3.7/dist-packages (from tensorflow) (3.3.0)\n",
      "Collecting tf-estimator-nightly==2.8.0.dev2021122109\n",
      "  Downloading tf_estimator_nightly-2.8.0.dev2021122109-py2.py3-none-any.whl (462 kB)\n",
      "\u001b[K     |████████████████████████████████| 462 kB 4.2 MB/s \n",
      "\u001b[?25hRequirement already satisfied: astunparse>=1.6.0 in /usr/local/lib/python3.7/dist-packages (from tensorflow) (1.6.3)\n",
      "Requirement already satisfied: h5py>=2.9.0 in /usr/local/lib/python3.7/dist-packages (from tensorflow) (3.1.0)\n",
      "Requirement already satisfied: keras<2.9,>=2.8.0rc0 in /usr/local/lib/python3.7/dist-packages (from tensorflow) (2.8.0)\n",
      "Requirement already satisfied: tensorboard<2.9,>=2.8 in /usr/local/lib/python3.7/dist-packages (from tensorflow) (2.8.0)\n",
      "Requirement already satisfied: six>=1.12.0 in /usr/local/lib/python3.7/dist-packages (from tensorflow) (1.15.0)\n",
      "Requirement already satisfied: absl-py>=0.4.0 in /usr/local/lib/python3.7/dist-packages (from tensorflow) (1.0.0)\n",
      "Requirement already satisfied: termcolor>=1.1.0 in /usr/local/lib/python3.7/dist-packages (from tensorflow) (1.1.0)\n",
      "Requirement already satisfied: wheel<1.0,>=0.23.0 in /usr/local/lib/python3.7/dist-packages (from astunparse>=1.6.0->tensorflow) (0.37.1)\n",
      "Requirement already satisfied: cached-property in /usr/local/lib/python3.7/dist-packages (from h5py>=2.9.0->tensorflow) (1.5.2)\n",
      "Requirement already satisfied: markdown>=2.6.8 in /usr/local/lib/python3.7/dist-packages (from tensorboard<2.9,>=2.8->tensorflow) (3.3.6)\n",
      "Requirement already satisfied: google-auth<3,>=1.6.3 in /usr/local/lib/python3.7/dist-packages (from tensorboard<2.9,>=2.8->tensorflow) (1.35.0)\n",
      "Requirement already satisfied: werkzeug>=0.11.15 in /usr/local/lib/python3.7/dist-packages (from tensorboard<2.9,>=2.8->tensorflow) (1.0.1)\n",
      "Requirement already satisfied: google-auth-oauthlib<0.5,>=0.4.1 in /usr/local/lib/python3.7/dist-packages (from tensorboard<2.9,>=2.8->tensorflow) (0.4.6)\n",
      "Requirement already satisfied: tensorboard-data-server<0.7.0,>=0.6.0 in /usr/local/lib/python3.7/dist-packages (from tensorboard<2.9,>=2.8->tensorflow) (0.6.1)\n",
      "Requirement already satisfied: tensorboard-plugin-wit>=1.6.0 in /usr/local/lib/python3.7/dist-packages (from tensorboard<2.9,>=2.8->tensorflow) (1.8.1)\n",
      "Requirement already satisfied: requests<3,>=2.21.0 in /usr/local/lib/python3.7/dist-packages (from tensorboard<2.9,>=2.8->tensorflow) (2.23.0)\n",
      "Requirement already satisfied: cachetools<5.0,>=2.0.0 in /usr/local/lib/python3.7/dist-packages (from google-auth<3,>=1.6.3->tensorboard<2.9,>=2.8->tensorflow) (4.2.4)\n",
      "Requirement already satisfied: pyasn1-modules>=0.2.1 in /usr/local/lib/python3.7/dist-packages (from google-auth<3,>=1.6.3->tensorboard<2.9,>=2.8->tensorflow) (0.2.8)\n",
      "Requirement already satisfied: rsa<5,>=3.1.4 in /usr/local/lib/python3.7/dist-packages (from google-auth<3,>=1.6.3->tensorboard<2.9,>=2.8->tensorflow) (4.8)\n",
      "Requirement already satisfied: requests-oauthlib>=0.7.0 in /usr/local/lib/python3.7/dist-packages (from google-auth-oauthlib<0.5,>=0.4.1->tensorboard<2.9,>=2.8->tensorflow) (1.3.1)\n",
      "Requirement already satisfied: importlib-metadata>=4.4 in /usr/local/lib/python3.7/dist-packages (from markdown>=2.6.8->tensorboard<2.9,>=2.8->tensorflow) (4.11.2)\n",
      "Requirement already satisfied: zipp>=0.5 in /usr/local/lib/python3.7/dist-packages (from importlib-metadata>=4.4->markdown>=2.6.8->tensorboard<2.9,>=2.8->tensorflow) (3.7.0)\n",
      "Requirement already satisfied: pyasn1<0.5.0,>=0.4.6 in /usr/local/lib/python3.7/dist-packages (from pyasn1-modules>=0.2.1->google-auth<3,>=1.6.3->tensorboard<2.9,>=2.8->tensorflow) (0.4.8)\n",
      "Requirement already satisfied: chardet<4,>=3.0.2 in /usr/local/lib/python3.7/dist-packages (from requests<3,>=2.21.0->tensorboard<2.9,>=2.8->tensorflow) (3.0.4)\n",
      "Requirement already satisfied: urllib3!=1.25.0,!=1.25.1,<1.26,>=1.21.1 in /usr/local/lib/python3.7/dist-packages (from requests<3,>=2.21.0->tensorboard<2.9,>=2.8->tensorflow) (1.24.3)\n",
      "Requirement already satisfied: certifi>=2017.4.17 in /usr/local/lib/python3.7/dist-packages (from requests<3,>=2.21.0->tensorboard<2.9,>=2.8->tensorflow) (2021.10.8)\n",
      "Requirement already satisfied: idna<3,>=2.5 in /usr/local/lib/python3.7/dist-packages (from requests<3,>=2.21.0->tensorboard<2.9,>=2.8->tensorflow) (2.10)\n",
      "Requirement already satisfied: oauthlib>=3.0.0 in /usr/local/lib/python3.7/dist-packages (from requests-oauthlib>=0.7.0->google-auth-oauthlib<0.5,>=0.4.1->tensorboard<2.9,>=2.8->tensorflow) (3.2.0)\n",
      "Installing collected packages: tf-estimator-nightly\n",
      "Successfully installed tf-estimator-nightly-2.8.0.dev2021122109\n"
     ]
    }
   ],
   "source": [
    "!pip install --upgrade tensorflow"
   ]
  },
  {
   "cell_type": "code",
   "execution_count": null,
   "metadata": {
    "colab": {
     "base_uri": "https://localhost:8080/",
     "height": 35
    },
    "executionInfo": {
     "elapsed": 33,
     "status": "ok",
     "timestamp": 1646361516944,
     "user": {
      "displayName": "Sangheum Hwang",
      "photoUrl": "https://lh3.googleusercontent.com/a-/AOh14GhtqOw3hsZi5PhH_iEySd-ET3W-tZTVnyY_dax5-g=s64",
      "userId": "12292317320178717925"
     },
     "user_tz": -540
    },
    "id": "gQMVQqQWRXO9",
    "outputId": "05c4fc53-ae76-43be-82f1-9f512186a6b1"
   },
   "outputs": [
    {
     "data": {
      "application/vnd.google.colaboratory.intrinsic+json": {
       "type": "string"
      },
      "text/plain": [
       "'2.8.0'"
      ]
     },
     "execution_count": 3,
     "metadata": {},
     "output_type": "execute_result"
    }
   ],
   "source": [
    "import tensorflow as tf\n",
    "tf.__version__"
   ]
  },
  {
   "cell_type": "code",
   "execution_count": null,
   "metadata": {
    "colab": {
     "base_uri": "https://localhost:8080/"
    },
    "executionInfo": {
     "elapsed": 30,
     "status": "ok",
     "timestamp": 1646361516944,
     "user": {
      "displayName": "Sangheum Hwang",
      "photoUrl": "https://lh3.googleusercontent.com/a-/AOh14GhtqOw3hsZi5PhH_iEySd-ET3W-tZTVnyY_dax5-g=s64",
      "userId": "12292317320178717925"
     },
     "user_tz": -540
    },
    "id": "MDKz3jAS5GRx",
    "outputId": "ed0625cd-05ec-42de-cb3f-e6d8a9d9d886"
   },
   "outputs": [
    {
     "name": "stdout",
     "output_type": "stream",
     "text": [
      "Fri Mar  4 02:38:35 2022       \n",
      "+-----------------------------------------------------------------------------+\n",
      "| NVIDIA-SMI 460.32.03    Driver Version: 460.32.03    CUDA Version: 11.2     |\n",
      "|-------------------------------+----------------------+----------------------+\n",
      "| GPU  Name        Persistence-M| Bus-Id        Disp.A | Volatile Uncorr. ECC |\n",
      "| Fan  Temp  Perf  Pwr:Usage/Cap|         Memory-Usage | GPU-Util  Compute M. |\n",
      "|                               |                      |               MIG M. |\n",
      "|===============================+======================+======================|\n",
      "|   0  Tesla K80           Off  | 00000000:00:04.0 Off |                    0 |\n",
      "| N/A   36C    P8    28W / 149W |      0MiB / 11441MiB |      0%      Default |\n",
      "|                               |                      |                  N/A |\n",
      "+-------------------------------+----------------------+----------------------+\n",
      "                                                                               \n",
      "+-----------------------------------------------------------------------------+\n",
      "| Processes:                                                                  |\n",
      "|  GPU   GI   CI        PID   Type   Process name                  GPU Memory |\n",
      "|        ID   ID                                                   Usage      |\n",
      "|=============================================================================|\n",
      "|  No running processes found                                                 |\n",
      "+-----------------------------------------------------------------------------+\n"
     ]
    }
   ],
   "source": [
    "!nvidia-smi"
   ]
  },
  {
   "cell_type": "code",
   "execution_count": null,
   "metadata": {
    "id": "DN-ekZiXYHPH"
   },
   "outputs": [],
   "source": [
    "from tensorflow import keras"
   ]
  },
  {
   "cell_type": "code",
   "execution_count": null,
   "metadata": {
    "colab": {
     "base_uri": "https://localhost:8080/"
    },
    "executionInfo": {
     "elapsed": 777,
     "status": "ok",
     "timestamp": 1646361517705,
     "user": {
      "displayName": "Sangheum Hwang",
      "photoUrl": "https://lh3.googleusercontent.com/a-/AOh14GhtqOw3hsZi5PhH_iEySd-ET3W-tZTVnyY_dax5-g=s64",
      "userId": "12292317320178717925"
     },
     "user_tz": -540
    },
    "id": "Vh6vlacgzzHh",
    "outputId": "b6378804-677d-43e2-b028-6231093a745d"
   },
   "outputs": [
    {
     "name": "stdout",
     "output_type": "stream",
     "text": [
      "Downloading data from https://storage.googleapis.com/tensorflow/tf-keras-datasets/mnist.npz\n",
      "11493376/11490434 [==============================] - 0s 0us/step\n",
      "11501568/11490434 [==============================] - 0s 0us/step\n"
     ]
    }
   ],
   "source": [
    "from tensorflow.keras.datasets import mnist\n",
    "(train_images, train_labels), (test_images,test_labels) = mnist.load_data()\n",
    "\n",
    "# API reference https://keras.io/datasets/#mnist-database-of-handwritten-digits"
   ]
  },
  {
   "cell_type": "markdown",
   "metadata": {
    "id": "LrqEV4uU2Fe2"
   },
   "source": [
    "* The images are encoded as Numpy arrays, and the labels are an array of digits (0-9).\n",
    "* The images and labels have a one-to-one correspondence."
   ]
  },
  {
   "cell_type": "code",
   "execution_count": null,
   "metadata": {
    "colab": {
     "base_uri": "https://localhost:8080/"
    },
    "executionInfo": {
     "elapsed": 26,
     "status": "ok",
     "timestamp": 1646361517705,
     "user": {
      "displayName": "Sangheum Hwang",
      "photoUrl": "https://lh3.googleusercontent.com/a-/AOh14GhtqOw3hsZi5PhH_iEySd-ET3W-tZTVnyY_dax5-g=s64",
      "userId": "12292317320178717925"
     },
     "user_tz": -540
    },
    "id": "6VHaO0OHoiHt",
    "outputId": "1569f67a-ed38-4c23-88d8-dc6d93d9cc8d"
   },
   "outputs": [
    {
     "name": "stdout",
     "output_type": "stream",
     "text": [
      "<class 'numpy.ndarray'>\n"
     ]
    }
   ],
   "source": [
    "print(type(train_images))"
   ]
  },
  {
   "cell_type": "code",
   "execution_count": null,
   "metadata": {
    "colab": {
     "base_uri": "https://localhost:8080/"
    },
    "executionInfo": {
     "elapsed": 24,
     "status": "ok",
     "timestamp": 1646361517706,
     "user": {
      "displayName": "Sangheum Hwang",
      "photoUrl": "https://lh3.googleusercontent.com/a-/AOh14GhtqOw3hsZi5PhH_iEySd-ET3W-tZTVnyY_dax5-g=s64",
      "userId": "12292317320178717925"
     },
     "user_tz": -540
    },
    "id": "qFkONcJL2Z2T",
    "outputId": "1d9b70e0-e71b-4c65-ec22-2b67744ba69f"
   },
   "outputs": [
    {
     "name": "stdout",
     "output_type": "stream",
     "text": [
      "Shape of train_images array:  (60000, 28, 28)\n",
      "# of training samples:  60000\n",
      "Shape of test_images array:  (10000, 28, 28)\n",
      "# of test samples:  10000\n"
     ]
    }
   ],
   "source": [
    "print('Shape of train_images array: ', train_images.shape)\n",
    "print('# of training samples: ', len(train_images))\n",
    "\n",
    "print('Shape of test_images array: ', test_images.shape)\n",
    "print('# of test samples: ', len(test_images))"
   ]
  },
  {
   "cell_type": "code",
   "execution_count": null,
   "metadata": {
    "colab": {
     "base_uri": "https://localhost:8080/"
    },
    "executionInfo": {
     "elapsed": 21,
     "status": "ok",
     "timestamp": 1646361517706,
     "user": {
      "displayName": "Sangheum Hwang",
      "photoUrl": "https://lh3.googleusercontent.com/a-/AOh14GhtqOw3hsZi5PhH_iEySd-ET3W-tZTVnyY_dax5-g=s64",
      "userId": "12292317320178717925"
     },
     "user_tz": -540
    },
    "id": "ziXxs_rS39uY",
    "outputId": "34562422-044f-4e74-940e-cef849fb000f"
   },
   "outputs": [
    {
     "data": {
      "text/plain": [
       "array([[  0,   0,   0,   0,   0,   0,   0,   0,   0,   0,   0,   0,   0,\n",
       "          0,   0,   0,   0,   0,   0,   0,   0,   0,   0,   0,   0,   0,\n",
       "          0,   0],\n",
       "       [  0,   0,   0,   0,   0,   0,   0,   0,   0,   0,   0,   0,   0,\n",
       "          0,   0,   0,   0,   0,   0,   0,   0,   0,   0,   0,   0,   0,\n",
       "          0,   0],\n",
       "       [  0,   0,   0,   0,   0,   0,   0,   0,   0,   0,   0,   0,   0,\n",
       "          0,   0,   0,   0,   0,   0,   0,   0,   0,   0,   0,   0,   0,\n",
       "          0,   0],\n",
       "       [  0,   0,   0,   0,   0,   0,   0,   0,   0,   0,   0,   0,   0,\n",
       "          0,   0,   0,   0,   0,   0,   0,   0,   0,   0,   0,   0,   0,\n",
       "          0,   0],\n",
       "       [  0,   0,   0,   0,   0,   0,   0,   0,   0,   0,   0,  42, 118,\n",
       "        219, 166, 118, 118,   6,   0,   0,   0,   0,   0,   0,   0,   0,\n",
       "          0,   0],\n",
       "       [  0,   0,   0,   0,   0,   0,   0,   0,   0,   0, 103, 242, 254,\n",
       "        254, 254, 254, 254,  66,   0,   0,   0,   0,   0,   0,   0,   0,\n",
       "          0,   0],\n",
       "       [  0,   0,   0,   0,   0,   0,   0,   0,   0,   0,  18, 232, 254,\n",
       "        254, 254, 254, 254, 238,  70,   0,   0,   0,   0,   0,   0,   0,\n",
       "          0,   0],\n",
       "       [  0,   0,   0,   0,   0,   0,   0,   0,   0,   0,   0, 104, 244,\n",
       "        254, 224, 254, 254, 254, 141,   0,   0,   0,   0,   0,   0,   0,\n",
       "          0,   0],\n",
       "       [  0,   0,   0,   0,   0,   0,   0,   0,   0,   0,   0,   0, 207,\n",
       "        254, 210, 254, 254, 254,  34,   0,   0,   0,   0,   0,   0,   0,\n",
       "          0,   0],\n",
       "       [  0,   0,   0,   0,   0,   0,   0,   0,   0,   0,   0,   0,  84,\n",
       "        206, 254, 254, 254, 254,  41,   0,   0,   0,   0,   0,   0,   0,\n",
       "          0,   0],\n",
       "       [  0,   0,   0,   0,   0,   0,   0,   0,   0,   0,   0,   0,   0,\n",
       "         24, 209, 254, 254, 254, 171,   0,   0,   0,   0,   0,   0,   0,\n",
       "          0,   0],\n",
       "       [  0,   0,   0,   0,   0,   0,   0,   0,   0,   0,   0,   0,  91,\n",
       "        137, 253, 254, 254, 254, 112,   0,   0,   0,   0,   0,   0,   0,\n",
       "          0,   0],\n",
       "       [  0,   0,   0,   0,   0,   0,   0,   0,   0,   0,  40, 214, 250,\n",
       "        254, 254, 254, 254, 254,  34,   0,   0,   0,   0,   0,   0,   0,\n",
       "          0,   0],\n",
       "       [  0,   0,   0,   0,   0,   0,   0,   0,   0,   0,  81, 247, 254,\n",
       "        254, 254, 254, 254, 254, 146,   0,   0,   0,   0,   0,   0,   0,\n",
       "          0,   0],\n",
       "       [  0,   0,   0,   0,   0,   0,   0,   0,   0,   0,   0, 110, 246,\n",
       "        254, 254, 254, 254, 254, 171,   0,   0,   0,   0,   0,   0,   0,\n",
       "          0,   0],\n",
       "       [  0,   0,   0,   0,   0,   0,   0,   0,   0,   0,   0,   0,  73,\n",
       "         89,  89,  93, 240, 254, 171,   0,   0,   0,   0,   0,   0,   0,\n",
       "          0,   0],\n",
       "       [  0,   0,   0,   0,   0,   0,   0,   0,   0,   0,   0,   0,   0,\n",
       "          0,   0,   1, 128, 254, 219,  31,   0,   0,   0,   0,   0,   0,\n",
       "          0,   0],\n",
       "       [  0,   0,   0,   0,   0,   0,   0,   0,   0,   0,   0,   0,   0,\n",
       "          0,   0,   7, 254, 254, 214,  28,   0,   0,   0,   0,   0,   0,\n",
       "          0,   0],\n",
       "       [  0,   0,   0,   0,   0,   0,   0,   0,   0,   0,   0,   0,   0,\n",
       "          0,   0, 138, 254, 254, 116,   0,   0,   0,   0,   0,   0,   0,\n",
       "          0,   0],\n",
       "       [  0,   0,   0,   0,   0,   0,  19, 177,  90,   0,   0,   0,   0,\n",
       "          0,  25, 240, 254, 254,  34,   0,   0,   0,   0,   0,   0,   0,\n",
       "          0,   0],\n",
       "       [  0,   0,   0,   0,   0,   0, 164, 254, 215,  63,  36,   0,  51,\n",
       "         89, 206, 254, 254, 139,   8,   0,   0,   0,   0,   0,   0,   0,\n",
       "          0,   0],\n",
       "       [  0,   0,   0,   0,   0,   0,  57, 197, 254, 254, 222, 180, 241,\n",
       "        254, 254, 253, 213,  11,   0,   0,   0,   0,   0,   0,   0,   0,\n",
       "          0,   0],\n",
       "       [  0,   0,   0,   0,   0,   0,   0, 140, 105, 254, 254, 254, 254,\n",
       "        254, 254, 236,   0,   0,   0,   0,   0,   0,   0,   0,   0,   0,\n",
       "          0,   0],\n",
       "       [  0,   0,   0,   0,   0,   0,   0,   0,   7, 117, 117, 165, 254,\n",
       "        254, 239,  50,   0,   0,   0,   0,   0,   0,   0,   0,   0,   0,\n",
       "          0,   0],\n",
       "       [  0,   0,   0,   0,   0,   0,   0,   0,   0,   0,   0,   0,   0,\n",
       "          0,   0,   0,   0,   0,   0,   0,   0,   0,   0,   0,   0,   0,\n",
       "          0,   0],\n",
       "       [  0,   0,   0,   0,   0,   0,   0,   0,   0,   0,   0,   0,   0,\n",
       "          0,   0,   0,   0,   0,   0,   0,   0,   0,   0,   0,   0,   0,\n",
       "          0,   0],\n",
       "       [  0,   0,   0,   0,   0,   0,   0,   0,   0,   0,   0,   0,   0,\n",
       "          0,   0,   0,   0,   0,   0,   0,   0,   0,   0,   0,   0,   0,\n",
       "          0,   0],\n",
       "       [  0,   0,   0,   0,   0,   0,   0,   0,   0,   0,   0,   0,   0,\n",
       "          0,   0,   0,   0,   0,   0,   0,   0,   0,   0,   0,   0,   0,\n",
       "          0,   0]], dtype=uint8)"
      ]
     },
     "execution_count": 9,
     "metadata": {},
     "output_type": "execute_result"
    }
   ],
   "source": [
    "train_images[10]"
   ]
  },
  {
   "cell_type": "code",
   "execution_count": null,
   "metadata": {
    "colab": {
     "base_uri": "https://localhost:8080/"
    },
    "executionInfo": {
     "elapsed": 18,
     "status": "ok",
     "timestamp": 1646361517706,
     "user": {
      "displayName": "Sangheum Hwang",
      "photoUrl": "https://lh3.googleusercontent.com/a-/AOh14GhtqOw3hsZi5PhH_iEySd-ET3W-tZTVnyY_dax5-g=s64",
      "userId": "12292317320178717925"
     },
     "user_tz": -540
    },
    "id": "DMa6n2EZprOC",
    "outputId": "5a5e2f8e-69a8-469e-d25f-740cae761597"
   },
   "outputs": [
    {
     "data": {
      "text/plain": [
       "(28, 28)"
      ]
     },
     "execution_count": 10,
     "metadata": {},
     "output_type": "execute_result"
    }
   ],
   "source": [
    "train_images[10].shape"
   ]
  },
  {
   "cell_type": "code",
   "execution_count": null,
   "metadata": {
    "colab": {
     "base_uri": "https://localhost:8080/"
    },
    "executionInfo": {
     "elapsed": 12,
     "status": "ok",
     "timestamp": 1646361517707,
     "user": {
      "displayName": "Sangheum Hwang",
      "photoUrl": "https://lh3.googleusercontent.com/a-/AOh14GhtqOw3hsZi5PhH_iEySd-ET3W-tZTVnyY_dax5-g=s64",
      "userId": "12292317320178717925"
     },
     "user_tz": -540
    },
    "id": "1YQk6XuQ3wzR",
    "outputId": "79a03222-b635-490a-97a4-e6d19c0db2de"
   },
   "outputs": [
    {
     "data": {
      "text/plain": [
       "array([5, 0, 4, ..., 5, 6, 8], dtype=uint8)"
      ]
     },
     "execution_count": 11,
     "metadata": {},
     "output_type": "execute_result"
    }
   ],
   "source": [
    "train_labels"
   ]
  },
  {
   "cell_type": "code",
   "execution_count": null,
   "metadata": {
    "colab": {
     "base_uri": "https://localhost:8080/"
    },
    "executionInfo": {
     "elapsed": 8,
     "status": "ok",
     "timestamp": 1646361517707,
     "user": {
      "displayName": "Sangheum Hwang",
      "photoUrl": "https://lh3.googleusercontent.com/a-/AOh14GhtqOw3hsZi5PhH_iEySd-ET3W-tZTVnyY_dax5-g=s64",
      "userId": "12292317320178717925"
     },
     "user_tz": -540
    },
    "id": "BxxECMkJqra_",
    "outputId": "d482a9f3-8885-4a20-fd0c-51b650ecec25"
   },
   "outputs": [
    {
     "data": {
      "text/plain": [
       "(60000,)"
      ]
     },
     "execution_count": 12,
     "metadata": {},
     "output_type": "execute_result"
    }
   ],
   "source": [
    "train_labels.shape"
   ]
  },
  {
   "cell_type": "code",
   "execution_count": null,
   "metadata": {
    "colab": {
     "base_uri": "https://localhost:8080/",
     "height": 452
    },
    "executionInfo": {
     "elapsed": 625,
     "status": "ok",
     "timestamp": 1646361518327,
     "user": {
      "displayName": "Sangheum Hwang",
      "photoUrl": "https://lh3.googleusercontent.com/a-/AOh14GhtqOw3hsZi5PhH_iEySd-ET3W-tZTVnyY_dax5-g=s64",
      "userId": "12292317320178717925"
     },
     "user_tz": -540
    },
    "id": "SYY7fnwz292z",
    "outputId": "1919de74-5095-44b3-8f8c-7a52bf4705ec"
   },
   "outputs": [
    {
     "data": {
      "image/png": "[encoded data removed]",
      "text/plain": [
       "<Figure size 640x480 with 1 Axes>"
      ]
     },
     "metadata": {},
     "output_type": "display_data"
    }
   ],
   "source": [
    "import matplotlib.pyplot as plt\n",
    "import matplotlib.cm as cm\n",
    "plt.style.use('default') # set the same default style as jupyter notebook\n",
    "\n",
    "def visualize_mnist(image, label):\n",
    "  plt.imshow(image, cm.binary)\n",
    "  plt.title(label)\n",
    "  plt.show()\n",
    "\n",
    "visualize_mnist(train_images[1000], train_labels[1000])"
   ]
  },
  {
   "cell_type": "markdown",
   "metadata": {
    "id": "4H-nWBIc3pz_"
   },
   "source": [
    "* We'll feed the neural network the training data, `train_images` and `train_labels`.\n",
    "* After training, we'll ask the network to produce predictions for `test_images`, and we'll verify whether these predictions match the labels from `test_labels`.\n",
    "* Let's build the network."
   ]
  },
  {
   "cell_type": "code",
   "execution_count": null,
   "metadata": {
    "id": "E_vXz4Pi4gis"
   },
   "outputs": [],
   "source": [
    "from tensorflow.keras import models\n",
    "from tensorflow.keras import layers\n",
    "\n",
    "network = models.Sequential()\n",
    "network.add(layers.Dense(512, activation='relu', input_shape=(28*28,)))\n",
    "network.add(layers.Dense(10, activation='softmax'))"
   ]
  },
  {
   "cell_type": "markdown",
   "metadata": {
    "id": "rzU8zLtD429s"
   },
   "source": [
    "* As we learned, the core building block of neural networks is the *layers*, a data-processing module.\n",
    "* Specifically, layers extract *representations* out of the data fed into them.\n",
    "* We can obtain more useful representations as training goes.\n",
    "\n",
    "\n",
    "* Here, our network consists of a sequence of two `Dense` layers, which are densely connected (also called `fully connected`) layers.\n",
    "* The last layer is a 10-way `softmax` layer, which means it will return an array of 10 probability scores (summing to 1).\n",
    "\n",
    "\n",
    "* To make the network ready for training, we need three more things,\n",
    "  * A loss function\n",
    "  * An optimizer\n",
    "  * Metrics to monitor during training and testing"
   ]
  },
  {
   "cell_type": "code",
   "execution_count": null,
   "metadata": {
    "id": "Vxte82GQ6zZz"
   },
   "outputs": [],
   "source": [
    "network.compile(optimizer='rmsprop',\n",
    "                loss='categorical_crossentropy',\n",
    "                metrics=['accuracy'])"
   ]
  },
  {
   "cell_type": "markdown",
   "metadata": {
    "id": "NziwelhU68le"
   },
   "source": [
    "* Before training, we'll preprocess the data: **reshaping, scaling**.\n",
    "  * `(60000, 28, 28) uint8` in the `[0, 255]` --> `(60000, 28*28) float32` in the `[0,1]`"
   ]
  },
  {
   "cell_type": "code",
   "execution_count": null,
   "metadata": {
    "id": "_JjxsClm56Ql"
   },
   "outputs": [],
   "source": [
    "train_images = train_images.reshape((60000, 28*28))\n",
    "train_images = train_images.astype('float32') / 255\n",
    "\n",
    "test_images = test_images.reshape((10000, 28*28))\n",
    "test_images = test_images.astype('float32') / 255"
   ]
  },
  {
   "cell_type": "markdown",
   "metadata": {
    "id": "2tcipOORNdW5"
   },
   "source": [
    "* We also need to categorically encode the labels, which is called *one-hot vector*."
   ]
  },
  {
   "cell_type": "code",
   "execution_count": null,
   "metadata": {
    "id": "92Sha1vUNwzI"
   },
   "outputs": [],
   "source": [
    "from tensorflow.keras.utils import to_categorical\n",
    "\n",
    "train_labels = to_categorical(train_labels)\n",
    "test_labels = to_categorical(test_labels)"
   ]
  },
  {
   "cell_type": "code",
   "execution_count": null,
   "metadata": {
    "colab": {
     "base_uri": "https://localhost:8080/"
    },
    "executionInfo": {
     "elapsed": 17,
     "status": "ok",
     "timestamp": 1646361521666,
     "user": {
      "displayName": "Sangheum Hwang",
      "photoUrl": "https://lh3.googleusercontent.com/a-/AOh14GhtqOw3hsZi5PhH_iEySd-ET3W-tZTVnyY_dax5-g=s64",
      "userId": "12292317320178717925"
     },
     "user_tz": -540
    },
    "id": "5tsHzUk7TH2Q",
    "outputId": "c9c463eb-3fd1-46f1-c2a3-96ad0911cb90"
   },
   "outputs": [
    {
     "data": {
      "text/plain": [
       "(60000, 10)"
      ]
     },
     "execution_count": 18,
     "metadata": {},
     "output_type": "execute_result"
    }
   ],
   "source": [
    "train_labels.shape"
   ]
  },
  {
   "cell_type": "code",
   "execution_count": null,
   "metadata": {
    "colab": {
     "base_uri": "https://localhost:8080/"
    },
    "executionInfo": {
     "elapsed": 15,
     "status": "ok",
     "timestamp": 1646361521666,
     "user": {
      "displayName": "Sangheum Hwang",
      "photoUrl": "https://lh3.googleusercontent.com/a-/AOh14GhtqOw3hsZi5PhH_iEySd-ET3W-tZTVnyY_dax5-g=s64",
      "userId": "12292317320178717925"
     },
     "user_tz": -540
    },
    "id": "ewLYhdLgzCKz",
    "outputId": "08a587ff-9302-48e9-da9e-d10220e64b5c"
   },
   "outputs": [
    {
     "data": {
      "text/plain": [
       "array([0., 0., 0., 1., 0., 0., 0., 0., 0., 0.], dtype=float32)"
      ]
     },
     "execution_count": 19,
     "metadata": {},
     "output_type": "execute_result"
    }
   ],
   "source": [
    "train_labels[10]"
   ]
  },
  {
   "cell_type": "markdown",
   "metadata": {
    "id": "dQOViSRaN6Em"
   },
   "source": [
    "* Now, we are ready to train the network by calling *fit* method of the network."
   ]
  },
  {
   "cell_type": "code",
   "execution_count": null,
   "metadata": {
    "colab": {
     "base_uri": "https://localhost:8080/"
    },
    "executionInfo": {
     "elapsed": 18187,
     "status": "ok",
     "timestamp": 1646361539842,
     "user": {
      "displayName": "Sangheum Hwang",
      "photoUrl": "https://lh3.googleusercontent.com/a-/AOh14GhtqOw3hsZi5PhH_iEySd-ET3W-tZTVnyY_dax5-g=s64",
      "userId": "12292317320178717925"
     },
     "user_tz": -540
    },
    "id": "xUKS_FWgOK3s",
    "outputId": "e6a57f1b-aa79-4c28-ea24-2fb37f1062b6"
   },
   "outputs": [
    {
     "name": "stdout",
     "output_type": "stream",
     "text": [
      "Epoch 1/5\n",
      "469/469 [==============================] - 5s 5ms/step - loss: 0.2621 - accuracy: 0.9236\n",
      "Epoch 2/5\n",
      "469/469 [==============================] - 3s 6ms/step - loss: 0.1057 - accuracy: 0.9689\n",
      "Epoch 3/5\n",
      "469/469 [==============================] - 3s 7ms/step - loss: 0.0694 - accuracy: 0.9796\n",
      "Epoch 4/5\n",
      "469/469 [==============================] - 3s 7ms/step - loss: 0.0502 - accuracy: 0.9847\n",
      "Epoch 5/5\n",
      "469/469 [==============================] - 3s 7ms/step - loss: 0.0371 - accuracy: 0.9890\n",
      "Elapsed time: 18.1410\n"
     ]
    }
   ],
   "source": [
    "import time\n",
    "\n",
    "start = time.time()\n",
    "network.fit(train_images, train_labels, epochs=5, batch_size=128)\n",
    "elapsed = time.time() - start\n",
    "\n",
    "print('Elapsed time: %.4f' % elapsed)"
   ]
  },
  {
   "cell_type": "markdown",
   "metadata": {
    "id": "4TU0UI3zOPGZ"
   },
   "source": [
    "* Two quantities are displayed during training, *loss* and *accuracy*.\n",
    "* Note that these quantities do not guarantee the *test* performance.\n",
    "* Let's check that the model performs well on the test set, too."
   ]
  },
  {
   "cell_type": "code",
   "execution_count": null,
   "metadata": {
    "colab": {
     "base_uri": "https://localhost:8080/"
    },
    "executionInfo": {
     "elapsed": 1863,
     "status": "ok",
     "timestamp": 1646361541686,
     "user": {
      "displayName": "Sangheum Hwang",
      "photoUrl": "https://lh3.googleusercontent.com/a-/AOh14GhtqOw3hsZi5PhH_iEySd-ET3W-tZTVnyY_dax5-g=s64",
      "userId": "12292317320178717925"
     },
     "user_tz": -540
    },
    "id": "HY-QBpWFOxm2",
    "outputId": "22ff2058-f076-4a62-dbf2-6105eb31657d"
   },
   "outputs": [
    {
     "name": "stdout",
     "output_type": "stream",
     "text": [
      "313/313 [==============================] - 2s 4ms/step - loss: 0.0666 - accuracy: 0.9801\n",
      "test_acc:  0.9800999760627747\n"
     ]
    }
   ],
   "source": [
    "test_loss, test_acc = network.evaluate(test_images, test_labels)\n",
    "print('test_acc: ', test_acc)"
   ]
  },
  {
   "cell_type": "markdown",
   "metadata": {
    "id": "ZDQ5jq1bO4ot"
   },
   "source": [
    "* The test accuracy is a bit lower than the training accuracy.\n",
    "* This gap between training accuracy and test accuracy is an example of *overfitting*.\n",
    "\n",
    "\n",
    "* We saw how we can build and train a neural network to classify handwritten digits in less than 20 lines of Python code."
   ]
  },
  {
   "cell_type": "markdown",
   "metadata": {
    "id": "7UzzrFs3l7Bo"
   },
   "source": [
    "## Data representations for neural networks"
   ]
  },
  {
   "cell_type": "markdown",
   "metadata": {
    "id": "ytduIaA-qdAs"
   },
   "source": [
    "* In the previous example, the data was stored in multidimensional Numpy arrays, also called *tensors*.\n",
    "* In general, all current machine learning systems use tensors as their basic data structure.\n",
    "* A tensor is a container for data.\n",
    "* The number of *axes* (also called *dimensions*) of a tensor is called its *rank*."
   ]
  },
  {
   "cell_type": "markdown",
   "metadata": {
    "id": "3_EFag2Bokv_"
   },
   "source": [
    "> ### Scalars (0D tensors)"
   ]
  },
  {
   "cell_type": "markdown",
   "metadata": {
    "id": "vNvv_9YQqauS"
   },
   "source": [
    "* A tensor that contains only one number is called a *scalar*.\n",
    "* For example, a `float32` or `float64` number in Numpy is a scalar tensor."
   ]
  },
  {
   "cell_type": "code",
   "execution_count": null,
   "metadata": {
    "colab": {
     "base_uri": "https://localhost:8080/"
    },
    "executionInfo": {
     "elapsed": 17,
     "status": "ok",
     "timestamp": 1646361541687,
     "user": {
      "displayName": "Sangheum Hwang",
      "photoUrl": "https://lh3.googleusercontent.com/a-/AOh14GhtqOw3hsZi5PhH_iEySd-ET3W-tZTVnyY_dax5-g=s64",
      "userId": "12292317320178717925"
     },
     "user_tz": -540
    },
    "id": "59Dr---6mWsg",
    "outputId": "28befb0c-d20b-40bb-9ca4-a8933e7bc24d"
   },
   "outputs": [
    {
     "data": {
      "text/plain": [
       "array(12)"
      ]
     },
     "execution_count": 22,
     "metadata": {},
     "output_type": "execute_result"
    }
   ],
   "source": [
    "import numpy as np\n",
    "x = np.array(12)\n",
    "x"
   ]
  },
  {
   "cell_type": "code",
   "execution_count": null,
   "metadata": {
    "colab": {
     "base_uri": "https://localhost:8080/"
    },
    "executionInfo": {
     "elapsed": 15,
     "status": "ok",
     "timestamp": 1646361541687,
     "user": {
      "displayName": "Sangheum Hwang",
      "photoUrl": "https://lh3.googleusercontent.com/a-/AOh14GhtqOw3hsZi5PhH_iEySd-ET3W-tZTVnyY_dax5-g=s64",
      "userId": "12292317320178717925"
     },
     "user_tz": -540
    },
    "id": "jzs_918YnXe0",
    "outputId": "a451e667-fe10-4f5e-e0cb-14ca68da1bf6"
   },
   "outputs": [
    {
     "data": {
      "text/plain": [
       "0"
      ]
     },
     "execution_count": 23,
     "metadata": {},
     "output_type": "execute_result"
    }
   ],
   "source": [
    "x.ndim"
   ]
  },
  {
   "cell_type": "markdown",
   "metadata": {
    "id": "8hA6AYWenZBg"
   },
   "source": [
    "> ### Vectors (1D tensors)"
   ]
  },
  {
   "cell_type": "markdown",
   "metadata": {
    "id": "PnPoH33fqYYw"
   },
   "source": [
    "* An array of numbers is called a *vector*, or 1D tensor."
   ]
  },
  {
   "cell_type": "code",
   "execution_count": null,
   "metadata": {
    "colab": {
     "base_uri": "https://localhost:8080/"
    },
    "executionInfo": {
     "elapsed": 14,
     "status": "ok",
     "timestamp": 1646361541687,
     "user": {
      "displayName": "Sangheum Hwang",
      "photoUrl": "https://lh3.googleusercontent.com/a-/AOh14GhtqOw3hsZi5PhH_iEySd-ET3W-tZTVnyY_dax5-g=s64",
      "userId": "12292317320178717925"
     },
     "user_tz": -540
    },
    "id": "Zbb2x6h5n6LQ",
    "outputId": "d17f0fdd-5045-4ac3-df6b-670d1d5b67fc"
   },
   "outputs": [
    {
     "data": {
      "text/plain": [
       "array([12,  3,  6, 14,  5])"
      ]
     },
     "execution_count": 24,
     "metadata": {},
     "output_type": "execute_result"
    }
   ],
   "source": [
    "x = np.array([12, 3, 6, 14, 5])\n",
    "x"
   ]
  },
  {
   "cell_type": "code",
   "execution_count": null,
   "metadata": {
    "colab": {
     "base_uri": "https://localhost:8080/"
    },
    "executionInfo": {
     "elapsed": 12,
     "status": "ok",
     "timestamp": 1646361541687,
     "user": {
      "displayName": "Sangheum Hwang",
      "photoUrl": "https://lh3.googleusercontent.com/a-/AOh14GhtqOw3hsZi5PhH_iEySd-ET3W-tZTVnyY_dax5-g=s64",
      "userId": "12292317320178717925"
     },
     "user_tz": -540
    },
    "id": "w7XbcZkIn9U9",
    "outputId": "cb0bca11-5221-40d1-aea0-22f2b88d9b13"
   },
   "outputs": [
    {
     "data": {
      "text/plain": [
       "1"
      ]
     },
     "execution_count": 25,
     "metadata": {},
     "output_type": "execute_result"
    }
   ],
   "source": [
    "x.ndim"
   ]
  },
  {
   "cell_type": "markdown",
   "metadata": {
    "id": "ib7cKBmOn-SV"
   },
   "source": [
    "* This vector has five entries and so is called a *5-dimensional vector*.\n",
    "* Don't confuse a 5D vector with a 5D tensor!\n",
    "\n"
   ]
  },
  {
   "cell_type": "markdown",
   "metadata": {
    "id": "GHm6l4omoLTW"
   },
   "source": [
    "> ### Matrices (2D tensors)"
   ]
  },
  {
   "cell_type": "markdown",
   "metadata": {
    "id": "TiafUBDZqV4N"
   },
   "source": [
    "* An array of vectors is a *matrix*, or 2D tensor.\n",
    "* A matrix has two axes (rows and columns)."
   ]
  },
  {
   "cell_type": "code",
   "execution_count": null,
   "metadata": {
    "colab": {
     "base_uri": "https://localhost:8080/"
    },
    "executionInfo": {
     "elapsed": 12,
     "status": "ok",
     "timestamp": 1646361541688,
     "user": {
      "displayName": "Sangheum Hwang",
      "photoUrl": "https://lh3.googleusercontent.com/a-/AOh14GhtqOw3hsZi5PhH_iEySd-ET3W-tZTVnyY_dax5-g=s64",
      "userId": "12292317320178717925"
     },
     "user_tz": -540
    },
    "id": "COdG1gIjoeEx",
    "outputId": "5240a665-1171-4352-ee11-c99359a5df0c"
   },
   "outputs": [
    {
     "data": {
      "text/plain": [
       "array([[ 5, 78,  2, 34,  0],\n",
       "       [ 6, 79,  3, 35,  1],\n",
       "       [ 7, 80,  4, 36,  2]])"
      ]
     },
     "execution_count": 26,
     "metadata": {},
     "output_type": "execute_result"
    }
   ],
   "source": [
    "x = np.array([[5, 78, 2, 34, 0],\n",
    "              [6, 79, 3, 35, 1],\n",
    "              [7, 80, 4, 36, 2]])\n",
    "x"
   ]
  },
  {
   "cell_type": "code",
   "execution_count": null,
   "metadata": {
    "colab": {
     "base_uri": "https://localhost:8080/"
    },
    "executionInfo": {
     "elapsed": 10,
     "status": "ok",
     "timestamp": 1646361541688,
     "user": {
      "displayName": "Sangheum Hwang",
      "photoUrl": "https://lh3.googleusercontent.com/a-/AOh14GhtqOw3hsZi5PhH_iEySd-ET3W-tZTVnyY_dax5-g=s64",
      "userId": "12292317320178717925"
     },
     "user_tz": -540
    },
    "id": "Sq1zkLRbo_PF",
    "outputId": "682739d2-3afb-4179-b401-5dd6b9e95cd0"
   },
   "outputs": [
    {
     "data": {
      "text/plain": [
       "2"
      ]
     },
     "execution_count": 27,
     "metadata": {},
     "output_type": "execute_result"
    }
   ],
   "source": [
    "x.ndim"
   ]
  },
  {
   "cell_type": "code",
   "execution_count": null,
   "metadata": {
    "colab": {
     "base_uri": "https://localhost:8080/"
    },
    "executionInfo": {
     "elapsed": 9,
     "status": "ok",
     "timestamp": 1646361541688,
     "user": {
      "displayName": "Sangheum Hwang",
      "photoUrl": "https://lh3.googleusercontent.com/a-/AOh14GhtqOw3hsZi5PhH_iEySd-ET3W-tZTVnyY_dax5-g=s64",
      "userId": "12292317320178717925"
     },
     "user_tz": -540
    },
    "id": "rVBdvIKupBj1",
    "outputId": "262e5c00-e2fb-4f9c-de6e-bfa617261d8d"
   },
   "outputs": [
    {
     "data": {
      "text/plain": [
       "(3, 5)"
      ]
     },
     "execution_count": 28,
     "metadata": {},
     "output_type": "execute_result"
    }
   ],
   "source": [
    "x.shape"
   ]
  },
  {
   "cell_type": "markdown",
   "metadata": {
    "id": "dJNkWHuwpCRi"
   },
   "source": [
    "> ### 3D tensors and higher-dimensional tensors"
   ]
  },
  {
   "cell_type": "markdown",
   "metadata": {
    "id": "olzSgewcqTpj"
   },
   "source": [
    "* An array of matrices? --> a 3D tensor\n",
    "* It can be visually interpreted as a cube of numbers."
   ]
  },
  {
   "cell_type": "code",
   "execution_count": null,
   "metadata": {
    "colab": {
     "base_uri": "https://localhost:8080/"
    },
    "executionInfo": {
     "elapsed": 8,
     "status": "ok",
     "timestamp": 1646361541688,
     "user": {
      "displayName": "Sangheum Hwang",
      "photoUrl": "https://lh3.googleusercontent.com/a-/AOh14GhtqOw3hsZi5PhH_iEySd-ET3W-tZTVnyY_dax5-g=s64",
      "userId": "12292317320178717925"
     },
     "user_tz": -540
    },
    "id": "69Puo2oxpZfq",
    "outputId": "7d165dba-e1bd-4afe-89f3-e331ede8586f"
   },
   "outputs": [
    {
     "name": "stdout",
     "output_type": "stream",
     "text": [
      "3\n",
      "(3, 3, 5)\n"
     ]
    }
   ],
   "source": [
    "x = np.array([ [ [5, 78, 2, 34, 0],\n",
    "                 [6, 79, 3, 35, 1],\n",
    "                 [7, 80, 4, 36, 2] ],\n",
    "               [ [5, 78, 2, 34, 0],\n",
    "                 [6, 79, 3, 35, 1],\n",
    "                 [7, 80, 4, 36, 2] ],\n",
    "               [ [5, 78, 2, 34, 0],\n",
    "                 [6, 79, 3, 35, 1],\n",
    "                 [7, 80, 4, 36, 2] ] ])\n",
    "print(x.ndim)\n",
    "print(x.shape)"
   ]
  },
  {
   "cell_type": "markdown",
   "metadata": {
    "id": "-Fc1jRsYp9-d"
   },
   "source": [
    "* By packing 3D tensors in an array, you can create a 4D tensor, and so on.\n",
    "* In deep learning, you'll generally manipulate tensors that are 0D to 4D, although you may go up to 5D if you process video data."
   ]
  },
  {
   "cell_type": "markdown",
   "metadata": {
    "id": "sMStwVDEqV6M"
   },
   "source": [
    "> ### Key attributes"
   ]
  },
  {
   "cell_type": "markdown",
   "metadata": {
    "id": "DGltO620qRAP"
   },
   "source": [
    "* *Number of axes (rank)*: the tensor's `ndim` in Numpy\n",
    "* *Shape*: the tensor's `shape` in Numpy\n",
    "* *Data type*: usually called `dtype` in Python libraries\n",
    "  * This is the type of the data contained in the tensor: `float32`, `float64`, `uint8`, and so on."
   ]
  },
  {
   "cell_type": "code",
   "execution_count": null,
   "metadata": {
    "colab": {
     "base_uri": "https://localhost:8080/"
    },
    "executionInfo": {
     "elapsed": 476,
     "status": "ok",
     "timestamp": 1646361542158,
     "user": {
      "displayName": "Sangheum Hwang",
      "photoUrl": "https://lh3.googleusercontent.com/a-/AOh14GhtqOw3hsZi5PhH_iEySd-ET3W-tZTVnyY_dax5-g=s64",
      "userId": "12292317320178717925"
     },
     "user_tz": -540
    },
    "id": "OO2kX-fzrkoP",
    "outputId": "d621a1da-ea55-4c0d-89f5-53cbba59c6d0"
   },
   "outputs": [
    {
     "name": "stdout",
     "output_type": "stream",
     "text": [
      "3\n"
     ]
    }
   ],
   "source": [
    "from tensorflow.keras.datasets import mnist\n",
    "(train_images, train_labels), (test_images, test_labels) = mnist.load_data()\n",
    "\n",
    "print(train_images.ndim)"
   ]
  },
  {
   "cell_type": "code",
   "execution_count": null,
   "metadata": {
    "colab": {
     "base_uri": "https://localhost:8080/"
    },
    "executionInfo": {
     "elapsed": 25,
     "status": "ok",
     "timestamp": 1646361542159,
     "user": {
      "displayName": "Sangheum Hwang",
      "photoUrl": "https://lh3.googleusercontent.com/a-/AOh14GhtqOw3hsZi5PhH_iEySd-ET3W-tZTVnyY_dax5-g=s64",
      "userId": "12292317320178717925"
     },
     "user_tz": -540
    },
    "id": "USHO4u3jrtBI",
    "outputId": "a2a1a17a-5976-4bf0-919a-474705ed00c1"
   },
   "outputs": [
    {
     "name": "stdout",
     "output_type": "stream",
     "text": [
      "(60000, 28, 28)\n"
     ]
    }
   ],
   "source": [
    "print(train_images.shape)"
   ]
  },
  {
   "cell_type": "code",
   "execution_count": null,
   "metadata": {
    "colab": {
     "base_uri": "https://localhost:8080/"
    },
    "executionInfo": {
     "elapsed": 24,
     "status": "ok",
     "timestamp": 1646361542160,
     "user": {
      "displayName": "Sangheum Hwang",
      "photoUrl": "https://lh3.googleusercontent.com/a-/AOh14GhtqOw3hsZi5PhH_iEySd-ET3W-tZTVnyY_dax5-g=s64",
      "userId": "12292317320178717925"
     },
     "user_tz": -540
    },
    "id": "jxBbNqG5rvyo",
    "outputId": "8f5b734c-c331-4e05-986b-5b0c31b4c545"
   },
   "outputs": [
    {
     "name": "stdout",
     "output_type": "stream",
     "text": [
      "uint8\n"
     ]
    }
   ],
   "source": [
    "print(train_images.dtype)"
   ]
  },
  {
   "cell_type": "markdown",
   "metadata": {
    "id": "Dpqa-2c2r66H"
   },
   "source": [
    "* So, our `train_images` is a 3D tensor of 8-bit integers.\n",
    "* More precisely, it is an array of 60,000 matrics of 28\\*28 integers.\n",
    "* Each matrix is a grayscale images, with elements between 0 and 255."
   ]
  },
  {
   "cell_type": "code",
   "execution_count": null,
   "metadata": {
    "colab": {
     "base_uri": "https://localhost:8080/",
     "height": 452
    },
    "executionInfo": {
     "elapsed": 20,
     "status": "ok",
     "timestamp": 1646361542160,
     "user": {
      "displayName": "Sangheum Hwang",
      "photoUrl": "https://lh3.googleusercontent.com/a-/AOh14GhtqOw3hsZi5PhH_iEySd-ET3W-tZTVnyY_dax5-g=s64",
      "userId": "12292317320178717925"
     },
     "user_tz": -540
    },
    "id": "LhHCStEasvvC",
    "outputId": "37178e8d-30e3-4c37-826b-72339d96d334"
   },
   "outputs": [
    {
     "data": {
      "image/png": "[encoded data removed]",
      "text/plain": [
       "<Figure size 640x480 with 1 Axes>"
      ]
     },
     "metadata": {},
     "output_type": "display_data"
    }
   ],
   "source": [
    "visualize_mnist(train_images[4], train_labels[4])"
   ]
  },
  {
   "cell_type": "markdown",
   "metadata": {
    "id": "D847cuqis3IP"
   },
   "source": [
    "> ### Manipulating tensors in Numpy\n"
   ]
  },
  {
   "cell_type": "markdown",
   "metadata": {
    "id": "BBOiwLRxqN9T"
   },
   "source": [
    "* In the previous example, we selected a specific digit alongside the first axis using the syntax `train_images[i]`.\n",
    "* Selecting specific elements in a tensor is called *tensor slicing*."
   ]
  },
  {
   "cell_type": "code",
   "execution_count": null,
   "metadata": {
    "colab": {
     "base_uri": "https://localhost:8080/"
    },
    "executionInfo": {
     "elapsed": 18,
     "status": "ok",
     "timestamp": 1646361542161,
     "user": {
      "displayName": "Sangheum Hwang",
      "photoUrl": "https://lh3.googleusercontent.com/a-/AOh14GhtqOw3hsZi5PhH_iEySd-ET3W-tZTVnyY_dax5-g=s64",
      "userId": "12292317320178717925"
     },
     "user_tz": -540
    },
    "id": "LD87n_a1uVPO",
    "outputId": "d4eedfcf-7081-41e5-f6f0-d8a21fddd89c"
   },
   "outputs": [
    {
     "name": "stdout",
     "output_type": "stream",
     "text": [
      "(90, 28, 28)\n"
     ]
    }
   ],
   "source": [
    "my_slice = train_images[10:100]\n",
    "print(my_slice.shape)"
   ]
  },
  {
   "cell_type": "code",
   "execution_count": null,
   "metadata": {
    "colab": {
     "base_uri": "https://localhost:8080/"
    },
    "executionInfo": {
     "elapsed": 14,
     "status": "ok",
     "timestamp": 1646361542161,
     "user": {
      "displayName": "Sangheum Hwang",
      "photoUrl": "https://lh3.googleusercontent.com/a-/AOh14GhtqOw3hsZi5PhH_iEySd-ET3W-tZTVnyY_dax5-g=s64",
      "userId": "12292317320178717925"
     },
     "user_tz": -540
    },
    "id": "cLah2RwfufSH",
    "outputId": "5eb757ff-fa96-4e7d-8f33-be97a4966820"
   },
   "outputs": [
    {
     "name": "stdout",
     "output_type": "stream",
     "text": [
      "(90, 28, 28)\n",
      "(90, 28, 28)\n"
     ]
    }
   ],
   "source": [
    "my_slice = train_images[10:100, :, :] # : is equivalent to selecting the entire axis.\n",
    "print(my_slice.shape)\n",
    "\n",
    "my_slice = train_images[10:100, 0:28, 0:28]\n",
    "print(my_slice.shape)"
   ]
  },
  {
   "cell_type": "markdown",
   "metadata": {
    "id": "yrnuwc6xvCv1"
   },
   "source": [
    "* If you want to select 14\\*14 pixels in the bottom-right corner of all images:"
   ]
  },
  {
   "cell_type": "code",
   "execution_count": null,
   "metadata": {
    "colab": {
     "base_uri": "https://localhost:8080/"
    },
    "executionInfo": {
     "elapsed": 12,
     "status": "ok",
     "timestamp": 1646361542162,
     "user": {
      "displayName": "Sangheum Hwang",
      "photoUrl": "https://lh3.googleusercontent.com/a-/AOh14GhtqOw3hsZi5PhH_iEySd-ET3W-tZTVnyY_dax5-g=s64",
      "userId": "12292317320178717925"
     },
     "user_tz": -540
    },
    "id": "7h3YujeivT6w",
    "outputId": "50084231-313e-418e-8bcd-a3134e10e872"
   },
   "outputs": [
    {
     "name": "stdout",
     "output_type": "stream",
     "text": [
      "(60000, 14, 14)\n"
     ]
    }
   ],
   "source": [
    "my_slice = train_images[:, 14:, 14:]\n",
    "print(my_slice.shape)"
   ]
  },
  {
   "cell_type": "code",
   "execution_count": null,
   "metadata": {
    "colab": {
     "base_uri": "https://localhost:8080/",
     "height": 452
    },
    "executionInfo": {
     "elapsed": 732,
     "status": "ok",
     "timestamp": 1646361542885,
     "user": {
      "displayName": "Sangheum Hwang",
      "photoUrl": "https://lh3.googleusercontent.com/a-/AOh14GhtqOw3hsZi5PhH_iEySd-ET3W-tZTVnyY_dax5-g=s64",
      "userId": "12292317320178717925"
     },
     "user_tz": -540
    },
    "id": "yUN_86p1vdrd",
    "outputId": "501a8e6e-97ec-48ad-c353-853bf5cabafa"
   },
   "outputs": [
    {
     "data": {
      "image/png": "[encoded data removed]",
      "text/plain": [
       "<Figure size 640x480 with 1 Axes>"
      ]
     },
     "metadata": {},
     "output_type": "display_data"
    }
   ],
   "source": [
    "visualize_mnist(my_slice[4], train_labels[4])"
   ]
  },
  {
   "cell_type": "markdown",
   "metadata": {
    "id": "EkFYbluLvi0j"
   },
   "source": [
    "* It is also possible to use negative indices.\n",
    "* Negative indices indicate a position relative to the end of the current axis.\n",
    "* For example, if you want to crop the images to patches of 14\\*14 pixels centered in the middle:"
   ]
  },
  {
   "cell_type": "code",
   "execution_count": null,
   "metadata": {
    "colab": {
     "base_uri": "https://localhost:8080/"
    },
    "executionInfo": {
     "elapsed": 11,
     "status": "ok",
     "timestamp": 1646361542886,
     "user": {
      "displayName": "Sangheum Hwang",
      "photoUrl": "https://lh3.googleusercontent.com/a-/AOh14GhtqOw3hsZi5PhH_iEySd-ET3W-tZTVnyY_dax5-g=s64",
      "userId": "12292317320178717925"
     },
     "user_tz": -540
    },
    "id": "SxPwLDR-567R",
    "outputId": "ff0ee708-d266-41bb-bd55-d6b9fc4f23dd"
   },
   "outputs": [
    {
     "data": {
      "text/plain": [
       "4"
      ]
     },
     "execution_count": 38,
     "metadata": {},
     "output_type": "execute_result"
    }
   ],
   "source": [
    "np.array([0,1,2,3,4,5])[-2]"
   ]
  },
  {
   "cell_type": "code",
   "execution_count": null,
   "metadata": {
    "colab": {
     "base_uri": "https://localhost:8080/"
    },
    "executionInfo": {
     "elapsed": 9,
     "status": "ok",
     "timestamp": 1646361542886,
     "user": {
      "displayName": "Sangheum Hwang",
      "photoUrl": "https://lh3.googleusercontent.com/a-/AOh14GhtqOw3hsZi5PhH_iEySd-ET3W-tZTVnyY_dax5-g=s64",
      "userId": "12292317320178717925"
     },
     "user_tz": -540
    },
    "id": "EGzINjluv1NV",
    "outputId": "8db9d6cf-7b52-4036-9211-1850a7b1552f"
   },
   "outputs": [
    {
     "name": "stdout",
     "output_type": "stream",
     "text": [
      "(60000, 14, 14)\n"
     ]
    }
   ],
   "source": [
    "my_slice = train_images[:, 7:-7, 7:-7]\n",
    "print(my_slice.shape)"
   ]
  },
  {
   "cell_type": "code",
   "execution_count": null,
   "metadata": {
    "colab": {
     "base_uri": "https://localhost:8080/",
     "height": 452
    },
    "executionInfo": {
     "elapsed": 8,
     "status": "ok",
     "timestamp": 1646361542887,
     "user": {
      "displayName": "Sangheum Hwang",
      "photoUrl": "https://lh3.googleusercontent.com/a-/AOh14GhtqOw3hsZi5PhH_iEySd-ET3W-tZTVnyY_dax5-g=s64",
      "userId": "12292317320178717925"
     },
     "user_tz": -540
    },
    "id": "o7hVpAAzv7Sz",
    "outputId": "cea76fc7-a1ea-41e0-fe65-798234674ee9"
   },
   "outputs": [
    {
     "data": {
      "image/png": "[encoded data removed]",
      "text/plain": [
       "<Figure size 640x480 with 1 Axes>"
      ]
     },
     "metadata": {},
     "output_type": "display_data"
    }
   ],
   "source": [
    "visualize_mnist(my_slice[4], train_labels[4])"
   ]
  },
  {
   "cell_type": "markdown",
   "metadata": {
    "id": "u7kF_B5Bv_uA"
   },
   "source": [
    "> ### The notion of data batches"
   ]
  },
  {
   "cell_type": "markdown",
   "metadata": {
    "id": "M4zN5rjCqLVW"
   },
   "source": [
    "* In general, the first axis in all data tensors you'll come across in deep learning will be the *samples axis* (sometimes called the *samples dimension*, *batch axis* or *batch dimension*).\n",
    "* In addition, deep learning models don't process an entire dataset at once: rather, they break the data into small batches."
   ]
  },
  {
   "cell_type": "code",
   "execution_count": null,
   "metadata": {
    "id": "J2s7IIiAwply"
   },
   "outputs": [],
   "source": [
    "for i in range(10):\n",
    "  batch = train_images[128*i : 128*(i+1)] # batch size of 128\n",
    "  # process something"
   ]
  },
  {
   "cell_type": "markdown",
   "metadata": {
    "id": "Ms1B1vooxEv4"
   },
   "source": [
    "> ### Real-world examples of data tensors\n"
   ]
  },
  {
   "cell_type": "markdown",
   "metadata": {
    "id": "mtr7mfa3qI65"
   },
   "source": [
    "* Vector data - 2D tensors of shape `(samples, features)`\n",
    "* Timeseries data or sequence data - 3D tensors of shape `(samples, timesteps, features)`\n",
    "<img src=\"https://drive.google.com/uc?id=1-3Fn2PJjCWXMsROQMQ3qB62aRmRqbm74\" width=\"800\">\n",
    "    \n",
    "  * A dataset of stock prices\n",
    "  * A dataset of tweets\n",
    "\n",
    "* Images - 4D tensors of shape `(samples, height, width, channels)` or `(samples, channels, height, width)`\n",
    "<img src=\"https://drive.google.com/uc?id=1-EK02MdPsB4MOmHf1dPENTUPkKpqZR3b\" width=\"800\">\n",
    "   \n",
    "  * A batch of 128 color images could be stored in a tensor of shape `(128, 256, 256, 3)`.\n",
    "  * There are two conventions for shapes of images tensors: the *channels-last* convention and the *channels-first* convention.\n",
    "  * For example, in Tensorflow, https://www.tensorflow.org/api_docs/python/tf/nn/convolution\n",
    "* Video - 5D tensors of shape `(samples, frames, height, width, channels)` or `(samples, frames, channels, height, width)`\n",
    "  * Each frame can be stored in a 3D tensor `(height, width, channels)`, a sequence of frames can be stored in a 4D tensor `(frames, height, width, channels)`, and thus a batch of different videos can be stored in a 5D tensor of shape `(samples, frames, height, width, channels)`.\n",
    "  * For instance, a 60-second, 144\\*256 YouTube video clip samples at 4 frames per second would have 240 frames. A batch of four such video clips would be stored in a tensor of shape `(4, 240, 144, 256, 3)`. --> A total of 106,168,320 values!\n",
    "  * If the `dtype` of the tensor was `float32`, then each value would be stored in 32 bits, so the tensor would represent 405MB."
   ]
  },
  {
   "cell_type": "markdown",
   "metadata": {
    "id": "TGLA4yN-xyUG"
   },
   "source": [
    "## The gears of neural networks: tensor operations"
   ]
  },
  {
   "cell_type": "markdown",
   "metadata": {
    "id": "1K2JXLQ5qGDs"
   },
   "source": [
    "* All transformations learned by deep neural networks can be reduced to a handful of *tensor operations* applied to tensors of numeric data.\n",
    "* In our initial example, we were building our network by stacking `Dense` layers on top of each other.\n",
    "  * `keras.layers.Dense(512, activation='relu')`\n",
    "* This layer can be interpreted as a function. Specifically, the function is:\n",
    "  * `output = relu(dot(W, input) + b)` where `W` is a 2D tensor and `b` is a vector.\n",
    "  * We have three tensor operations here:\n",
    "    * A dot product (`dot`) between the input tensor and a tensor named `W`\n",
    "    * An addition (`+`) between the resulting 2D tensor and a vector `b`\n",
    "    * A `relu` operation of `relu(x)=max(x, 0)`"
   ]
  },
  {
   "cell_type": "markdown",
   "metadata": {
    "id": "6tI8LlM-7BFt"
   },
   "source": [
    "> ### Element-wise operations\n"
   ]
  },
  {
   "cell_type": "markdown",
   "metadata": {
    "id": "7c2yZXTfqDh0"
   },
   "source": [
    "* The `relu` operation and addtion are `element-wise` operations.\n",
    "* If we write a naive Python implementation of `relu` using `for` loop:"
   ]
  },
  {
   "cell_type": "code",
   "execution_count": null,
   "metadata": {
    "id": "LFixA7Rj7kzI"
   },
   "outputs": [],
   "source": [
    "def naive_relu(x):\n",
    "  assert len(x.shape) == 2 # x is a 2D Numpy tensor.\n",
    "  \n",
    "  x = x.copy() # to avoid overwriting the input tensor\n",
    "  for i in range(x.shape[0]):\n",
    "    for j in range(x.shape[1]):\n",
    "      x[i, j] = max(x[i, j], 0)\n",
    "  return x"
   ]
  },
  {
   "cell_type": "markdown",
   "metadata": {
    "id": "8exTX9Ao74WA"
   },
   "source": [
    "* We can do the same thing for addtion:"
   ]
  },
  {
   "cell_type": "code",
   "execution_count": null,
   "metadata": {
    "id": "HXFYatKr78tn"
   },
   "outputs": [],
   "source": [
    "def naive_add(x, y):\n",
    "  assert len(x.shape) == 2\n",
    "  assert x.shape == y.shape\n",
    "  \n",
    "  x = x.copy()\n",
    "  for i in range(x.shape[0]):\n",
    "    for j in range(x.shape[1]):\n",
    "      x[i, j] += y[i, j]\n",
    "  return x"
   ]
  },
  {
   "cell_type": "markdown",
   "metadata": {
    "id": "u4ndd4JE8LAy"
   },
   "source": [
    "* In practice, these operations are provided as built-in Numpy functions, which are well-optimized via BLAS (Basic Linear Algebra Subprograms) implemented in Fortran or C.\n",
    "* So, in Numpy, you can do the following element-wise operations very efficiently.\n",
    "  ```python\n",
    "  import numpy as np\n",
    "  z = x+y\n",
    "  z = np.maximum(z, 0.)\n",
    "  ```\n",
    "  "
   ]
  },
  {
   "cell_type": "markdown",
   "metadata": {
    "id": "oC87sDNB8zo5"
   },
   "source": [
    "> ### Broadcasting"
   ]
  },
  {
   "cell_type": "markdown",
   "metadata": {
    "id": "4ClFpsFhqA4d"
   },
   "source": [
    "* What happens with addition when the shapes of the two tensors being added differ?\n",
    "  * In our `naive_add` implementation, it only supports the addition of 2D tensors with identical shapes.\n",
    "* When possible, and if there's no ambiguity, the smaller tensor will be *broadcasted* to match the shape of the larger tensor.\n",
    "* Broadcasting consists of two steps:\n",
    "  * Axes (called *broadcast axes*) are added to the smaller tensor to match the `ndim` of the larger tensor.\n",
    "  * The smaller tensor is repeated alognside these new axes to match the full shape of the larger tensor.\n",
    "* For example, consider `X` with shape `(32, 10)` and `y` with shape `(10,)`.\n",
    "  * First, we add an empty first axis to `y`. --> The shape of `y` becomes `(1,10)`.\n",
    "  * Then, we repeat `y` 32 times alongside this new axis. --> We get `Y` with shape of `(32,10)` where `Y[i, :] == y` for `i` in `range(0,32)`.\n",
    "  * Now, we can proceed to add `X` and `Y`.\n",
    "* Note that the repetition operation is entirely virtual: it happens at the algorithmic level rather than at the memory level.\n",
    "* Here is what a naive implementation would look like:"
   ]
  },
  {
   "cell_type": "code",
   "execution_count": null,
   "metadata": {
    "id": "qliUUqF5_DHS"
   },
   "outputs": [],
   "source": [
    "def naive_add_matrix_and_vector(x, y):\n",
    "  assert len(x.shape) == 2\n",
    "  assert len(y.shape) == 1\n",
    "  assert x.shape[1] == y.shape[0]\n",
    "  \n",
    "  x = x.copy()\n",
    "  for i in range(x.shape[0]):\n",
    "    for j in range(x.shape[1]):\n",
    "      x[i, j] += y[j]\n",
    "  return x"
   ]
  },
  {
   "cell_type": "markdown",
   "metadata": {
    "id": "YD8aay-N_SBs"
   },
   "source": [
    "* With broadcasting, we can generally apply two-tensor element-wise operations if one tensor has shape `(a, b, ..., n, n+1, ..., m)` and the other has shape `(n, n+1, ..., m)`.\n",
    "* The broadcasting will then automatically happen for axes `a` through `n-1`.\n",
    "* Example: the element-wise `maximum` operation to two tensors of different shapes via broadcasting"
   ]
  },
  {
   "cell_type": "code",
   "execution_count": null,
   "metadata": {
    "id": "wvn3eRzrAA7n"
   },
   "outputs": [],
   "source": [
    "import numpy as np\n",
    "\n",
    "x = np.random.random((64, 3, 32, 10))\n",
    "y = np.random.random((10,))\n",
    "z = np.maximum(x, y)"
   ]
  },
  {
   "cell_type": "markdown",
   "metadata": {
    "id": "m-VSmeIqAH6L"
   },
   "source": [
    "> ### Tensor dot"
   ]
  },
  {
   "cell_type": "markdown",
   "metadata": {
    "id": "Oxd1DyF5p-A6"
   },
   "source": [
    "* The dot operation, also called a *tensor product* is the most common, most useful tensor operation.\n",
    "* An element-wise product is done with the `*` operator in most libraries including Numpy, Keras, and Tensorflow.\n",
    "* In both Numpy ans Keras, the dot operation uses the standard `dot` operator.\n",
    "  ```python\n",
    "  import numpy as np\n",
    "  z = np.dot(x, y)\n",
    "  ```\n",
    "* The dot product of two vectors `x` and `y`"
   ]
  },
  {
   "cell_type": "code",
   "execution_count": null,
   "metadata": {
    "id": "3g5cx3AgCc75"
   },
   "outputs": [],
   "source": [
    "def naive_vector_dot(x, y):\n",
    "  assert len(x.shape) == 1\n",
    "  assert len(y.shape) == 1\n",
    "  assert x.shape[0] == y.shape[0]\n",
    "  \n",
    "  z = 0.\n",
    "  for i in range(x.shape[0]):\n",
    "    z += x[i] * y[i]\n",
    "  return z"
   ]
  },
  {
   "cell_type": "markdown",
   "metadata": {
    "id": "ftDDYewrCpug"
   },
   "source": [
    "* The dot product between a matrix `x` and a vector `y`"
   ]
  },
  {
   "cell_type": "code",
   "execution_count": null,
   "metadata": {
    "id": "Yl9UwdNVCyyM"
   },
   "outputs": [],
   "source": [
    "import numpy as np\n",
    "\n",
    "def naive_matrix_vector_dot(x, y):\n",
    "  assert len(x.shape) == 2\n",
    "  assert len(y.shape) == 1\n",
    "  assert x.shape[1] == y.shape[0] # Note that if x is a shape of (m,n), \n",
    "                                  # then y should be a shape of (n,).\n",
    "  \n",
    "  z = np.zeros(x.shape[0])\n",
    "  for i in range(x.shape[0]):\n",
    "    for j in range(x.shape[1]):\n",
    "      z[i] += x[i, j] * y[j]\n",
    "  return z"
   ]
  },
  {
   "cell_type": "code",
   "execution_count": null,
   "metadata": {
    "id": "AGnd4ZSfDS1A"
   },
   "outputs": [],
   "source": [
    "def naive_matrix_vector_dot(x, y):\n",
    "  z = np.zeros(x.shape[0])\n",
    "  for i in range(x.shape[0]):\n",
    "    z[i] = naive_vector_dot(x[i, :], y)\n",
    "  return z"
   ]
  },
  {
   "cell_type": "markdown",
   "metadata": {
    "id": "keW8aV11DiBS"
   },
   "source": [
    "* Note that if one of two tensors has an `ndim` greater than 1, `dot` operations is no longer symmetric: `dot(x, y) != dot(y, x)`.\n",
    "* The dot product of two matrices `x` and `y`, `dot(x, y)`\n",
    "  * It can be computed if and only if `x.shape[1] == y.shape[0]`.\n",
    "  * The result is a matrix with shape `(x.shape[0], y.shape[1])`, where the coefficients are the vector products between the rows of `x` and the columns of `y`.\n",
    "<img src=\"https://drive.google.com/uc?id=1-JJJvURzHAvBvwUB7W2uU7U_DchkxJ9C\" width=\"800\">\n",
    "\n"
   ]
  },
  {
   "cell_type": "code",
   "execution_count": null,
   "metadata": {
    "id": "JC7AQCooEuzg"
   },
   "outputs": [],
   "source": [
    "def naive_matrix_dot(x, y):\n",
    "  assert len(x.shape) == 2\n",
    "  assert len(y.shape) == 2\n",
    "  assert x.shape[1] == y.shape[0]\n",
    "  \n",
    "  z = np.zeros((x.shape[0], y.shape[1]))\n",
    "  for i in range(x.shape[0]):\n",
    "    for j in range(y.shape[1]):\n",
    "      row_x = x[i, :]\n",
    "      column_y = y[:, j]\n",
    "      z[i, j] = naive_vector_dot(row_x, column_y)\n",
    "  return z"
   ]
  },
  {
   "cell_type": "markdown",
   "metadata": {
    "id": "mf1aj03AF6kZ"
   },
   "source": [
    "* More generally, we can take the dot product between higher-dimensional tensors.\n",
    "```\n",
    "(a, b, c, d) . (d,) --> (a, b, c)\n",
    "(a, b, c, d) . (d, e) --> (a, b, c, e)\n",
    "```"
   ]
  },
  {
   "cell_type": "markdown",
   "metadata": {
    "id": "BZQA3HXqGS7a"
   },
   "source": [
    "> ### Tensor reshaping"
   ]
  },
  {
   "cell_type": "markdown",
   "metadata": {
    "id": "LTREzA2_p6ik"
   },
   "source": [
    "* In our first neural network example, we used *reshaping* operation when we preprocessed the digits data before feeding it into the network.\n",
    "```python\n",
    "train_images = train_images.reshape((60000, 28*28))\n",
    "```\n",
    "* Reshaping means rearranging its rows and columns to match a target shape."
   ]
  },
  {
   "cell_type": "code",
   "execution_count": null,
   "metadata": {
    "colab": {
     "base_uri": "https://localhost:8080/"
    },
    "executionInfo": {
     "elapsed": 36,
     "status": "ok",
     "timestamp": 1646361543511,
     "user": {
      "displayName": "Sangheum Hwang",
      "photoUrl": "https://lh3.googleusercontent.com/a-/AOh14GhtqOw3hsZi5PhH_iEySd-ET3W-tZTVnyY_dax5-g=s64",
      "userId": "12292317320178717925"
     },
     "user_tz": -540
    },
    "id": "H3IvSElBGzu5",
    "outputId": "508d1240-6a38-4d5a-f05a-ae8700c040be"
   },
   "outputs": [
    {
     "name": "stdout",
     "output_type": "stream",
     "text": [
      "(3, 2)\n"
     ]
    }
   ],
   "source": [
    "x = np.array([ [0, 1],\n",
    "               [2, 3],\n",
    "               [4, 5] ])\n",
    "print(x.shape)"
   ]
  },
  {
   "cell_type": "code",
   "execution_count": null,
   "metadata": {
    "colab": {
     "base_uri": "https://localhost:8080/"
    },
    "executionInfo": {
     "elapsed": 34,
     "status": "ok",
     "timestamp": 1646361543512,
     "user": {
      "displayName": "Sangheum Hwang",
      "photoUrl": "https://lh3.googleusercontent.com/a-/AOh14GhtqOw3hsZi5PhH_iEySd-ET3W-tZTVnyY_dax5-g=s64",
      "userId": "12292317320178717925"
     },
     "user_tz": -540
    },
    "id": "iB0vFXJwG-WH",
    "outputId": "f601e3b9-d632-41af-de82-f4a8143b9a83"
   },
   "outputs": [
    {
     "name": "stdout",
     "output_type": "stream",
     "text": [
      "[[0]\n",
      " [1]\n",
      " [2]\n",
      " [3]\n",
      " [4]\n",
      " [5]]\n"
     ]
    }
   ],
   "source": [
    "x = x.reshape((6, 1))\n",
    "print(x)"
   ]
  },
  {
   "cell_type": "code",
   "execution_count": null,
   "metadata": {
    "colab": {
     "base_uri": "https://localhost:8080/"
    },
    "executionInfo": {
     "elapsed": 31,
     "status": "ok",
     "timestamp": 1646361543513,
     "user": {
      "displayName": "Sangheum Hwang",
      "photoUrl": "https://lh3.googleusercontent.com/a-/AOh14GhtqOw3hsZi5PhH_iEySd-ET3W-tZTVnyY_dax5-g=s64",
      "userId": "12292317320178717925"
     },
     "user_tz": -540
    },
    "id": "PvB77tY1HBoC",
    "outputId": "dfc30c6e-760d-48cf-896a-2479553f41d4"
   },
   "outputs": [
    {
     "name": "stdout",
     "output_type": "stream",
     "text": [
      "[[0 1 2]\n",
      " [3 4 5]]\n"
     ]
    }
   ],
   "source": [
    "x = x.reshape((2, 3))\n",
    "print(x)"
   ]
  },
  {
   "cell_type": "code",
   "execution_count": null,
   "metadata": {
    "colab": {
     "base_uri": "https://localhost:8080/",
     "height": 184
    },
    "executionInfo": {
     "elapsed": 32,
     "status": "error",
     "timestamp": 1646361543517,
     "user": {
      "displayName": "Sangheum Hwang",
      "photoUrl": "https://lh3.googleusercontent.com/a-/AOh14GhtqOw3hsZi5PhH_iEySd-ET3W-tZTVnyY_dax5-g=s64",
      "userId": "12292317320178717925"
     },
     "user_tz": -540
    },
    "id": "jUSZ4MlUHF6X",
    "outputId": "c7dbb8c0-6c19-4530-c1e0-11cc6bcd0673"
   },
   "outputs": [
    {
     "ename": "ValueError",
     "evalue": "ignored",
     "output_type": "error",
     "traceback": [
      "\u001b[0;31m---------------------------------------------------------------------------\u001b[0m",
      "\u001b[0;31mValueError\u001b[0m                                Traceback (most recent call last)",
      "\u001b[0;32m<ipython-input-53-4a57eba2433c>\u001b[0m in \u001b[0;36m<module>\u001b[0;34m()\u001b[0m\n\u001b[0;32m----> 1\u001b[0;31m \u001b[0mx\u001b[0m \u001b[0;34m=\u001b[0m \u001b[0mx\u001b[0m\u001b[0;34m.\u001b[0m\u001b[0mreshape\u001b[0m\u001b[0;34m(\u001b[0m\u001b[0;34m(\u001b[0m\u001b[0;36m3\u001b[0m\u001b[0;34m,\u001b[0m \u001b[0;36m4\u001b[0m\u001b[0;34m)\u001b[0m\u001b[0;34m)\u001b[0m\u001b[0;34m\u001b[0m\u001b[0;34m\u001b[0m\u001b[0m\n\u001b[0m\u001b[1;32m      2\u001b[0m \u001b[0mprint\u001b[0m\u001b[0;34m(\u001b[0m\u001b[0mx\u001b[0m\u001b[0;34m)\u001b[0m\u001b[0;34m\u001b[0m\u001b[0;34m\u001b[0m\u001b[0m\n",
      "\u001b[0;31mValueError\u001b[0m: cannot reshape array of size 6 into shape (3,4)"
     ]
    }
   ],
   "source": [
    "x = x.reshape((3, 4))\n",
    "print(x)"
   ]
  },
  {
   "cell_type": "markdown",
   "metadata": {
    "id": "rmmfnZq7HJfL"
   },
   "source": [
    "* A special case of reshaping is *transposition*.\n",
    "* *Transposing* a matrix means exchanging its rows and its columns, so that `x[i, :] --> x[:, i]`."
   ]
  },
  {
   "cell_type": "code",
   "execution_count": null,
   "metadata": {
    "colab": {
     "base_uri": "https://localhost:8080/"
    },
    "executionInfo": {
     "elapsed": 541,
     "status": "ok",
     "timestamp": 1646361576024,
     "user": {
      "displayName": "Sangheum Hwang",
      "photoUrl": "https://lh3.googleusercontent.com/a-/AOh14GhtqOw3hsZi5PhH_iEySd-ET3W-tZTVnyY_dax5-g=s64",
      "userId": "12292317320178717925"
     },
     "user_tz": -540
    },
    "id": "EA502YgRHemS",
    "outputId": "6a27edd2-c804-482c-c2cd-33be16dc8f1a"
   },
   "outputs": [
    {
     "name": "stdout",
     "output_type": "stream",
     "text": [
      "(20, 300)\n"
     ]
    }
   ],
   "source": [
    "x = np.zeros((300, 20))\n",
    "x = np.transpose(x)\n",
    "print(x.shape)"
   ]
  },
  {
   "cell_type": "markdown",
   "metadata": {
    "id": "mxLAeiPuHh4w"
   },
   "source": [
    "> ### Geometric interpretation of tensor operations"
   ]
  },
  {
   "cell_type": "markdown",
   "metadata": {
    "id": "_8ibzJHep3Im"
   },
   "source": [
    "* The contents of the tensors manipulated by tensor operations --> coordinates of points in some geometric space.\n",
    "* Therefore, all tensor operations have a geometric interpretation.\n",
    "* Geometric interpretation of the sum of two vectors\n",
    "<img src=\"https://drive.google.com/uc?id=1-Kl6QeLYfXli-lfOiJTC0yzrmtUVGqHX\" width=\"800\">\n",
    "\n",
    "* In general, elementary geometric operations such as affine transformations, rotations, scaling, and so on can be expressed as tensor operations.\n",
    "* For example, a rotation of a 2D vector by an angle $\\theta$ can be achieved via a dot product with a 2\\*2 matrix `R`, where\n",
    "  ```python\n",
    "  R = [ [cos(theta), -sin(theta)],\n",
    "        [sin(theta),  cos(theta)] ]\n",
    "  ```"
   ]
  },
  {
   "cell_type": "code",
   "execution_count": null,
   "metadata": {
    "colab": {
     "base_uri": "https://localhost:8080/"
    },
    "executionInfo": {
     "elapsed": 9,
     "status": "ok",
     "timestamp": 1646361576025,
     "user": {
      "displayName": "Sangheum Hwang",
      "photoUrl": "https://lh3.googleusercontent.com/a-/AOh14GhtqOw3hsZi5PhH_iEySd-ET3W-tZTVnyY_dax5-g=s64",
      "userId": "12292317320178717925"
     },
     "user_tz": -540
    },
    "id": "pYU_8FJBKo5-",
    "outputId": "5c800d2a-e213-4e1d-f673-7579189cc304"
   },
   "outputs": [
    {
     "name": "stdout",
     "output_type": "stream",
     "text": [
      "[0 2]\n"
     ]
    }
   ],
   "source": [
    "import numpy as np\n",
    "\n",
    "x = np.array([2, 0])\n",
    "rotation = np.array([ [0, -1],\n",
    "                      [1,  0] ])\n",
    "z = np.dot(rotation, x) # Careful about the order!\n",
    "print(z)"
   ]
  },
  {
   "cell_type": "code",
   "execution_count": null,
   "metadata": {
    "colab": {
     "base_uri": "https://localhost:8080/"
    },
    "executionInfo": {
     "elapsed": 7,
     "status": "ok",
     "timestamp": 1646361576025,
     "user": {
      "displayName": "Sangheum Hwang",
      "photoUrl": "https://lh3.googleusercontent.com/a-/AOh14GhtqOw3hsZi5PhH_iEySd-ET3W-tZTVnyY_dax5-g=s64",
      "userId": "12292317320178717925"
     },
     "user_tz": -540
    },
    "id": "vdtCYwiwWJMq",
    "outputId": "ded1f27a-3047-4474-fba3-53598aad4da3"
   },
   "outputs": [
    {
     "data": {
      "text/plain": [
       "array([ 0, -2])"
      ]
     },
     "execution_count": 56,
     "metadata": {},
     "output_type": "execute_result"
    }
   ],
   "source": [
    "np.dot(x, rotation)"
   ]
  },
  {
   "cell_type": "code",
   "execution_count": null,
   "metadata": {
    "colab": {
     "base_uri": "https://localhost:8080/"
    },
    "executionInfo": {
     "elapsed": 6,
     "status": "ok",
     "timestamp": 1646361576025,
     "user": {
      "displayName": "Sangheum Hwang",
      "photoUrl": "https://lh3.googleusercontent.com/a-/AOh14GhtqOw3hsZi5PhH_iEySd-ET3W-tZTVnyY_dax5-g=s64",
      "userId": "12292317320178717925"
     },
     "user_tz": -540
    },
    "id": "woy0DzXDYH2Q",
    "outputId": "66b61b48-ebee-4479-9847-9ced7476cdc4"
   },
   "outputs": [
    {
     "data": {
      "text/plain": [
       "array([[0, 0],\n",
       "       [2, 0]])"
      ]
     },
     "execution_count": 57,
     "metadata": {},
     "output_type": "execute_result"
    }
   ],
   "source": [
    "rotation * x"
   ]
  },
  {
   "cell_type": "code",
   "execution_count": null,
   "metadata": {
    "colab": {
     "base_uri": "https://localhost:8080/"
    },
    "executionInfo": {
     "elapsed": 5,
     "status": "ok",
     "timestamp": 1646361576026,
     "user": {
      "displayName": "Sangheum Hwang",
      "photoUrl": "https://lh3.googleusercontent.com/a-/AOh14GhtqOw3hsZi5PhH_iEySd-ET3W-tZTVnyY_dax5-g=s64",
      "userId": "12292317320178717925"
     },
     "user_tz": -540
    },
    "id": "AWJncRlSYWDQ",
    "outputId": "6e855d86-3916-4fb1-a67f-14a31c462559"
   },
   "outputs": [
    {
     "data": {
      "text/plain": [
       "array([[0, 0],\n",
       "       [2, 0]])"
      ]
     },
     "execution_count": 58,
     "metadata": {},
     "output_type": "execute_result"
    }
   ],
   "source": [
    "x * rotation"
   ]
  },
  {
   "cell_type": "markdown",
   "metadata": {
    "id": "jZXsO0_-LkT_"
   },
   "source": [
    "> ### A geometric interpretation of deep learning"
   ]
  },
  {
   "cell_type": "markdown",
   "metadata": {
    "id": "ceNUQZMupym1"
   },
   "source": [
    "* We just learned that neural networks consist entirely of chains of tensor operations and that all of these tensor operations are just geometric transformations of the input data.\n",
    "* We can interpret a neural network = very complex geometric transformation.\n",
    "<img src=\"https://drive.google.com/uc?id=1-PJdmPmJkvQkhNvgeYP_n8ur8MnH6b8B\" width=\"800\">\n"
   ]
  },
  {
   "cell_type": "markdown",
   "metadata": {
    "id": "qXSb2QewjcG8"
   },
   "source": [
    "## Gradient-based optimization"
   ]
  },
  {
   "cell_type": "markdown",
   "metadata": {
    "id": "y-RQLajNjlxi"
   },
   "source": [
    "* Recall that `output = relu(dot(W, input) + b)`\n",
    "  * Here, `W` and `b` are tensors called the *weights* or *trainable parameters* of the layer (the `kernel` and `bias`, respectively).\n",
    "  * These weights contain the information learned by the network from exposure of training data.\n",
    "* Initially, these weight tensors are filled with small random values, a step called *random initialization*. --> This will yield meaningless representations.\n",
    "* These weights will be gradually adjusted based on a feedback signal.\n",
    "* This gradual adjustment, also called *training*, is basically the learning that machine learning is all about.\n",
    "* In a *training loop*, we will do the following things, and repeat these steps as long as necessary:\n",
    "  * Step 1: Draw a batch of training samples `x` and corresponding targets `y`.\n",
    "  * Step 2: Run the network on `x` (a step called the *forward pass*) to obtain predictions `y_pred`.\n",
    "  * Step 3: Compute the loss of the network on the batch, a measure of the mismatch between `y_pred` and `y`.\n",
    "  * Step 4: Update all weights of the network in a way that slightly reduces the loss on this batch.\n",
    "* We'll eventually end up with a network that has a very low loss on its training data: a low mismatch between predictions `y_pred` and expected target `y`.\n",
    "* Step 1, 2, and 3 are straghtforward. The only difficult part is Step 4:\n",
    "  * Given an individual weight coefficient in the network, how can we compute whether the coefficient should be increased or decreased, and by how much?\n",
    "* Note that all operations used in the network are *differentiable*!. Therefore, we can compute the *gradient* of the loss with regard to the network's coefficients.\n",
    "  * Then, we can move the coefficients in the opposite direction from the gradient, thus decreasing the loss."
   ]
  },
  {
   "cell_type": "markdown",
   "metadata": {
    "id": "khBX1IFlnO__"
   },
   "source": [
    "> ### What is a derivative?"
   ]
  },
  {
   "cell_type": "markdown",
   "metadata": {
    "id": "akKOfkSCnbQT"
   },
   "source": [
    "* Consider a continuous and smooth function `f(x) = y`.\n",
    "  * Because the function is *continuous*, a small change in `x` can only result in a small change in `y`.\n",
    "\n",
    "* If you increase `x` by a small factor `epsilon_x`, this results in a small `epsilon_y` change to `y`:\n",
    "  * `f(x + epsilon_x) = y + epsilon_y`\n",
    "\n",
    "* In addition, because the function is *smooth*, when `epsilon_x` is small enough, around a certain point `p`, it is possible to approximate `f` as a linear function of slope `a`, so that `epsilon_y` becomes `a*epsilon_x`:\n",
    "  * `f(x + epsilon_x) = y + a*epsilon_x`\n",
    "  * Obviously, this linear approximation is valid only when `x` is close enough to `p`.\n",
    "\n",
    "* The slope `a` is called the *derivative* of `f` in `p`.\n",
    "  * If `a` is negative: a small change of `x` around `p` --> a decrease of `f(x)`.\n",
    "  * If `a` is positive: a small change of `x` around `p` --> an increase of `f(x)`.\n",
    "  * The absolute value of `a` (the *magnitude* of the derivative): how quickly this increase or decrease will happen.\n",
    "  <img src=\"https://drive.google.com/uc?id=1rQownb5NB1TLMirZzxusxmlp3DNHz3mf\" width=\"800\">\n",
    "\n",
    "  \n",
    "* For every differentiable function `f(x)`, there exists a derivative function `f'(x)` that maps values of `x` to the slope of the local linear approximation of `f` in those points.\n",
    "\n",
    "* If we know the derivative of `f`, then we just need to move `x` a little in the opposite direction from the derivative to reduce the value of `f(x)`."
   ]
  },
  {
   "cell_type": "markdown",
   "metadata": {
    "id": "EdcHOD4orPP8"
   },
   "source": [
    "> ### Derivative of a tensor operation: the gradient"
   ]
  },
  {
   "cell_type": "markdown",
   "metadata": {
    "id": "_iGhchgQrVdp"
   },
   "source": [
    "* A *gradient* is the derivative of a tensor operation.\n",
    "  * It is the generalization of the concept of derivatives to functions of multidimensional inputs.\n",
    "  \n",
    "* Consider an input vector `x`, a matrix `W`, a target `y`, and a loss function `loss`.\n",
    "  * We can use `W` to compute a target candidate `y_pred`, and compute the loss between `y_pred` and `y`. For example,\n",
    "    * `y_pred = dot(W, x)`\n",
    "    * `loss_value = loss(y_pred, y)`\n",
    "  * Since `x` and `y` are frozen, this can be interpreted as a function mapping values of `W` to loss values:\n",
    "    * `loss_value = f(W)`\n",
    "  \n",
    "* Suppose that the current value of `W` is `W0`.\n",
    "  * Then, the derivative of `f` in the point `W0` is a tensor `gradient(f)(W0)` with the same shape as `W`.\n",
    "  * Here, each coefficient `gradient(f)(W0)[i,j]` indicates the direction and magnitude of the change in `loss_value` when modifying `W0[i,j]`.\n",
    "  * The tensor `gradient(f)(W0)` is the gradient of the function `f(W) = loss_value` in `W0`.  \n",
    "  * We know that the derivative of a function `f(x)` of a single coefficient can be interpreted as the slope of the curve of `f`.\n",
    "  * Likewise, `gradient(f)(W0)` can be interpreted as the tensor describing the *slope* of `f(W)` around `W0`.\n",
    "  \n",
    "* Therefore, you can reduce `f(W)` by moving `W` in the opposite direction from the gradient:\n",
    "  * For example, `W1 = W0 - step*gradient(f)(W0)` where `step` is a small constant.\n",
    "  * Note that `step` is needed because `gradient(f)(W0)` only approximates the slope where we are close to `W0`."
   ]
  },
  {
   "cell_type": "markdown",
   "metadata": {
    "id": "e6-cpRTIwFJ1"
   },
   "source": [
    "> ### Stochastic gradient descent"
   ]
  },
  {
   "cell_type": "markdown",
   "metadata": {
    "id": "BUjTnETywJ3V"
   },
   "source": [
    "* We are dealing with a differentiable function, so we can compute its gradient.\n",
    "* It means that if we update the weights in the opposite direction from the gradient, the loss will be a little less every time.\n",
    "* Now, our training loop will consist of the following steps:\n",
    "  * Step 1: Draw a batch of training samples `x` and corresponding targets `y`.\n",
    "  * Step 2: Run the network on `x` to obtain predictions `y_pred`.\n",
    "  * Step 3: Compute the loss of the network on the batch, a measure of the mismatch between `y_pred` and `y`.\n",
    "  * Step 4: Compute the gradient of the loss with regard to the network's parameters (a *backward pass*)\n",
    "  * Step 5: Move the parameters a little in the opposite direction from the gradient - for example, `W -= step*gradient` - thus reducing the loss on the batch a bit.\n",
    "  \n",
    "* The above procedure for updating the weights is called *mini-batch stochastic gradient descent* (mini-batch SGD).\n",
    "  * The term *stochastic*: each batch of data is drawn at random.\n",
    "  * The below figure illustrates what happens in 1D, when the network has only one parameter and we have only one training sample.\n",
    "  <img src=\"https://drive.google.com/uc?id=1mtBfAtdl0-wzvPE8gJy61Hi236g3A-7j\" width=\"600\">\n",
    " \n",
    "  * As we can see, it is important to have a reasonable value for the `step` parameter.\n",
    "    * If it's too small, we need many iterations and it could get stuck in a local minimum.\n",
    "    * It it's too large, we may have completely random locations on the curve.\n",
    "    \n",
    "    <img src=\"https://drive.google.com/uc?id=1N3acIQyBtywasUvhIXoFp90PVa3YB41m\" width=\"600\">\n",
    "  \n",
    "    \n",
    "* *True SGD* VS *mini-batch SGD* VS *batch GD*\n",
    "\n",
    "* There exist multiple variants of SGD that differ by taking into account previous weight updates when computing the next weight update, rather than just looking at the current value of the gradients.\n",
    "  * SGD with momentum, AdaGrad, RMSProp, etc.\n",
    "  * Such variants are known as *optimization methods* or simply *optimizers*.\n",
    "  \n",
    "* The concept of *momentum*\n",
    "  * It addresses two issues with SGD: convergence speed and local minima\n",
    "  * Local minimum and global minimum\n",
    "  <img src=\"https://drive.google.com/uc?id=1mfADtWA7kRI6fhByqiPzOEjbYgw8cyFK\" width=\"600\">\n",
    "    \n",
    "  * We can avoid such local minimums by using momentum.\n",
    "  * Think of the optimization process as a small ball rolling down the loss curve.\n",
    "  * It is implemented by moving the ball at each step based not only the current slope value but also on the current velocity.\n",
    "  * In practice, it means updating the parameter `W` based not only the current gradient value but also on the previous parameter update:\n",
    "  ```python\n",
    "past_velocity = 0.\n",
    "momentum = 0.1\n",
    "while loss > 0.01:\n",
    "      w, loss, gradient = get_current_parameters()\n",
    "      velocity = past_velocity * momentum + learning_rate * gradient\n",
    "      w = w + momentum * velocity - learning_rate * gradient\n",
    "      past_velocity = velocity\n",
    "      update_parameter(w)\n",
    "  ```\n",
    "\n"
   ]
  },
  {
   "cell_type": "markdown",
   "metadata": {
    "id": "x_rUwEbJ4BJq"
   },
   "source": [
    "> ### Chaining derivatives: the Backpropagation algorithm"
   ]
  },
  {
   "cell_type": "markdown",
   "metadata": {
    "id": "B1O1KNXB5Mla"
   },
   "source": [
    "* Note that a neural network function consists of many tensor operations chained together, each of which has a simple, known derivative.\n",
    "\n",
    "* For example, consider a network `f` composed of three tensor operations, `a`, `b`, and `c`, with weight matrices `W1`, `W2`, and `W3`:\n",
    "  * `f(W1, W2, W3) = a(W1, b(W2, c(W3)))`\n",
    "  \n",
    "* Such a chain of functions can be derived using the following *chain rule*:\n",
    "  * `f(g(x)) = f'(g(x)) * g'(x)`\n",
    "  \n",
    "* Applying the chain rule to the computation of the gradient values of a neural network gives rise to an algorithm called *Backpropagation* (also called *reverse-mode differentiation*).\n",
    "  * It starts with the final loss value and works backward from the top layers to the bottom layers.\n",
    "  \n",
    "* Nowdays, modern frameworks that are capable of *symbolic differentiation* compute a gradient function for the chain automatically."
   ]
  },
  {
   "cell_type": "markdown",
   "metadata": {
    "id": "jnw12P1d81g9"
   },
   "source": [
    "## Summary"
   ]
  },
  {
   "cell_type": "markdown",
   "metadata": {
    "id": "0IIJ1Oux9PXQ"
   },
   "source": [
    "* *Learning* means finding a combination of model parameters that minimizes a loss function for a given set of training data samples and their corresponding targets.\n",
    "\n",
    "* Learning happens by drawing random batches of data samples and their targets, and computing the gradient of the network parameters with respect to the loss on the batch. The network parameters are then moved a bit (the magnitude of the move is defined by the learning rate) in the opposite direction from the gradient.\n",
    "\n",
    "* The entire learning process is made possible by the fact that neural networks are chains of differentiable tensor operations, and thus it is possible to apply the chain rule of derivation to find the gradient function mapping the current parameters and current batch of data to a gradient value.\n",
    "\n",
    "* Two key concepts you'll see frequently in future chapters are *loss* and *optimizers*. These are the two things you need to define before you begin feeding data into a network.\n",
    "\n",
    "* The *loss* in the quantity you'll attempt to minimize during training, so it should represent a measure of success for the task you're trying to solve.\n",
    "\n",
    "* The *optimizer* specifies the exact way in which the gradient of the loss will be used to update parameters: for instance, it could be the RMSProp optimizer, SGD with momentum, and so on."
   ]
  }
 ],
 "metadata": {
  "accelerator": "GPU",
  "colab": {
   "collapsed_sections": [
    "dbGDwo4AQFi-",
    "7UzzrFs3l7Bo",
    "TGLA4yN-xyUG",
    "qXSb2QewjcG8",
    "jnw12P1d81g9"
   ],
   "name": "lec03-3-first-neural-networks.ipynb",
   "provenance": [
    {
     "file_id": "1-GA4RXQPyAGWkvdBMBBGzOj61nUDNQes",
     "timestamp": 1552904168896
    }
   ]
  },
  "kernelspec": {
   "display_name": "Python 3",
   "name": "python3"
  }
 },
 "nbformat": 4,
 "nbformat_minor": 0
}
