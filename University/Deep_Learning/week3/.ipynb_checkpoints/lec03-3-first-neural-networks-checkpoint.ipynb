{
 "cells": [
  {
   "cell_type": "markdown",
   "metadata": {
    "id": "F4orxCkFOJZp"
   },
   "source": [
    "### Some useful Colab keyboard shorcuts \n",
    "  \n",
    "\n",
    "\n"
   ]
  },
  {
   "cell_type": "markdown",
   "metadata": {
    "id": "PgaVqnYyqiHL"
   },
   "source": [
    "  * Show keyboard shortcuts: `ctrl+M+H`"
   ]
  },
  {
   "cell_type": "markdown",
   "metadata": {
    "id": "Qs_vv0ihRMb5"
   },
   "source": [
    "---\n",
    "\n",
    "We'll begin this lecture with a practical example of a neural network to understand essential components and concepts. \n",
    "\n",
    "---"
   ]
  },
  {
   "cell_type": "markdown",
   "metadata": {
    "id": "dbGDwo4AQFi-"
   },
   "source": [
    "\n",
    "## A first look at a neural network\n",
    "  "
   ]
  },
  {
   "cell_type": "markdown",
   "metadata": {
    "id": "ES-0w15WqfsX"
   },
   "source": [
    "* An example of a neural network to learn to classify handwritten digits\n",
    "* We will use the MNIST dataset.\n",
    "  * 28*28 grayscale images, 10 categories\n",
    "  * 60,000 training images, 10,000 test images\n",
    "  * Refer to http://yann.lecun.com/exdb/mnist/\n",
    "  * Solving MNIST is like the \"hello world\" of deep learning\n",
    "* Note\n",
    "  * In ML, a category in a classification problem is called a *class*.\n",
    "  * Data points are called *samples*.\n",
    "  * The class associated with a specific sample is called a *label*, *target* or *ground truth*.\n",
    "* First, let's look into the MNIST dataset."
   ]
  },
  {
   "cell_type": "code",
   "execution_count": 1,
   "metadata": {
    "colab": {
     "base_uri": "https://localhost:8080/",
     "height": 35
    },
    "executionInfo": {
     "elapsed": 3574,
     "status": "ok",
     "timestamp": 1646361510818,
     "user": {
      "displayName": "Sangheum Hwang",
      "photoUrl": "https://lh3.googleusercontent.com/a-/AOh14GhtqOw3hsZi5PhH_iEySd-ET3W-tZTVnyY_dax5-g=s64",
      "userId": "12292317320178717925"
     },
     "user_tz": -540
    },
    "id": "t9Kda5DkQZSN",
    "outputId": "ee14e741-9b71-43ff-8292-9d1ed7a8088e"
   },
   "outputs": [
    {
     "data": {
      "text/plain": [
       "'2.8.0'"
      ]
     },
     "execution_count": 1,
     "metadata": {},
     "output_type": "execute_result"
    }
   ],
   "source": [
    "import tensorflow as tf\n",
    "tf.__version__"
   ]
  },
  {
   "cell_type": "code",
   "execution_count": 2,
   "metadata": {
    "id": "DN-ekZiXYHPH"
   },
   "outputs": [],
   "source": [
    "from tensorflow import keras"
   ]
  },
  {
   "cell_type": "code",
   "execution_count": 3,
   "metadata": {
    "colab": {
     "base_uri": "https://localhost:8080/"
    },
    "executionInfo": {
     "elapsed": 777,
     "status": "ok",
     "timestamp": 1646361517705,
     "user": {
      "displayName": "Sangheum Hwang",
      "photoUrl": "https://lh3.googleusercontent.com/a-/AOh14GhtqOw3hsZi5PhH_iEySd-ET3W-tZTVnyY_dax5-g=s64",
      "userId": "12292317320178717925"
     },
     "user_tz": -540
    },
    "id": "Vh6vlacgzzHh",
    "outputId": "b6378804-677d-43e2-b028-6231093a745d"
   },
   "outputs": [],
   "source": [
    "from tensorflow.keras.datasets import mnist\n",
    "(train_images, train_labels), (test_images,test_labels) = mnist.load_data()\n",
    "\n",
    "# API reference https://keras.io/datasets/#mnist-database-of-handwritten-digits"
   ]
  },
  {
   "cell_type": "markdown",
   "metadata": {
    "id": "LrqEV4uU2Fe2"
   },
   "source": [
    "* The images are encoded as Numpy arrays, and the labels are an array of digits (0-9).\n",
    "* The images and labels have a one-to-one correspondence."
   ]
  },
  {
   "cell_type": "code",
   "execution_count": 4,
   "metadata": {
    "colab": {
     "base_uri": "https://localhost:8080/"
    },
    "executionInfo": {
     "elapsed": 26,
     "status": "ok",
     "timestamp": 1646361517705,
     "user": {
      "displayName": "Sangheum Hwang",
      "photoUrl": "https://lh3.googleusercontent.com/a-/AOh14GhtqOw3hsZi5PhH_iEySd-ET3W-tZTVnyY_dax5-g=s64",
      "userId": "12292317320178717925"
     },
     "user_tz": -540
    },
    "id": "6VHaO0OHoiHt",
    "outputId": "1569f67a-ed38-4c23-88d8-dc6d93d9cc8d"
   },
   "outputs": [
    {
     "name": "stdout",
     "output_type": "stream",
     "text": [
      "<class 'numpy.ndarray'>\n"
     ]
    }
   ],
   "source": [
    "print(type(train_images))"
   ]
  },
  {
   "cell_type": "code",
   "execution_count": 5,
   "metadata": {
    "colab": {
     "base_uri": "https://localhost:8080/"
    },
    "executionInfo": {
     "elapsed": 24,
     "status": "ok",
     "timestamp": 1646361517706,
     "user": {
      "displayName": "Sangheum Hwang",
      "photoUrl": "https://lh3.googleusercontent.com/a-/AOh14GhtqOw3hsZi5PhH_iEySd-ET3W-tZTVnyY_dax5-g=s64",
      "userId": "12292317320178717925"
     },
     "user_tz": -540
    },
    "id": "qFkONcJL2Z2T",
    "outputId": "1d9b70e0-e71b-4c65-ec22-2b67744ba69f"
   },
   "outputs": [
    {
     "name": "stdout",
     "output_type": "stream",
     "text": [
      "Shape of train_images array:  (60000, 28, 28)\n",
      "# of training samples:  60000\n",
      "Shape of test_images array:  (10000, 28, 28)\n",
      "# of test samples:  10000\n"
     ]
    }
   ],
   "source": [
    "print('Shape of train_images array: ', train_images.shape)\n",
    "print('# of training samples: ', len(train_images))\n",
    "\n",
    "print('Shape of test_images array: ', test_images.shape)\n",
    "print('# of test samples: ', len(test_images))"
   ]
  },
  {
   "cell_type": "code",
   "execution_count": 6,
   "metadata": {
    "colab": {
     "base_uri": "https://localhost:8080/"
    },
    "executionInfo": {
     "elapsed": 21,
     "status": "ok",
     "timestamp": 1646361517706,
     "user": {
      "displayName": "Sangheum Hwang",
      "photoUrl": "https://lh3.googleusercontent.com/a-/AOh14GhtqOw3hsZi5PhH_iEySd-ET3W-tZTVnyY_dax5-g=s64",
      "userId": "12292317320178717925"
     },
     "user_tz": -540
    },
    "id": "ziXxs_rS39uY",
    "outputId": "34562422-044f-4e74-940e-cef849fb000f"
   },
   "outputs": [
    {
     "data": {
      "text/plain": [
       "array([[  0,   0,   0,   0,   0,   0,   0,   0,   0,   0,   0,   0,   0,\n",
       "          0,   0,   0,   0,   0,   0,   0,   0,   0,   0,   0,   0,   0,\n",
       "          0,   0],\n",
       "       [  0,   0,   0,   0,   0,   0,   0,   0,   0,   0,   0,   0,   0,\n",
       "          0,   0,   0,   0,   0,   0,   0,   0,   0,   0,   0,   0,   0,\n",
       "          0,   0],\n",
       "       [  0,   0,   0,   0,   0,   0,   0,   0,   0,   0,   0,   0,   0,\n",
       "          0,   0,   0,   0,   0,   0,   0,   0,   0,   0,   0,   0,   0,\n",
       "          0,   0],\n",
       "       [  0,   0,   0,   0,   0,   0,   0,   0,   0,   0,   0,   0,   0,\n",
       "          0,   0,   0,   0,   0,   0,   0,   0,   0,   0,   0,   0,   0,\n",
       "          0,   0],\n",
       "       [  0,   0,   0,   0,   0,   0,   0,   0,   0,   0,   0,  42, 118,\n",
       "        219, 166, 118, 118,   6,   0,   0,   0,   0,   0,   0,   0,   0,\n",
       "          0,   0],\n",
       "       [  0,   0,   0,   0,   0,   0,   0,   0,   0,   0, 103, 242, 254,\n",
       "        254, 254, 254, 254,  66,   0,   0,   0,   0,   0,   0,   0,   0,\n",
       "          0,   0],\n",
       "       [  0,   0,   0,   0,   0,   0,   0,   0,   0,   0,  18, 232, 254,\n",
       "        254, 254, 254, 254, 238,  70,   0,   0,   0,   0,   0,   0,   0,\n",
       "          0,   0],\n",
       "       [  0,   0,   0,   0,   0,   0,   0,   0,   0,   0,   0, 104, 244,\n",
       "        254, 224, 254, 254, 254, 141,   0,   0,   0,   0,   0,   0,   0,\n",
       "          0,   0],\n",
       "       [  0,   0,   0,   0,   0,   0,   0,   0,   0,   0,   0,   0, 207,\n",
       "        254, 210, 254, 254, 254,  34,   0,   0,   0,   0,   0,   0,   0,\n",
       "          0,   0],\n",
       "       [  0,   0,   0,   0,   0,   0,   0,   0,   0,   0,   0,   0,  84,\n",
       "        206, 254, 254, 254, 254,  41,   0,   0,   0,   0,   0,   0,   0,\n",
       "          0,   0],\n",
       "       [  0,   0,   0,   0,   0,   0,   0,   0,   0,   0,   0,   0,   0,\n",
       "         24, 209, 254, 254, 254, 171,   0,   0,   0,   0,   0,   0,   0,\n",
       "          0,   0],\n",
       "       [  0,   0,   0,   0,   0,   0,   0,   0,   0,   0,   0,   0,  91,\n",
       "        137, 253, 254, 254, 254, 112,   0,   0,   0,   0,   0,   0,   0,\n",
       "          0,   0],\n",
       "       [  0,   0,   0,   0,   0,   0,   0,   0,   0,   0,  40, 214, 250,\n",
       "        254, 254, 254, 254, 254,  34,   0,   0,   0,   0,   0,   0,   0,\n",
       "          0,   0],\n",
       "       [  0,   0,   0,   0,   0,   0,   0,   0,   0,   0,  81, 247, 254,\n",
       "        254, 254, 254, 254, 254, 146,   0,   0,   0,   0,   0,   0,   0,\n",
       "          0,   0],\n",
       "       [  0,   0,   0,   0,   0,   0,   0,   0,   0,   0,   0, 110, 246,\n",
       "        254, 254, 254, 254, 254, 171,   0,   0,   0,   0,   0,   0,   0,\n",
       "          0,   0],\n",
       "       [  0,   0,   0,   0,   0,   0,   0,   0,   0,   0,   0,   0,  73,\n",
       "         89,  89,  93, 240, 254, 171,   0,   0,   0,   0,   0,   0,   0,\n",
       "          0,   0],\n",
       "       [  0,   0,   0,   0,   0,   0,   0,   0,   0,   0,   0,   0,   0,\n",
       "          0,   0,   1, 128, 254, 219,  31,   0,   0,   0,   0,   0,   0,\n",
       "          0,   0],\n",
       "       [  0,   0,   0,   0,   0,   0,   0,   0,   0,   0,   0,   0,   0,\n",
       "          0,   0,   7, 254, 254, 214,  28,   0,   0,   0,   0,   0,   0,\n",
       "          0,   0],\n",
       "       [  0,   0,   0,   0,   0,   0,   0,   0,   0,   0,   0,   0,   0,\n",
       "          0,   0, 138, 254, 254, 116,   0,   0,   0,   0,   0,   0,   0,\n",
       "          0,   0],\n",
       "       [  0,   0,   0,   0,   0,   0,  19, 177,  90,   0,   0,   0,   0,\n",
       "          0,  25, 240, 254, 254,  34,   0,   0,   0,   0,   0,   0,   0,\n",
       "          0,   0],\n",
       "       [  0,   0,   0,   0,   0,   0, 164, 254, 215,  63,  36,   0,  51,\n",
       "         89, 206, 254, 254, 139,   8,   0,   0,   0,   0,   0,   0,   0,\n",
       "          0,   0],\n",
       "       [  0,   0,   0,   0,   0,   0,  57, 197, 254, 254, 222, 180, 241,\n",
       "        254, 254, 253, 213,  11,   0,   0,   0,   0,   0,   0,   0,   0,\n",
       "          0,   0],\n",
       "       [  0,   0,   0,   0,   0,   0,   0, 140, 105, 254, 254, 254, 254,\n",
       "        254, 254, 236,   0,   0,   0,   0,   0,   0,   0,   0,   0,   0,\n",
       "          0,   0],\n",
       "       [  0,   0,   0,   0,   0,   0,   0,   0,   7, 117, 117, 165, 254,\n",
       "        254, 239,  50,   0,   0,   0,   0,   0,   0,   0,   0,   0,   0,\n",
       "          0,   0],\n",
       "       [  0,   0,   0,   0,   0,   0,   0,   0,   0,   0,   0,   0,   0,\n",
       "          0,   0,   0,   0,   0,   0,   0,   0,   0,   0,   0,   0,   0,\n",
       "          0,   0],\n",
       "       [  0,   0,   0,   0,   0,   0,   0,   0,   0,   0,   0,   0,   0,\n",
       "          0,   0,   0,   0,   0,   0,   0,   0,   0,   0,   0,   0,   0,\n",
       "          0,   0],\n",
       "       [  0,   0,   0,   0,   0,   0,   0,   0,   0,   0,   0,   0,   0,\n",
       "          0,   0,   0,   0,   0,   0,   0,   0,   0,   0,   0,   0,   0,\n",
       "          0,   0],\n",
       "       [  0,   0,   0,   0,   0,   0,   0,   0,   0,   0,   0,   0,   0,\n",
       "          0,   0,   0,   0,   0,   0,   0,   0,   0,   0,   0,   0,   0,\n",
       "          0,   0]], dtype=uint8)"
      ]
     },
     "execution_count": 6,
     "metadata": {},
     "output_type": "execute_result"
    }
   ],
   "source": [
    "train_images[10]"
   ]
  },
  {
   "cell_type": "code",
   "execution_count": 7,
   "metadata": {
    "colab": {
     "base_uri": "https://localhost:8080/"
    },
    "executionInfo": {
     "elapsed": 18,
     "status": "ok",
     "timestamp": 1646361517706,
     "user": {
      "displayName": "Sangheum Hwang",
      "photoUrl": "https://lh3.googleusercontent.com/a-/AOh14GhtqOw3hsZi5PhH_iEySd-ET3W-tZTVnyY_dax5-g=s64",
      "userId": "12292317320178717925"
     },
     "user_tz": -540
    },
    "id": "DMa6n2EZprOC",
    "outputId": "5a5e2f8e-69a8-469e-d25f-740cae761597"
   },
   "outputs": [
    {
     "data": {
      "text/plain": [
       "(28, 28)"
      ]
     },
     "execution_count": 7,
     "metadata": {},
     "output_type": "execute_result"
    }
   ],
   "source": [
    "train_images[10].shape"
   ]
  },
  {
   "cell_type": "code",
   "execution_count": 8,
   "metadata": {
    "colab": {
     "base_uri": "https://localhost:8080/"
    },
    "executionInfo": {
     "elapsed": 12,
     "status": "ok",
     "timestamp": 1646361517707,
     "user": {
      "displayName": "Sangheum Hwang",
      "photoUrl": "https://lh3.googleusercontent.com/a-/AOh14GhtqOw3hsZi5PhH_iEySd-ET3W-tZTVnyY_dax5-g=s64",
      "userId": "12292317320178717925"
     },
     "user_tz": -540
    },
    "id": "1YQk6XuQ3wzR",
    "outputId": "79a03222-b635-490a-97a4-e6d19c0db2de"
   },
   "outputs": [
    {
     "data": {
      "text/plain": [
       "array([5, 0, 4, ..., 5, 6, 8], dtype=uint8)"
      ]
     },
     "execution_count": 8,
     "metadata": {},
     "output_type": "execute_result"
    }
   ],
   "source": [
    "train_labels"
   ]
  },
  {
   "cell_type": "code",
   "execution_count": 9,
   "metadata": {
    "colab": {
     "base_uri": "https://localhost:8080/"
    },
    "executionInfo": {
     "elapsed": 8,
     "status": "ok",
     "timestamp": 1646361517707,
     "user": {
      "displayName": "Sangheum Hwang",
      "photoUrl": "https://lh3.googleusercontent.com/a-/AOh14GhtqOw3hsZi5PhH_iEySd-ET3W-tZTVnyY_dax5-g=s64",
      "userId": "12292317320178717925"
     },
     "user_tz": -540
    },
    "id": "BxxECMkJqra_",
    "outputId": "d482a9f3-8885-4a20-fd0c-51b650ecec25"
   },
   "outputs": [
    {
     "data": {
      "text/plain": [
       "(60000,)"
      ]
     },
     "execution_count": 9,
     "metadata": {},
     "output_type": "execute_result"
    }
   ],
   "source": [
    "train_labels.shape"
   ]
  },
  {
   "cell_type": "code",
   "execution_count": 10,
   "metadata": {
    "colab": {
     "base_uri": "https://localhost:8080/",
     "height": 452
    },
    "executionInfo": {
     "elapsed": 625,
     "status": "ok",
     "timestamp": 1646361518327,
     "user": {
      "displayName": "Sangheum Hwang",
      "photoUrl": "https://lh3.googleusercontent.com/a-/AOh14GhtqOw3hsZi5PhH_iEySd-ET3W-tZTVnyY_dax5-g=s64",
      "userId": "12292317320178717925"
     },
     "user_tz": -540
    },
    "id": "SYY7fnwz292z",
    "outputId": "1919de74-5095-44b3-8f8c-7a52bf4705ec"
   },
   "outputs": [
    {
     "data": {
      "image/png": "[encoded data removed]",
      "text/plain": [
       "<Figure size 640x480 with 1 Axes>"
      ]
     },
     "metadata": {},
     "output_type": "display_data"
    }
   ],
   "source": [
    "import matplotlib.pyplot as plt\n",
    "import matplotlib.cm as cm\n",
    "plt.style.use('default') # set the same default style as jupyter notebook\n",
    "\n",
    "def visualize_mnist(image, label):\n",
    "  plt.imshow(image, cm.binary)\n",
    "  plt.title(label)\n",
    "  plt.show()\n",
    "\n",
    "visualize_mnist(train_images[1000], train_labels[1000])"
   ]
  },
  {
   "cell_type": "markdown",
   "metadata": {
    "id": "4H-nWBIc3pz_"
   },
   "source": [
    "* We'll feed the neural network the training data, `train_images` and `train_labels`.\n",
    "* After training, we'll ask the network to produce predictions for `test_images`, and we'll verify whether these predictions match the labels from `test_labels`.\n",
    "* Let's build the network."
   ]
  },
  {
   "cell_type": "code",
   "execution_count": 11,
   "metadata": {
    "id": "E_vXz4Pi4gis"
   },
   "outputs": [
    {
     "name": "stdout",
     "output_type": "stream",
     "text": [
      "Metal device set to: Apple M1\n"
     ]
    },
    {
     "name": "stderr",
     "output_type": "stream",
     "text": [
      "2022-03-22 13:18:48.819022: I tensorflow/core/common_runtime/pluggable_device/pluggable_device_factory.cc:305] Could not identify NUMA node of platform GPU ID 0, defaulting to 0. Your kernel may not have been built with NUMA support.\n",
      "2022-03-22 13:18:48.819130: I tensorflow/core/common_runtime/pluggable_device/pluggable_device_factory.cc:271] Created TensorFlow device (/job:localhost/replica:0/task:0/device:GPU:0 with 0 MB memory) -> physical PluggableDevice (device: 0, name: METAL, pci bus id: <undefined>)\n"
     ]
    }
   ],
   "source": [
    "from tensorflow.keras import models\n",
    "from tensorflow.keras import layers\n",
    "\n",
    "network = models.Sequential()\n",
    "network.add(layers.Dense(512, activation='relu', input_shape=(28*28,)))\n",
    "network.add(layers.Dense(10, activation='softmax'))"
   ]
  },
  {
   "cell_type": "markdown",
   "metadata": {
    "id": "rzU8zLtD429s"
   },
   "source": [
    "* As we learned, the core building block of neural networks is the *layers*, a data-processing module.\n",
    "* Specifically, layers extract *representations* out of the data fed into them.\n",
    "* We can obtain more useful representations as training goes.\n",
    "\n",
    "\n",
    "* Here, our network consists of a sequence of two `Dense` layers, which are densely connected (also called `fully connected`) layers.\n",
    "* The last layer is a 10-way `softmax` layer, which means it will return an array of 10 probability scores (summing to 1).\n",
    "\n",
    "\n",
    "* To make the network ready for training, we need three more things,\n",
    "  * A loss function\n",
    "  * An optimizer\n",
    "  * Metrics to monitor during training and testing"
   ]
  },
  {
   "cell_type": "code",
   "execution_count": 12,
   "metadata": {
    "id": "Vxte82GQ6zZz"
   },
   "outputs": [],
   "source": [
    "network.compile(optimizer='rmsprop',\n",
    "                loss='categorical_crossentropy',\n",
    "                metrics=['accuracy'])"
   ]
  },
  {
   "cell_type": "markdown",
   "metadata": {
    "id": "NziwelhU68le"
   },
   "source": [
    "* Before training, we'll preprocess the data: **reshaping, scaling**.\n",
    "  * `(60000, 28, 28) uint8` in the `[0, 255]` --> `(60000, 28*28) float32` in the `[0,1]`"
   ]
  },
  {
   "cell_type": "code",
   "execution_count": 13,
   "metadata": {
    "id": "_JjxsClm56Ql"
   },
   "outputs": [],
   "source": [
    "train_images = train_images.reshape((60000, 28*28))\n",
    "train_images = train_images.astype('float32') / 255\n",
    "\n",
    "test_images = test_images.reshape((10000, 28*28))\n",
    "test_images = test_images.astype('float32') / 255"
   ]
  },
  {
   "cell_type": "markdown",
   "metadata": {
    "id": "2tcipOORNdW5"
   },
   "source": [
    "* We also need to categorically encode the labels, which is called *one-hot vector*."
   ]
  },
  {
   "cell_type": "code",
   "execution_count": 14,
   "metadata": {
    "id": "92Sha1vUNwzI"
   },
   "outputs": [],
   "source": [
    "from tensorflow.keras.utils import to_categorical\n",
    "\n",
    "train_labels = to_categorical(train_labels)\n",
    "test_labels = to_categorical(test_labels)"
   ]
  },
  {
   "cell_type": "code",
   "execution_count": 15,
   "metadata": {
    "colab": {
     "base_uri": "https://localhost:8080/"
    },
    "executionInfo": {
     "elapsed": 17,
     "status": "ok",
     "timestamp": 1646361521666,
     "user": {
      "displayName": "Sangheum Hwang",
      "photoUrl": "https://lh3.googleusercontent.com/a-/AOh14GhtqOw3hsZi5PhH_iEySd-ET3W-tZTVnyY_dax5-g=s64",
      "userId": "12292317320178717925"
     },
     "user_tz": -540
    },
    "id": "5tsHzUk7TH2Q",
    "outputId": "c9c463eb-3fd1-46f1-c2a3-96ad0911cb90"
   },
   "outputs": [
    {
     "data": {
      "text/plain": [
       "(60000, 10)"
      ]
     },
     "execution_count": 15,
     "metadata": {},
     "output_type": "execute_result"
    }
   ],
   "source": [
    "train_labels.shape"
   ]
  },
  {
   "cell_type": "code",
   "execution_count": 16,
   "metadata": {
    "colab": {
     "base_uri": "https://localhost:8080/"
    },
    "executionInfo": {
     "elapsed": 15,
     "status": "ok",
     "timestamp": 1646361521666,
     "user": {
      "displayName": "Sangheum Hwang",
      "photoUrl": "https://lh3.googleusercontent.com/a-/AOh14GhtqOw3hsZi5PhH_iEySd-ET3W-tZTVnyY_dax5-g=s64",
      "userId": "12292317320178717925"
     },
     "user_tz": -540
    },
    "id": "ewLYhdLgzCKz",
    "outputId": "08a587ff-9302-48e9-da9e-d10220e64b5c"
   },
   "outputs": [
    {
     "data": {
      "text/plain": [
       "array([0., 0., 0., 1., 0., 0., 0., 0., 0., 0.], dtype=float32)"
      ]
     },
     "execution_count": 16,
     "metadata": {},
     "output_type": "execute_result"
    }
   ],
   "source": [
    "train_labels[10]"
   ]
  },
  {
   "cell_type": "markdown",
   "metadata": {
    "id": "dQOViSRaN6Em"
   },
   "source": [
    "* Now, we are ready to train the network by calling *fit* method of the network."
   ]
  },
  {
   "cell_type": "code",
   "execution_count": 17,
   "metadata": {
    "colab": {
     "base_uri": "https://localhost:8080/"
    },
    "executionInfo": {
     "elapsed": 18187,
     "status": "ok",
     "timestamp": 1646361539842,
     "user": {
      "displayName": "Sangheum Hwang",
      "photoUrl": "https://lh3.googleusercontent.com/a-/AOh14GhtqOw3hsZi5PhH_iEySd-ET3W-tZTVnyY_dax5-g=s64",
      "userId": "12292317320178717925"
     },
     "user_tz": -540
    },
    "id": "xUKS_FWgOK3s",
    "outputId": "e6a57f1b-aa79-4c28-ea24-2fb37f1062b6"
   },
   "outputs": [
    {
     "name": "stdout",
     "output_type": "stream",
     "text": [
      "Epoch 1/10\n"
     ]
    },
    {
     "name": "stderr",
     "output_type": "stream",
     "text": [
      "2022-03-22 13:18:52.356640: W tensorflow/core/platform/profile_utils/cpu_utils.cc:128] Failed to get CPU frequency: 0 Hz\n",
      "2022-03-22 13:18:52.505088: I tensorflow/core/grappler/optimizers/custom_graph_optimizer_registry.cc:113] Plugin optimizer for device_type GPU is enabled.\n"
     ]
    },
    {
     "name": "stdout",
     "output_type": "stream",
     "text": [
      "469/469 [==============================] - 3s 7ms/step - loss: 0.2585 - accuracy: 0.9249\n",
      "Epoch 2/10\n",
      "469/469 [==============================] - 3s 7ms/step - loss: 0.1029 - accuracy: 0.9697\n",
      "Epoch 3/10\n",
      "469/469 [==============================] - 3s 6ms/step - loss: 0.0679 - accuracy: 0.9795\n",
      "Epoch 4/10\n",
      "469/469 [==============================] - 3s 6ms/step - loss: 0.0493 - accuracy: 0.9851\n",
      "Epoch 5/10\n",
      "469/469 [==============================] - 3s 6ms/step - loss: 0.0377 - accuracy: 0.9886\n",
      "Epoch 6/10\n",
      "469/469 [==============================] - 3s 7ms/step - loss: 0.0283 - accuracy: 0.9916\n",
      "Epoch 7/10\n",
      "469/469 [==============================] - 3s 6ms/step - loss: 0.0218 - accuracy: 0.9937\n",
      "Epoch 8/10\n",
      "469/469 [==============================] - 3s 6ms/step - loss: 0.0167 - accuracy: 0.9954\n",
      "Epoch 9/10\n",
      "469/469 [==============================] - 3s 6ms/step - loss: 0.0127 - accuracy: 0.9965\n",
      "Epoch 10/10\n",
      "469/469 [==============================] - 3s 6ms/step - loss: 0.0103 - accuracy: 0.9971\n",
      "Elapsed time: 30.9149\n"
     ]
    }
   ],
   "source": [
    "import time\n",
    "\n",
    "start = time.time()\n",
    "network.fit(train_images, train_labels, epochs=10, batch_size=128)\n",
    "elapsed = time.time() - start\n",
    "\n",
    "print('Elapsed time: %.4f' % elapsed)"
   ]
  },
  {
   "cell_type": "markdown",
   "metadata": {
    "id": "4TU0UI3zOPGZ"
   },
   "source": [
    "* Two quantities are displayed during training, *loss* and *accuracy*.\n",
    "* Note that these quantities do not guarantee the *test* performance.\n",
    "* Let's check that the model performs well on the test set, too."
   ]
  },
  {
   "cell_type": "code",
   "execution_count": 18,
   "metadata": {
    "colab": {
     "base_uri": "https://localhost:8080/"
    },
    "executionInfo": {
     "elapsed": 1863,
     "status": "ok",
     "timestamp": 1646361541686,
     "user": {
      "displayName": "Sangheum Hwang",
      "photoUrl": "https://lh3.googleusercontent.com/a-/AOh14GhtqOw3hsZi5PhH_iEySd-ET3W-tZTVnyY_dax5-g=s64",
      "userId": "12292317320178717925"
     },
     "user_tz": -540
    },
    "id": "HY-QBpWFOxm2",
    "outputId": "22ff2058-f076-4a62-dbf2-6105eb31657d"
   },
   "outputs": [
    {
     "name": "stdout",
     "output_type": "stream",
     "text": [
      " 32/313 [==>...........................] - ETA: 1s - loss: 0.0617 - accuracy: 0.9814"
     ]
    },
    {
     "name": "stderr",
     "output_type": "stream",
     "text": [
      "2022-03-22 13:19:23.183126: I tensorflow/core/grappler/optimizers/custom_graph_optimizer_registry.cc:113] Plugin optimizer for device_type GPU is enabled.\n"
     ]
    },
    {
     "name": "stdout",
     "output_type": "stream",
     "text": [
      "313/313 [==============================] - 2s 5ms/step - loss: 0.0738 - accuracy: 0.9822\n",
      "test_acc:  0.982200026512146\n"
     ]
    }
   ],
   "source": [
    "test_loss, test_acc = network.evaluate(test_images, test_labels)\n",
    "print('test_acc: ', test_acc)"
   ]
  },
  {
   "cell_type": "markdown",
   "metadata": {
    "id": "ZDQ5jq1bO4ot"
   },
   "source": [
    "* The test accuracy is a bit lower than the training accuracy.\n",
    "* This gap between training accuracy and test accuracy is an example of *overfitting*.\n",
    "\n",
    "\n",
    "* We saw how we can build and train a neural network to classify handwritten digits in less than 20 lines of Python code."
   ]
  },
  {
   "cell_type": "markdown",
   "metadata": {
    "id": "7UzzrFs3l7Bo"
   },
   "source": [
    "## Data representations for neural networks"
   ]
  },
  {
   "cell_type": "markdown",
   "metadata": {
    "id": "ytduIaA-qdAs"
   },
   "source": [
    "* In the previous example, the data was stored in multidimensional Numpy arrays, also called *tensors*.\n",
    "* In general, all current machine learning systems use tensors as their basic data structure.\n",
    "* A tensor is a container for data.\n",
    "* The number of *axes* (also called *dimensions*) of a tensor is called its *rank*."
   ]
  },
  {
   "cell_type": "markdown",
   "metadata": {
    "id": "3_EFag2Bokv_"
   },
   "source": [
    "> ### Scalars (0D tensors)"
   ]
  },
  {
   "cell_type": "markdown",
   "metadata": {
    "id": "vNvv_9YQqauS"
   },
   "source": [
    "* A tensor that contains only one number is called a *scalar*.\n",
    "* For example, a `float32` or `float64` number in Numpy is a scalar tensor."
   ]
  },
  {
   "cell_type": "code",
   "execution_count": 19,
   "metadata": {
    "colab": {
     "base_uri": "https://localhost:8080/"
    },
    "executionInfo": {
     "elapsed": 17,
     "status": "ok",
     "timestamp": 1646361541687,
     "user": {
      "displayName": "Sangheum Hwang",
      "photoUrl": "https://lh3.googleusercontent.com/a-/AOh14GhtqOw3hsZi5PhH_iEySd-ET3W-tZTVnyY_dax5-g=s64",
      "userId": "12292317320178717925"
     },
     "user_tz": -540
    },
    "id": "59Dr---6mWsg",
    "outputId": "28befb0c-d20b-40bb-9ca4-a8933e7bc24d"
   },
   "outputs": [
    {
     "data": {
      "text/plain": [
       "array(12)"
      ]
     },
     "execution_count": 19,
     "metadata": {},
     "output_type": "execute_result"
    }
   ],
   "source": [
    "import numpy as np\n",
    "x = np.array(12)\n",
    "x"
   ]
  },
  {
   "cell_type": "code",
   "execution_count": 20,
   "metadata": {
    "colab": {
     "base_uri": "https://localhost:8080/"
    },
    "executionInfo": {
     "elapsed": 15,
     "status": "ok",
     "timestamp": 1646361541687,
     "user": {
      "displayName": "Sangheum Hwang",
      "photoUrl": "https://lh3.googleusercontent.com/a-/AOh14GhtqOw3hsZi5PhH_iEySd-ET3W-tZTVnyY_dax5-g=s64",
      "userId": "12292317320178717925"
     },
     "user_tz": -540
    },
    "id": "jzs_918YnXe0",
    "outputId": "a451e667-fe10-4f5e-e0cb-14ca68da1bf6"
   },
   "outputs": [
    {
     "data": {
      "text/plain": [
       "0"
      ]
     },
     "execution_count": 20,
     "metadata": {},
     "output_type": "execute_result"
    }
   ],
   "source": [
    "x.ndim"
   ]
  },
  {
   "cell_type": "markdown",
   "metadata": {
    "id": "8hA6AYWenZBg"
   },
   "source": [
    "> ### Vectors (1D tensors)"
   ]
  },
  {
   "cell_type": "markdown",
   "metadata": {
    "id": "PnPoH33fqYYw"
   },
   "source": [
    "* An array of numbers is called a *vector*, or 1D tensor."
   ]
  },
  {
   "cell_type": "code",
   "execution_count": 21,
   "metadata": {
    "colab": {
     "base_uri": "https://localhost:8080/"
    },
    "executionInfo": {
     "elapsed": 14,
     "status": "ok",
     "timestamp": 1646361541687,
     "user": {
      "displayName": "Sangheum Hwang",
      "photoUrl": "https://lh3.googleusercontent.com/a-/AOh14GhtqOw3hsZi5PhH_iEySd-ET3W-tZTVnyY_dax5-g=s64",
      "userId": "12292317320178717925"
     },
     "user_tz": -540
    },
    "id": "Zbb2x6h5n6LQ",
    "outputId": "d17f0fdd-5045-4ac3-df6b-670d1d5b67fc"
   },
   "outputs": [
    {
     "data": {
      "text/plain": [
       "array([12,  3,  6, 14,  5])"
      ]
     },
     "execution_count": 21,
     "metadata": {},
     "output_type": "execute_result"
    }
   ],
   "source": [
    "x = np.array([12, 3, 6, 14, 5])\n",
    "x"
   ]
  },
  {
   "cell_type": "code",
   "execution_count": 22,
   "metadata": {
    "colab": {
     "base_uri": "https://localhost:8080/"
    },
    "executionInfo": {
     "elapsed": 12,
     "status": "ok",
     "timestamp": 1646361541687,
     "user": {
      "displayName": "Sangheum Hwang",
      "photoUrl": "https://lh3.googleusercontent.com/a-/AOh14GhtqOw3hsZi5PhH_iEySd-ET3W-tZTVnyY_dax5-g=s64",
      "userId": "12292317320178717925"
     },
     "user_tz": -540
    },
    "id": "w7XbcZkIn9U9",
    "outputId": "cb0bca11-5221-40d1-aea0-22f2b88d9b13"
   },
   "outputs": [
    {
     "data": {
      "text/plain": [
       "1"
      ]
     },
     "execution_count": 22,
     "metadata": {},
     "output_type": "execute_result"
    }
   ],
   "source": [
    "x.ndim"
   ]
  },
  {
   "cell_type": "markdown",
   "metadata": {
    "id": "ib7cKBmOn-SV"
   },
   "source": [
    "* This vector has five entries and so is called a *5-dimensional vector*.\n",
    "* Don't confuse a 5D vector with a 5D tensor!\n",
    "\n"
   ]
  },
  {
   "cell_type": "markdown",
   "metadata": {
    "id": "GHm6l4omoLTW"
   },
   "source": [
    "> ### Matrices (2D tensors)"
   ]
  },
  {
   "cell_type": "markdown",
   "metadata": {
    "id": "TiafUBDZqV4N"
   },
   "source": [
    "* An array of vectors is a *matrix*, or 2D tensor.\n",
    "* A matrix has two axes (rows and columns)."
   ]
  },
  {
   "cell_type": "code",
   "execution_count": 23,
   "metadata": {
    "colab": {
     "base_uri": "https://localhost:8080/"
    },
    "executionInfo": {
     "elapsed": 12,
     "status": "ok",
     "timestamp": 1646361541688,
     "user": {
      "displayName": "Sangheum Hwang",
      "photoUrl": "https://lh3.googleusercontent.com/a-/AOh14GhtqOw3hsZi5PhH_iEySd-ET3W-tZTVnyY_dax5-g=s64",
      "userId": "12292317320178717925"
     },
     "user_tz": -540
    },
    "id": "COdG1gIjoeEx",
    "outputId": "5240a665-1171-4352-ee11-c99359a5df0c"
   },
   "outputs": [
    {
     "data": {
      "text/plain": [
       "array([[ 5, 78,  2, 34,  0],\n",
       "       [ 6, 79,  3, 35,  1],\n",
       "       [ 7, 80,  4, 36,  2]])"
      ]
     },
     "execution_count": 23,
     "metadata": {},
     "output_type": "execute_result"
    }
   ],
   "source": [
    "x = np.array([[5, 78, 2, 34, 0],\n",
    "              [6, 79, 3, 35, 1],\n",
    "              [7, 80, 4, 36, 2]])\n",
    "x"
   ]
  },
  {
   "cell_type": "code",
   "execution_count": 24,
   "metadata": {
    "colab": {
     "base_uri": "https://localhost:8080/"
    },
    "executionInfo": {
     "elapsed": 10,
     "status": "ok",
     "timestamp": 1646361541688,
     "user": {
      "displayName": "Sangheum Hwang",
      "photoUrl": "https://lh3.googleusercontent.com/a-/AOh14GhtqOw3hsZi5PhH_iEySd-ET3W-tZTVnyY_dax5-g=s64",
      "userId": "12292317320178717925"
     },
     "user_tz": -540
    },
    "id": "Sq1zkLRbo_PF",
    "outputId": "682739d2-3afb-4179-b401-5dd6b9e95cd0"
   },
   "outputs": [
    {
     "data": {
      "text/plain": [
       "2"
      ]
     },
     "execution_count": 24,
     "metadata": {},
     "output_type": "execute_result"
    }
   ],
   "source": [
    "x.ndim"
   ]
  },
  {
   "cell_type": "code",
   "execution_count": 25,
   "metadata": {
    "colab": {
     "base_uri": "https://localhost:8080/"
    },
    "executionInfo": {
     "elapsed": 9,
     "status": "ok",
     "timestamp": 1646361541688,
     "user": {
      "displayName": "Sangheum Hwang",
      "photoUrl": "https://lh3.googleusercontent.com/a-/AOh14GhtqOw3hsZi5PhH_iEySd-ET3W-tZTVnyY_dax5-g=s64",
      "userId": "12292317320178717925"
     },
     "user_tz": -540
    },
    "id": "rVBdvIKupBj1",
    "outputId": "262e5c00-e2fb-4f9c-de6e-bfa617261d8d"
   },
   "outputs": [
    {
     "data": {
      "text/plain": [
       "(3, 5)"
      ]
     },
     "execution_count": 25,
     "metadata": {},
     "output_type": "execute_result"
    }
   ],
   "source": [
    "x.shape"
   ]
  },
  {
   "cell_type": "markdown",
   "metadata": {
    "id": "dJNkWHuwpCRi"
   },
   "source": [
    "> ### 3D tensors and higher-dimensional tensors"
   ]
  },
  {
   "cell_type": "markdown",
   "metadata": {
    "id": "olzSgewcqTpj"
   },
   "source": [
    "* An array of matrices? --> a 3D tensor\n",
    "* It can be visually interpreted as a cube of numbers."
   ]
  },
  {
   "cell_type": "code",
   "execution_count": 26,
   "metadata": {
    "colab": {
     "base_uri": "https://localhost:8080/"
    },
    "executionInfo": {
     "elapsed": 8,
     "status": "ok",
     "timestamp": 1646361541688,
     "user": {
      "displayName": "Sangheum Hwang",
      "photoUrl": "https://lh3.googleusercontent.com/a-/AOh14GhtqOw3hsZi5PhH_iEySd-ET3W-tZTVnyY_dax5-g=s64",
      "userId": "12292317320178717925"
     },
     "user_tz": -540
    },
    "id": "69Puo2oxpZfq",
    "outputId": "7d165dba-e1bd-4afe-89f3-e331ede8586f"
   },
   "outputs": [
    {
     "name": "stdout",
     "output_type": "stream",
     "text": [
      "3\n",
      "(3, 3, 5)\n"
     ]
    }
   ],
   "source": [
    "x = np.array([ [ [5, 78, 2, 34, 0],\n",
    "                 [6, 79, 3, 35, 1],\n",
    "                 [7, 80, 4, 36, 2] ],\n",
    "               [ [5, 78, 2, 34, 0],\n",
    "                 [6, 79, 3, 35, 1],\n",
    "                 [7, 80, 4, 36, 2] ],\n",
    "               [ [5, 78, 2, 34, 0],\n",
    "                 [6, 79, 3, 35, 1],\n",
    "                 [7, 80, 4, 36, 2] ] ])\n",
    "print(x.ndim)\n",
    "print(x.shape)"
   ]
  },
  {
   "cell_type": "markdown",
   "metadata": {
    "id": "-Fc1jRsYp9-d"
   },
   "source": [
    "* By packing 3D tensors in an array, you can create a 4D tensor, and so on.\n",
    "* In deep learning, you'll generally manipulate tensors that are 0D to 4D, although you may go up to 5D if you process video data."
   ]
  },
  {
   "cell_type": "markdown",
   "metadata": {
    "id": "sMStwVDEqV6M"
   },
   "source": [
    "> ### Key attributes"
   ]
  },
  {
   "cell_type": "markdown",
   "metadata": {
    "id": "DGltO620qRAP"
   },
   "source": [
    "* *Number of axes (rank)*: the tensor's `ndim` in Numpy\n",
    "* *Shape*: the tensor's `shape` in Numpy\n",
    "* *Data type*: usually called `dtype` in Python libraries\n",
    "  * This is the type of the data contained in the tensor: `float32`, `float64`, `uint8`, and so on."
   ]
  },
  {
   "cell_type": "code",
   "execution_count": 27,
   "metadata": {
    "colab": {
     "base_uri": "https://localhost:8080/"
    },
    "executionInfo": {
     "elapsed": 476,
     "status": "ok",
     "timestamp": 1646361542158,
     "user": {
      "displayName": "Sangheum Hwang",
      "photoUrl": "https://lh3.googleusercontent.com/a-/AOh14GhtqOw3hsZi5PhH_iEySd-ET3W-tZTVnyY_dax5-g=s64",
      "userId": "12292317320178717925"
     },
     "user_tz": -540
    },
    "id": "OO2kX-fzrkoP",
    "outputId": "d621a1da-ea55-4c0d-89f5-53cbba59c6d0"
   },
   "outputs": [
    {
     "name": "stdout",
     "output_type": "stream",
     "text": [
      "3\n"
     ]
    }
   ],
   "source": [
    "from tensorflow.keras.datasets import mnist\n",
    "(train_images, train_labels), (test_images, test_labels) = mnist.load_data()\n",
    "\n",
    "print(train_images.ndim)"
   ]
  },
  {
   "cell_type": "code",
   "execution_count": 28,
   "metadata": {
    "colab": {
     "base_uri": "https://localhost:8080/"
    },
    "executionInfo": {
     "elapsed": 25,
     "status": "ok",
     "timestamp": 1646361542159,
     "user": {
      "displayName": "Sangheum Hwang",
      "photoUrl": "https://lh3.googleusercontent.com/a-/AOh14GhtqOw3hsZi5PhH_iEySd-ET3W-tZTVnyY_dax5-g=s64",
      "userId": "12292317320178717925"
     },
     "user_tz": -540
    },
    "id": "USHO4u3jrtBI",
    "outputId": "a2a1a17a-5976-4bf0-919a-474705ed00c1"
   },
   "outputs": [
    {
     "name": "stdout",
     "output_type": "stream",
     "text": [
      "(60000, 28, 28)\n"
     ]
    }
   ],
   "source": [
    "print(train_images.shape)"
   ]
  },
  {
   "cell_type": "code",
   "execution_count": 29,
   "metadata": {
    "colab": {
     "base_uri": "https://localhost:8080/"
    },
    "executionInfo": {
     "elapsed": 24,
     "status": "ok",
     "timestamp": 1646361542160,
     "user": {
      "displayName": "Sangheum Hwang",
      "photoUrl": "https://lh3.googleusercontent.com/a-/AOh14GhtqOw3hsZi5PhH_iEySd-ET3W-tZTVnyY_dax5-g=s64",
      "userId": "12292317320178717925"
     },
     "user_tz": -540
    },
    "id": "jxBbNqG5rvyo",
    "outputId": "8f5b734c-c331-4e05-986b-5b0c31b4c545"
   },
   "outputs": [
    {
     "name": "stdout",
     "output_type": "stream",
     "text": [
      "uint8\n"
     ]
    }
   ],
   "source": [
    "print(train_images.dtype)"
   ]
  },
  {
   "cell_type": "markdown",
   "metadata": {
    "id": "Dpqa-2c2r66H"
   },
   "source": [
    "* So, our `train_images` is a 3D tensor of 8-bit integers.\n",
    "* More precisely, it is an array of 60,000 matrics of 28\\*28 integers.\n",
    "* Each matrix is a grayscale images, with elements between 0 and 255."
   ]
  },
  {
   "cell_type": "code",
   "execution_count": 30,
   "metadata": {
    "colab": {
     "base_uri": "https://localhost:8080/",
     "height": 452
    },
    "executionInfo": {
     "elapsed": 20,
     "status": "ok",
     "timestamp": 1646361542160,
     "user": {
      "displayName": "Sangheum Hwang",
      "photoUrl": "https://lh3.googleusercontent.com/a-/AOh14GhtqOw3hsZi5PhH_iEySd-ET3W-tZTVnyY_dax5-g=s64",
      "userId": "12292317320178717925"
     },
     "user_tz": -540
    },
    "id": "LhHCStEasvvC",
    "outputId": "37178e8d-30e3-4c37-826b-72339d96d334"
   },
   "outputs": [
    {
     "data": {
      "image/png": "[encoded data removed]",
      "text/plain": [
       "<Figure size 640x480 with 1 Axes>"
      ]
     },
     "metadata": {},
     "output_type": "display_data"
    }
   ],
   "source": [
    "visualize_mnist(train_images[4], train_labels[4])"
   ]
  },
  {
   "cell_type": "markdown",
   "metadata": {
    "id": "D847cuqis3IP"
   },
   "source": [
    "> ### Manipulating tensors in Numpy\n"
   ]
  },
  {
   "cell_type": "markdown",
   "metadata": {
    "id": "BBOiwLRxqN9T"
   },
   "source": [
    "* In the previous example, we selected a specific digit alongside the first axis using the syntax `train_images[i]`.\n",
    "* Selecting specific elements in a tensor is called *tensor slicing*."
   ]
  },
  {
   "cell_type": "code",
   "execution_count": 31,
   "metadata": {
    "colab": {
     "base_uri": "https://localhost:8080/"
    },
    "executionInfo": {
     "elapsed": 18,
     "status": "ok",
     "timestamp": 1646361542161,
     "user": {
      "displayName": "Sangheum Hwang",
      "photoUrl": "https://lh3.googleusercontent.com/a-/AOh14GhtqOw3hsZi5PhH_iEySd-ET3W-tZTVnyY_dax5-g=s64",
      "userId": "12292317320178717925"
     },
     "user_tz": -540
    },
    "id": "LD87n_a1uVPO",
    "outputId": "d4eedfcf-7081-41e5-f6f0-d8a21fddd89c"
   },
   "outputs": [
    {
     "name": "stdout",
     "output_type": "stream",
     "text": [
      "(90, 28, 28)\n"
     ]
    }
   ],
   "source": [
    "my_slice = train_images[10:100]\n",
    "print(my_slice.shape)"
   ]
  },
  {
   "cell_type": "code",
   "execution_count": 32,
   "metadata": {
    "colab": {
     "base_uri": "https://localhost:8080/"
    },
    "executionInfo": {
     "elapsed": 14,
     "status": "ok",
     "timestamp": 1646361542161,
     "user": {
      "displayName": "Sangheum Hwang",
      "photoUrl": "https://lh3.googleusercontent.com/a-/AOh14GhtqOw3hsZi5PhH_iEySd-ET3W-tZTVnyY_dax5-g=s64",
      "userId": "12292317320178717925"
     },
     "user_tz": -540
    },
    "id": "cLah2RwfufSH",
    "outputId": "5eb757ff-fa96-4e7d-8f33-be97a4966820"
   },
   "outputs": [
    {
     "name": "stdout",
     "output_type": "stream",
     "text": [
      "(90, 28, 28)\n",
      "(90, 28, 28)\n"
     ]
    }
   ],
   "source": [
    "my_slice = train_images[10:100, :, :] # : is equivalent to selecting the entire axis.\n",
    "print(my_slice.shape)\n",
    "\n",
    "my_slice = train_images[10:100, 0:28, 0:28]\n",
    "print(my_slice.shape)"
   ]
  },
  {
   "cell_type": "markdown",
   "metadata": {
    "id": "yrnuwc6xvCv1"
   },
   "source": [
    "* If you want to select 14\\*14 pixels in the bottom-right corner of all images:"
   ]
  },
  {
   "cell_type": "code",
   "execution_count": 33,
   "metadata": {
    "colab": {
     "base_uri": "https://localhost:8080/"
    },
    "executionInfo": {
     "elapsed": 12,
     "status": "ok",
     "timestamp": 1646361542162,
     "user": {
      "displayName": "Sangheum Hwang",
      "photoUrl": "https://lh3.googleusercontent.com/a-/AOh14GhtqOw3hsZi5PhH_iEySd-ET3W-tZTVnyY_dax5-g=s64",
      "userId": "12292317320178717925"
     },
     "user_tz": -540
    },
    "id": "7h3YujeivT6w",
    "outputId": "50084231-313e-418e-8bcd-a3134e10e872"
   },
   "outputs": [
    {
     "name": "stdout",
     "output_type": "stream",
     "text": [
      "(60000, 14, 14)\n"
     ]
    }
   ],
   "source": [
    "my_slice = train_images[:, 14:, 14:]\n",
    "print(my_slice.shape)"
   ]
  },
  {
   "cell_type": "code",
   "execution_count": 34,
   "metadata": {
    "colab": {
     "base_uri": "https://localhost:8080/",
     "height": 452
    },
    "executionInfo": {
     "elapsed": 732,
     "status": "ok",
     "timestamp": 1646361542885,
     "user": {
      "displayName": "Sangheum Hwang",
      "photoUrl": "https://lh3.googleusercontent.com/a-/AOh14GhtqOw3hsZi5PhH_iEySd-ET3W-tZTVnyY_dax5-g=s64",
      "userId": "12292317320178717925"
     },
     "user_tz": -540
    },
    "id": "yUN_86p1vdrd",
    "outputId": "501a8e6e-97ec-48ad-c353-853bf5cabafa"
   },
   "outputs": [
    {
     "data": {
      "image/png": "[encoded data removed]",
      "text/plain": [
       "<Figure size 640x480 with 1 Axes>"
      ]
     },
     "metadata": {},
     "output_type": "display_data"
    }
   ],
   "source": [
    "visualize_mnist(my_slice[4], train_labels[4])"
   ]
  },
  {
   "cell_type": "markdown",
   "metadata": {
    "id": "EkFYbluLvi0j"
   },
   "source": [
    "* It is also possible to use negative indices.\n",
    "* Negative indices indicate a position relative to the end of the current axis.\n",
    "* For example, if you want to crop the images to patches of 14\\*14 pixels centered in the middle:"
   ]
  },
  {
   "cell_type": "code",
   "execution_count": 35,
   "metadata": {
    "colab": {
     "base_uri": "https://localhost:8080/"
    },
    "executionInfo": {
     "elapsed": 11,
     "status": "ok",
     "timestamp": 1646361542886,
     "user": {
      "displayName": "Sangheum Hwang",
      "photoUrl": "https://lh3.googleusercontent.com/a-/AOh14GhtqOw3hsZi5PhH_iEySd-ET3W-tZTVnyY_dax5-g=s64",
      "userId": "12292317320178717925"
     },
     "user_tz": -540
    },
    "id": "SxPwLDR-567R",
    "outputId": "ff0ee708-d266-41bb-bd55-d6b9fc4f23dd"
   },
   "outputs": [
    {
     "data": {
      "text/plain": [
       "4"
      ]
     },
     "execution_count": 35,
     "metadata": {},
     "output_type": "execute_result"
    }
   ],
   "source": [
    "np.array([0,1,2,3,4,5])[-2]"
   ]
  },
  {
   "cell_type": "code",
   "execution_count": 36,
   "metadata": {
    "colab": {
     "base_uri": "https://localhost:8080/"
    },
    "executionInfo": {
     "elapsed": 9,
     "status": "ok",
     "timestamp": 1646361542886,
     "user": {
      "displayName": "Sangheum Hwang",
      "photoUrl": "https://lh3.googleusercontent.com/a-/AOh14GhtqOw3hsZi5PhH_iEySd-ET3W-tZTVnyY_dax5-g=s64",
      "userId": "12292317320178717925"
     },
     "user_tz": -540
    },
    "id": "EGzINjluv1NV",
    "outputId": "8db9d6cf-7b52-4036-9211-1850a7b1552f"
   },
   "outputs": [
    {
     "name": "stdout",
     "output_type": "stream",
     "text": [
      "(60000, 14, 14)\n"
     ]
    }
   ],
   "source": [
    "my_slice = train_images[:, 7:-7, 7:-7]\n",
    "print(my_slice.shape)"
   ]
  },
  {
   "cell_type": "code",
   "execution_count": 37,
   "metadata": {
    "colab": {
     "base_uri": "https://localhost:8080/",
     "height": 452
    },
    "executionInfo": {
     "elapsed": 8,
     "status": "ok",
     "timestamp": 1646361542887,
     "user": {
      "displayName": "Sangheum Hwang",
      "photoUrl": "https://lh3.googleusercontent.com/a-/AOh14GhtqOw3hsZi5PhH_iEySd-ET3W-tZTVnyY_dax5-g=s64",
      "userId": "12292317320178717925"
     },
     "user_tz": -540
    },
    "id": "o7hVpAAzv7Sz",
    "outputId": "cea76fc7-a1ea-41e0-fe65-798234674ee9"
   },
   "outputs": [
    {
     "data": {
      "image/png": "[encoded data removed]",
      "text/plain": [
       "<Figure size 640x480 with 1 Axes>"
      ]
     },
     "metadata": {},
     "output_type": "display_data"
    }
   ],
   "source": [
    "visualize_mnist(my_slice[4], train_labels[4])"
   ]
  },
  {
   "cell_type": "markdown",
   "metadata": {
    "id": "u7kF_B5Bv_uA"
   },
   "source": [
    "> ### The notion of data batches"
   ]
  },
  {
   "cell_type": "markdown",
   "metadata": {
    "id": "M4zN5rjCqLVW"
   },
   "source": [
    "* In general, the first axis in all data tensors you'll come across in deep learning will be the *samples axis* (sometimes called the *samples dimension*, *batch axis* or *batch dimension*).\n",
    "* In addition, deep learning models don't process an entire dataset at once: rather, they break the data into small batches."
   ]
  },
  {
   "cell_type": "code",
   "execution_count": 38,
   "metadata": {
    "id": "J2s7IIiAwply"
   },
   "outputs": [],
   "source": [
    "for i in range(10):\n",
    "  batch = train_images[128*i : 128*(i+1)] # batch size of 128\n",
    "  # process something"
   ]
  },
  {
   "cell_type": "markdown",
   "metadata": {
    "id": "Ms1B1vooxEv4"
   },
   "source": [
    "> ### Real-world examples of data tensors\n"
   ]
  },
  {
   "cell_type": "markdown",
   "metadata": {
    "id": "mtr7mfa3qI65"
   },
   "source": [
    "* Vector data - 2D tensors of shape `(samples, features)`\n",
    "* Timeseries data or sequence data - 3D tensors of shape `(samples, timesteps, features)`\n",
    "<img src=\"https://drive.google.com/uc?id=1-3Fn2PJjCWXMsROQMQ3qB62aRmRqbm74\" width=\"800\">\n",
    "    \n",
    "  * A dataset of stock prices\n",
    "  * A dataset of tweets\n",
    "\n",
    "* Images - 4D tensors of shape `(samples, height, width, channels)` or `(samples, channels, height, width)`\n",
    "<img src=\"https://drive.google.com/uc?id=1-EK02MdPsB4MOmHf1dPENTUPkKpqZR3b\" width=\"800\">\n",
    "   \n",
    "  * A batch of 128 color images could be stored in a tensor of shape `(128, 256, 256, 3)`.\n",
    "  * There are two conventions for shapes of images tensors: the *channels-last* convention and the *channels-first* convention.\n",
    "  * For example, in Tensorflow, https://www.tensorflow.org/api_docs/python/tf/nn/convolution\n",
    "* Video - 5D tensors of shape `(samples, frames, height, width, channels)` or `(samples, frames, channels, height, width)`\n",
    "  * Each frame can be stored in a 3D tensor `(height, width, channels)`, a sequence of frames can be stored in a 4D tensor `(frames, height, width, channels)`, and thus a batch of different videos can be stored in a 5D tensor of shape `(samples, frames, height, width, channels)`.\n",
    "  * For instance, a 60-second, 144\\*256 YouTube video clip samples at 4 frames per second would have 240 frames. A batch of four such video clips would be stored in a tensor of shape `(4, 240, 144, 256, 3)`. --> A total of 106,168,320 values!\n",
    "  * If the `dtype` of the tensor was `float32`, then each value would be stored in 32 bits, so the tensor would represent 405MB."
   ]
  },
  {
   "cell_type": "markdown",
   "metadata": {
    "id": "TGLA4yN-xyUG"
   },
   "source": [
    "## The gears of neural networks: tensor operations"
   ]
  },
  {
   "cell_type": "markdown",
   "metadata": {
    "id": "1K2JXLQ5qGDs"
   },
   "source": [
    "* All transformations learned by deep neural networks can be reduced to a handful of *tensor operations* applied to tensors of numeric data.\n",
    "* In our initial example, we were building our network by stacking `Dense` layers on top of each other.\n",
    "  * `keras.layers.Dense(512, activation='relu')`\n",
    "* This layer can be interpreted as a function. Specifically, the function is:\n",
    "  * `output = relu(dot(W, input) + b)` where `W` is a 2D tensor and `b` is a vector.\n",
    "  * We have three tensor operations here:\n",
    "    * A dot product (`dot`) between the input tensor and a tensor named `W`\n",
    "    * An addition (`+`) between the resulting 2D tensor and a vector `b`\n",
    "    * A `relu` operation of `relu(x)=max(x, 0)`"
   ]
  },
  {
   "cell_type": "markdown",
   "metadata": {
    "id": "6tI8LlM-7BFt"
   },
   "source": [
    "> ### Element-wise operations\n"
   ]
  },
  {
   "cell_type": "markdown",
   "metadata": {
    "id": "7c2yZXTfqDh0"
   },
   "source": [
    "* The `relu` operation and addtion are `element-wise` operations.\n",
    "* If we write a naive Python implementation of `relu` using `for` loop:"
   ]
  },
  {
   "cell_type": "code",
   "execution_count": 39,
   "metadata": {
    "id": "LFixA7Rj7kzI"
   },
   "outputs": [],
   "source": [
    "def naive_relu(x):\n",
    "  assert len(x.shape) == 2 # x is a 2D Numpy tensor.\n",
    "  \n",
    "  x = x.copy() # to avoid overwriting the input tensor\n",
    "  for i in range(x.shape[0]):\n",
    "    for j in range(x.shape[1]):\n",
    "      x[i, j] = max(x[i, j], 0)\n",
    "  return x"
   ]
  },
  {
   "cell_type": "markdown",
   "metadata": {
    "id": "8exTX9Ao74WA"
   },
   "source": [
    "* We can do the same thing for addtion:"
   ]
  },
  {
   "cell_type": "code",
   "execution_count": 40,
   "metadata": {
    "id": "HXFYatKr78tn"
   },
   "outputs": [],
   "source": [
    "def naive_add(x, y):\n",
    "  assert len(x.shape) == 2\n",
    "  assert x.shape == y.shape\n",
    "  \n",
    "  x = x.copy()\n",
    "  for i in range(x.shape[0]):\n",
    "    for j in range(x.shape[1]):\n",
    "      x[i, j] += y[i, j]\n",
    "  return x"
   ]
  },
  {
   "cell_type": "markdown",
   "metadata": {
    "id": "u4ndd4JE8LAy"
   },
   "source": [
    "* In practice, these operations are provided as built-in Numpy functions, which are well-optimized via BLAS (Basic Linear Algebra Subprograms) implemented in Fortran or C.\n",
    "* So, in Numpy, you can do the following element-wise operations very efficiently.\n",
    "  ```python\n",
    "  import numpy as np\n",
    "  z = x+y\n",
    "  z = np.maximum(z, 0.)\n",
    "  ```\n",
    "  "
   ]
  },
  {
   "cell_type": "markdown",
   "metadata": {
    "id": "oC87sDNB8zo5"
   },
   "source": [
    "> ### Broadcasting"
   ]
  },
  {
   "cell_type": "markdown",
   "metadata": {
    "id": "4ClFpsFhqA4d"
   },
   "source": [
    "* What happens with addition when the shapes of the two tensors being added differ?\n",
    "  * In our `naive_add` implementation, it only supports the addition of 2D tensors with identical shapes.\n",
    "* When possible, and if there's no ambiguity, the smaller tensor will be *broadcasted* to match the shape of the larger tensor.\n",
    "* Broadcasting consists of two steps:\n",
    "  * Axes (called *broadcast axes*) are added to the smaller tensor to match the `ndim` of the larger tensor.\n",
    "  * The smaller tensor is repeated alognside these new axes to match the full shape of the larger tensor.\n",
    "* For example, consider `X` with shape `(32, 10)` and `y` with shape `(10,)`.\n",
    "  * First, we add an empty first axis to `y`. --> The shape of `y` becomes `(1,10)`.\n",
    "  * Then, we repeat `y` 32 times alongside this new axis. --> We get `Y` with shape of `(32,10)` where `Y[i, :] == y` for `i` in `range(0,32)`.\n",
    "  * Now, we can proceed to add `X` and `Y`.\n",
    "* Note that the repetition operation is entirely virtual: it happens at the algorithmic level rather than at the memory level.\n",
    "* Here is what a naive implementation would look like:"
   ]
  },
  {
   "cell_type": "code",
   "execution_count": 41,
   "metadata": {
    "id": "qliUUqF5_DHS"
   },
   "outputs": [],
   "source": [
    "def naive_add_matrix_and_vector(x, y):\n",
    "  assert len(x.shape) == 2\n",
    "  assert len(y.shape) == 1\n",
    "  assert x.shape[1] == y.shape[0]\n",
    "  \n",
    "  x = x.copy()\n",
    "  for i in range(x.shape[0]):\n",
    "    for j in range(x.shape[1]):\n",
    "      x[i, j] += y[j]\n",
    "  return x"
   ]
  },
  {
   "cell_type": "markdown",
   "metadata": {
    "id": "YD8aay-N_SBs"
   },
   "source": [
    "* With broadcasting, we can generally apply two-tensor element-wise operations if one tensor has shape `(a, b, ..., n, n+1, ..., m)` and the other has shape `(n, n+1, ..., m)`.\n",
    "* The broadcasting will then automatically happen for axes `a` through `n-1`.\n",
    "* Example: the element-wise `maximum` operation to two tensors of different shapes via broadcasting"
   ]
  },
  {
   "cell_type": "code",
   "execution_count": 42,
   "metadata": {
    "id": "wvn3eRzrAA7n"
   },
   "outputs": [],
   "source": [
    "import numpy as np\n",
    "\n",
    "x = np.random.random((64, 3, 32, 10))\n",
    "y = np.random.random((10,))\n",
    "z = np.maximum(x, y)"
   ]
  },
  {
   "cell_type": "code",
   "execution_count": 43,
   "metadata": {},
   "outputs": [
    {
     "data": {
      "text/plain": [
       "array([[[[0.34290918, 0.47388596, 0.47602699, ..., 0.74721892,\n",
       "          0.93588847, 0.97378072],\n",
       "         [0.15923527, 0.76298193, 0.91083507, ..., 0.74721892,\n",
       "          0.93588847, 0.6727797 ],\n",
       "         [0.49472643, 0.35872794, 0.80874326, ..., 0.74721892,\n",
       "          0.93588847, 0.1907347 ],\n",
       "         ...,\n",
       "         [0.15923527, 0.87703346, 0.71722375, ..., 0.74721892,\n",
       "          0.93588847, 0.02911019],\n",
       "         [0.34405113, 0.6579455 , 0.37851988, ..., 0.74721892,\n",
       "          0.93588847, 0.20259969],\n",
       "         [0.5388047 , 0.35872794, 0.99468185, ..., 0.74721892,\n",
       "          0.97377897, 0.43009327]],\n",
       "\n",
       "        [[0.80320609, 0.90532272, 0.57454432, ..., 0.83048281,\n",
       "          0.93588847, 0.84761296],\n",
       "         [0.15923527, 0.75467364, 0.933524  , ..., 0.74721892,\n",
       "          0.93588847, 0.6658473 ],\n",
       "         [0.61525452, 0.36414704, 0.21058097, ..., 0.74721892,\n",
       "          0.93588847, 0.43837991],\n",
       "         ...,\n",
       "         [0.8675583 , 0.35872794, 0.29030222, ..., 0.74721892,\n",
       "          0.93588847, 0.68345444],\n",
       "         [0.24468318, 0.40925056, 0.32686517, ..., 0.74721892,\n",
       "          0.93588847, 0.73074695],\n",
       "         [0.85885287, 0.35872794, 0.89437135, ..., 0.74721892,\n",
       "          0.93588847, 0.77666539]],\n",
       "\n",
       "        [[0.73557668, 0.35872794, 0.55602376, ..., 0.74721892,\n",
       "          0.93588847, 0.74148426],\n",
       "         [0.21053542, 0.35872794, 0.59960396, ..., 0.74721892,\n",
       "          0.93588847, 0.78249943],\n",
       "         [0.2887643 , 0.35872794, 0.9678246 , ..., 0.8133122 ,\n",
       "          0.93588847, 0.30558878],\n",
       "         ...,\n",
       "         [0.87498846, 0.35872794, 0.15882065, ..., 0.74721892,\n",
       "          0.93588847, 0.63475241],\n",
       "         [0.42818525, 0.78582956, 0.13479477, ..., 0.74721892,\n",
       "          0.93588847, 0.74833104],\n",
       "         [0.71771958, 0.92143364, 0.86422761, ..., 0.95659672,\n",
       "          0.93588847, 0.79085738]]],\n",
       "\n",
       "\n",
       "       [[[0.1855532 , 0.68597849, 0.17179471, ..., 0.81361363,\n",
       "          0.93588847, 0.02911019],\n",
       "         [0.69982119, 0.35872794, 0.36911011, ..., 0.74721892,\n",
       "          0.93588847, 0.80199279],\n",
       "         [0.79698575, 0.90625179, 0.27340509, ..., 0.74764015,\n",
       "          0.93588847, 0.13782713],\n",
       "         ...,\n",
       "         [0.6791707 , 0.83222977, 0.56162225, ..., 0.74721892,\n",
       "          0.98814669, 0.06775752],\n",
       "         [0.64138684, 0.35872794, 0.28871426, ..., 0.87953709,\n",
       "          0.93588847, 0.32096916],\n",
       "         [0.94308726, 0.37578225, 0.66716717, ..., 0.74721892,\n",
       "          0.93588847, 0.72032683]],\n",
       "\n",
       "        [[0.90231095, 0.72312032, 0.51441535, ..., 0.80855802,\n",
       "          0.96714234, 0.45755549],\n",
       "         [0.55500225, 0.35872794, 0.88497117, ..., 0.74721892,\n",
       "          0.93588847, 0.33941893],\n",
       "         [0.29165655, 0.35872794, 0.63258283, ..., 0.74721892,\n",
       "          0.93588847, 0.02911019],\n",
       "         ...,\n",
       "         [0.3583244 , 0.35872794, 0.81177138, ..., 0.74721892,\n",
       "          0.93588847, 0.84508392],\n",
       "         [0.95371489, 0.35872794, 0.23640512, ..., 0.74721892,\n",
       "          0.93588847, 0.172701  ],\n",
       "         [0.91255119, 0.35872794, 0.66264535, ..., 0.74721892,\n",
       "          0.93588847, 0.10156935]],\n",
       "\n",
       "        [[0.47765003, 0.56890453, 0.77717371, ..., 0.74721892,\n",
       "          0.93588847, 0.36564273],\n",
       "         [0.17621047, 0.35872794, 0.59913702, ..., 0.7667831 ,\n",
       "          0.93588847, 0.32520707],\n",
       "         [0.25410747, 0.73461848, 0.64652952, ..., 0.74721892,\n",
       "          0.93588847, 0.25172038],\n",
       "         ...,\n",
       "         [0.15923527, 0.93710258, 0.16304124, ..., 0.74721892,\n",
       "          0.93588847, 0.80744511],\n",
       "         [0.67800352, 0.35872794, 0.5106317 , ..., 0.92630549,\n",
       "          0.93588847, 0.5993386 ],\n",
       "         [0.37073196, 0.90388589, 0.65006713, ..., 0.74721892,\n",
       "          0.93588847, 0.05914466]]],\n",
       "\n",
       "\n",
       "       [[[0.26784223, 0.48576782, 0.80804708, ..., 0.74721892,\n",
       "          0.93588847, 0.38562887],\n",
       "         [0.15923527, 0.35872794, 0.13479477, ..., 0.74721892,\n",
       "          0.93588847, 0.276672  ],\n",
       "         [0.60688096, 0.35872794, 0.13479477, ..., 0.74721892,\n",
       "          0.93588847, 0.97154082],\n",
       "         ...,\n",
       "         [0.55949989, 0.96483506, 0.80058305, ..., 0.74721892,\n",
       "          0.93588847, 0.79928629],\n",
       "         [0.86981509, 0.35872794, 0.72960303, ..., 0.74721892,\n",
       "          0.93588847, 0.93730509],\n",
       "         [0.16433234, 0.35872794, 0.48160694, ..., 0.74721892,\n",
       "          0.9671338 , 0.58795591]],\n",
       "\n",
       "        [[0.46025813, 0.76938145, 0.13479477, ..., 0.9601114 ,\n",
       "          0.93588847, 0.31975116],\n",
       "         [0.66617288, 0.95752217, 0.56905485, ..., 0.74721892,\n",
       "          0.93588847, 0.86360715],\n",
       "         [0.32191351, 0.49099978, 0.63899136, ..., 0.74721892,\n",
       "          0.93588847, 0.91189298],\n",
       "         ...,\n",
       "         [0.28229752, 0.61337858, 0.97994453, ..., 0.74721892,\n",
       "          0.93588847, 0.37507366],\n",
       "         [0.15923527, 0.85681196, 0.25719267, ..., 0.74721892,\n",
       "          0.93588847, 0.48345632],\n",
       "         [0.24579604, 0.35872794, 0.9964854 , ..., 0.74721892,\n",
       "          0.93588847, 0.98303403]],\n",
       "\n",
       "        [[0.71345157, 0.35872794, 0.29244568, ..., 0.88987532,\n",
       "          0.93588847, 0.8177757 ],\n",
       "         [0.33238572, 0.35872794, 0.28711613, ..., 0.78412873,\n",
       "          0.93588847, 0.57407468],\n",
       "         [0.30568309, 0.70199062, 0.83424754, ..., 0.74721892,\n",
       "          0.93588847, 0.78989879],\n",
       "         ...,\n",
       "         [0.5587279 , 0.35872794, 0.3200629 , ..., 0.74721892,\n",
       "          0.93588847, 0.06492863],\n",
       "         [0.33163539, 0.85254074, 0.16295555, ..., 0.74721892,\n",
       "          0.93588847, 0.41772688],\n",
       "         [0.18124193, 0.48268613, 0.16670679, ..., 0.74721892,\n",
       "          0.93588847, 0.54482241]]],\n",
       "\n",
       "\n",
       "       ...,\n",
       "\n",
       "\n",
       "       [[[0.8810951 , 0.35872794, 0.22219304, ..., 0.74721892,\n",
       "          0.93588847, 0.45592421],\n",
       "         [0.48084613, 0.4982569 , 0.15849585, ..., 0.74721892,\n",
       "          0.93588847, 0.81689238],\n",
       "         [0.42220575, 0.35872794, 0.21244611, ..., 0.74721892,\n",
       "          0.93588847, 0.68929585],\n",
       "         ...,\n",
       "         [0.99776102, 0.77141815, 0.13479477, ..., 0.74721892,\n",
       "          0.93588847, 0.37767594],\n",
       "         [0.15923527, 0.47950023, 0.17254245, ..., 0.7623742 ,\n",
       "          0.93588847, 0.4049635 ],\n",
       "         [0.98105347, 0.35872794, 0.46522255, ..., 0.74721892,\n",
       "          0.93588847, 0.64283339]],\n",
       "\n",
       "        [[0.85728012, 0.35872794, 0.66780396, ..., 0.74721892,\n",
       "          0.93588847, 0.0458604 ],\n",
       "         [0.81670832, 0.47739838, 0.26591597, ..., 0.90503214,\n",
       "          0.97022613, 0.79045345],\n",
       "         [0.80860149, 0.87533362, 0.2159213 , ..., 0.74721892,\n",
       "          0.93588847, 0.66162879],\n",
       "         ...,\n",
       "         [0.58930525, 0.35872794, 0.13479477, ..., 0.74721892,\n",
       "          0.93588847, 0.21816522],\n",
       "         [0.62581898, 0.35872794, 0.75329698, ..., 0.74721892,\n",
       "          0.93588847, 0.51609683],\n",
       "         [0.98663108, 0.46407758, 0.55262364, ..., 0.74721892,\n",
       "          0.93588847, 0.96667549]],\n",
       "\n",
       "        [[0.63022341, 0.35872794, 0.68956154, ..., 0.74721892,\n",
       "          0.93588847, 0.85664173],\n",
       "         [0.22653746, 0.82962963, 0.49390016, ..., 0.74721892,\n",
       "          0.93588847, 0.99765778],\n",
       "         [0.2808233 , 0.92989565, 0.15852905, ..., 0.74721892,\n",
       "          0.93588847, 0.69277425],\n",
       "         ...,\n",
       "         [0.15923527, 0.35872794, 0.48346097, ..., 0.939634  ,\n",
       "          0.93588847, 0.91883402],\n",
       "         [0.77526763, 0.56996611, 0.79599991, ..., 0.74721892,\n",
       "          0.93588847, 0.93518098],\n",
       "         [0.58157609, 0.35872794, 0.49456597, ..., 0.74721892,\n",
       "          0.93588847, 0.54182729]]],\n",
       "\n",
       "\n",
       "       [[[0.40418235, 0.95861474, 0.50547214, ..., 0.74721892,\n",
       "          0.98390162, 0.06368964],\n",
       "         [0.42979342, 0.35872794, 0.46345667, ..., 0.90135846,\n",
       "          0.93588847, 0.3564522 ],\n",
       "         [0.88187286, 0.71653246, 0.44463417, ..., 0.74721892,\n",
       "          0.93588847, 0.98476852],\n",
       "         ...,\n",
       "         [0.52509013, 0.91445245, 0.45805902, ..., 0.87409667,\n",
       "          0.93588847, 0.0331124 ],\n",
       "         [0.72601095, 0.56692662, 0.4110071 , ..., 0.74721892,\n",
       "          0.93588847, 0.49767589],\n",
       "         [0.33856384, 0.5599104 , 0.24323509, ..., 0.74721892,\n",
       "          0.93588847, 0.70484794]],\n",
       "\n",
       "        [[0.85470139, 0.97365116, 0.90513687, ..., 0.74721892,\n",
       "          0.93588847, 0.88235744],\n",
       "         [0.94243644, 0.51773774, 0.28994844, ..., 0.74721892,\n",
       "          0.93588847, 0.50241794],\n",
       "         [0.88589932, 0.66756159, 0.82440527, ..., 0.74721892,\n",
       "          0.93588847, 0.11642614],\n",
       "         ...,\n",
       "         [0.92209458, 0.80604707, 0.99173072, ..., 0.74721892,\n",
       "          0.93588847, 0.57059021],\n",
       "         [0.2504801 , 0.7762286 , 0.5304812 , ..., 0.74721892,\n",
       "          0.93588847, 0.42869385],\n",
       "         [0.15923527, 0.50008227, 0.73200402, ..., 0.89065859,\n",
       "          0.93588847, 0.05146692]],\n",
       "\n",
       "        [[0.15923527, 0.35872794, 0.72822235, ..., 0.76485611,\n",
       "          0.93588847, 0.07367523],\n",
       "         [0.84892668, 0.84193601, 0.87467921, ..., 0.94870789,\n",
       "          0.93588847, 0.47371529],\n",
       "         [0.32821907, 0.99350169, 0.29763691, ..., 0.74721892,\n",
       "          0.93588847, 0.22847883],\n",
       "         ...,\n",
       "         [0.48871097, 0.35872794, 0.98976678, ..., 0.95014015,\n",
       "          0.93588847, 0.66180194],\n",
       "         [0.41266821, 0.35872794, 0.65393379, ..., 0.74721892,\n",
       "          0.93588847, 0.21222825],\n",
       "         [0.7660496 , 0.67162961, 0.40393933, ..., 0.74721892,\n",
       "          0.93588847, 0.04624307]]],\n",
       "\n",
       "\n",
       "       [[[0.15923527, 0.35872794, 0.13479477, ..., 0.74721892,\n",
       "          0.93588847, 0.64289977],\n",
       "         [0.70187353, 0.93788994, 0.43075562, ..., 0.83076437,\n",
       "          0.93588847, 0.24820008],\n",
       "         [0.17690234, 0.71657899, 0.75052303, ..., 0.74721892,\n",
       "          0.93588847, 0.40313917],\n",
       "         ...,\n",
       "         [0.49973351, 0.79610709, 0.97301399, ..., 0.87352694,\n",
       "          0.93588847, 0.99750479],\n",
       "         [0.94088477, 0.35872794, 0.13479477, ..., 0.93548787,\n",
       "          0.93588847, 0.22996014],\n",
       "         [0.9757511 , 0.35872794, 0.75349033, ..., 0.74721892,\n",
       "          0.93588847, 0.14543249]],\n",
       "\n",
       "        [[0.39169441, 0.35872794, 0.96823179, ..., 0.74721892,\n",
       "          0.93588847, 0.58729464],\n",
       "         [0.49231704, 0.59097301, 0.89934819, ..., 0.74721892,\n",
       "          0.93588847, 0.65838168],\n",
       "         [0.15923527, 0.35872794, 0.68305547, ..., 0.74721892,\n",
       "          0.93588847, 0.67463508],\n",
       "         ...,\n",
       "         [0.52315391, 0.81115281, 0.78102189, ..., 0.74721892,\n",
       "          0.93588847, 0.70165205],\n",
       "         [0.31444024, 0.35872794, 0.82658398, ..., 0.74721892,\n",
       "          0.93588847, 0.65896493],\n",
       "         [0.62074549, 0.51757648, 0.98728689, ..., 0.74721892,\n",
       "          0.93588847, 0.03525577]],\n",
       "\n",
       "        [[0.73849307, 0.78700898, 0.13479477, ..., 0.74721892,\n",
       "          0.93588847, 0.47867446],\n",
       "         [0.19788865, 0.35872794, 0.46302184, ..., 0.98616577,\n",
       "          0.93588847, 0.7289617 ],\n",
       "         [0.33270157, 0.58851581, 0.44039707, ..., 0.74721892,\n",
       "          0.93588847, 0.95000914],\n",
       "         ...,\n",
       "         [0.70726953, 0.59051391, 0.57885955, ..., 0.74721892,\n",
       "          0.93588847, 0.16643962],\n",
       "         [0.27200973, 0.35872794, 0.59404971, ..., 0.74721892,\n",
       "          0.93588847, 0.52194245],\n",
       "         [0.37930963, 0.82432085, 0.13479477, ..., 0.74721892,\n",
       "          0.93588847, 0.25701374]]]])"
      ]
     },
     "execution_count": 43,
     "metadata": {},
     "output_type": "execute_result"
    }
   ],
   "source": [
    "z"
   ]
  },
  {
   "cell_type": "markdown",
   "metadata": {
    "id": "m-VSmeIqAH6L"
   },
   "source": [
    "> ### Tensor dot"
   ]
  },
  {
   "cell_type": "markdown",
   "metadata": {
    "id": "Oxd1DyF5p-A6"
   },
   "source": [
    "* The dot operation, also called a *tensor product* is the most common, most useful tensor operation.\n",
    "* An element-wise product is done with the `*` operator in most libraries including Numpy, Keras, and Tensorflow.\n",
    "* In both Numpy ans Keras, the dot operation uses the standard `dot` operator.\n",
    "  ```python\n",
    "  import numpy as np\n",
    "  z = np.dot(x, y)\n",
    "  ```\n",
    "* The dot product of two vectors `x` and `y`"
   ]
  },
  {
   "cell_type": "code",
   "execution_count": 44,
   "metadata": {
    "id": "3g5cx3AgCc75"
   },
   "outputs": [],
   "source": [
    "def naive_vector_dot(x, y):\n",
    "  assert len(x.shape) == 1\n",
    "  assert len(y.shape) == 1\n",
    "  assert x.shape[0] == y.shape[0]\n",
    "  \n",
    "  z = 0.\n",
    "  for i in range(x.shape[0]):\n",
    "    z += x[i] * y[i]\n",
    "  return z"
   ]
  },
  {
   "cell_type": "markdown",
   "metadata": {
    "id": "ftDDYewrCpug"
   },
   "source": [
    "* The dot product between a matrix `x` and a vector `y`"
   ]
  },
  {
   "cell_type": "code",
   "execution_count": 45,
   "metadata": {
    "id": "Yl9UwdNVCyyM"
   },
   "outputs": [],
   "source": [
    "import numpy as np\n",
    "\n",
    "def naive_matrix_vector_dot(x, y):\n",
    "  assert len(x.shape) == 2\n",
    "  assert len(y.shape) == 1\n",
    "  assert x.shape[1] == y.shape[0] # Note that if x is a shape of (m,n), \n",
    "                                  # then y should be a shape of (n,).\n",
    "  \n",
    "  z = np.zeros(x.shape[0])\n",
    "  for i in range(x.shape[0]):\n",
    "    for j in range(x.shape[1]):\n",
    "      z[i] += x[i, j] * y[j]\n",
    "  return z"
   ]
  },
  {
   "cell_type": "code",
   "execution_count": 46,
   "metadata": {
    "id": "AGnd4ZSfDS1A"
   },
   "outputs": [],
   "source": [
    "def naive_matrix_vector_dot(x, y):\n",
    "  z = np.zeros(x.shape[0])\n",
    "  for i in range(x.shape[0]):\n",
    "    z[i] = naive_vector_dot(x[i, :], y)\n",
    "  return z"
   ]
  },
  {
   "cell_type": "markdown",
   "metadata": {
    "id": "keW8aV11DiBS"
   },
   "source": [
    "* Note that if one of two tensors has an `ndim` greater than 1, `dot` operations is no longer symmetric: `dot(x, y) != dot(y, x)`.\n",
    "* The dot product of two matrices `x` and `y`, `dot(x, y)`\n",
    "  * It can be computed if and only if `x.shape[1] == y.shape[0]`.\n",
    "  * The result is a matrix with shape `(x.shape[0], y.shape[1])`, where the coefficients are the vector products between the rows of `x` and the columns of `y`.\n",
    "<img src=\"https://drive.google.com/uc?id=1-JJJvURzHAvBvwUB7W2uU7U_DchkxJ9C\" width=\"800\">\n",
    "\n"
   ]
  },
  {
   "cell_type": "code",
   "execution_count": 47,
   "metadata": {
    "id": "JC7AQCooEuzg"
   },
   "outputs": [],
   "source": [
    "def naive_matrix_dot(x, y):\n",
    "  assert len(x.shape) == 2\n",
    "  assert len(y.shape) == 2\n",
    "  assert x.shape[1] == y.shape[0]\n",
    "  \n",
    "  z = np.zeros((x.shape[0], y.shape[1]))\n",
    "  for i in range(x.shape[0]):\n",
    "    for j in range(y.shape[1]):\n",
    "      row_x = x[i, :]\n",
    "      column_y = y[:, j]\n",
    "      z[i, j] = naive_vector_dot(row_x, column_y)\n",
    "  return z"
   ]
  },
  {
   "cell_type": "markdown",
   "metadata": {
    "id": "mf1aj03AF6kZ"
   },
   "source": [
    "* More generally, we can take the dot product between higher-dimensional tensors.\n",
    "```\n",
    "(a, b, c, d) . (d,) --> (a, b, c)\n",
    "(a, b, c, d) . (d, e) --> (a, b, c, e)\n",
    "```"
   ]
  },
  {
   "cell_type": "markdown",
   "metadata": {
    "id": "BZQA3HXqGS7a"
   },
   "source": [
    "> ### Tensor reshaping"
   ]
  },
  {
   "cell_type": "markdown",
   "metadata": {
    "id": "LTREzA2_p6ik"
   },
   "source": [
    "* In our first neural network example, we used *reshaping* operation when we preprocessed the digits data before feeding it into the network.\n",
    "```python\n",
    "train_images = train_images.reshape((60000, 28*28))\n",
    "```\n",
    "* Reshaping means rearranging its rows and columns to match a target shape."
   ]
  },
  {
   "cell_type": "code",
   "execution_count": 48,
   "metadata": {
    "colab": {
     "base_uri": "https://localhost:8080/"
    },
    "executionInfo": {
     "elapsed": 36,
     "status": "ok",
     "timestamp": 1646361543511,
     "user": {
      "displayName": "Sangheum Hwang",
      "photoUrl": "https://lh3.googleusercontent.com/a-/AOh14GhtqOw3hsZi5PhH_iEySd-ET3W-tZTVnyY_dax5-g=s64",
      "userId": "12292317320178717925"
     },
     "user_tz": -540
    },
    "id": "H3IvSElBGzu5",
    "outputId": "508d1240-6a38-4d5a-f05a-ae8700c040be"
   },
   "outputs": [
    {
     "name": "stdout",
     "output_type": "stream",
     "text": [
      "(3, 2)\n"
     ]
    }
   ],
   "source": [
    "x = np.array([ [0, 1],\n",
    "               [2, 3],\n",
    "               [4, 5] ])\n",
    "print(x.shape)"
   ]
  },
  {
   "cell_type": "code",
   "execution_count": 49,
   "metadata": {
    "colab": {
     "base_uri": "https://localhost:8080/"
    },
    "executionInfo": {
     "elapsed": 34,
     "status": "ok",
     "timestamp": 1646361543512,
     "user": {
      "displayName": "Sangheum Hwang",
      "photoUrl": "https://lh3.googleusercontent.com/a-/AOh14GhtqOw3hsZi5PhH_iEySd-ET3W-tZTVnyY_dax5-g=s64",
      "userId": "12292317320178717925"
     },
     "user_tz": -540
    },
    "id": "iB0vFXJwG-WH",
    "outputId": "f601e3b9-d632-41af-de82-f4a8143b9a83"
   },
   "outputs": [
    {
     "name": "stdout",
     "output_type": "stream",
     "text": [
      "[[0]\n",
      " [1]\n",
      " [2]\n",
      " [3]\n",
      " [4]\n",
      " [5]]\n"
     ]
    }
   ],
   "source": [
    "x = x.reshape((6, 1))\n",
    "print(x)"
   ]
  },
  {
   "cell_type": "code",
   "execution_count": 50,
   "metadata": {
    "colab": {
     "base_uri": "https://localhost:8080/"
    },
    "executionInfo": {
     "elapsed": 31,
     "status": "ok",
     "timestamp": 1646361543513,
     "user": {
      "displayName": "Sangheum Hwang",
      "photoUrl": "https://lh3.googleusercontent.com/a-/AOh14GhtqOw3hsZi5PhH_iEySd-ET3W-tZTVnyY_dax5-g=s64",
      "userId": "12292317320178717925"
     },
     "user_tz": -540
    },
    "id": "PvB77tY1HBoC",
    "outputId": "dfc30c6e-760d-48cf-896a-2479553f41d4"
   },
   "outputs": [
    {
     "name": "stdout",
     "output_type": "stream",
     "text": [
      "[[0 1 2]\n",
      " [3 4 5]]\n"
     ]
    }
   ],
   "source": [
    "x = x.reshape((2, 3))\n",
    "print(x)"
   ]
  },
  {
   "cell_type": "code",
   "execution_count": 51,
   "metadata": {
    "colab": {
     "base_uri": "https://localhost:8080/",
     "height": 184
    },
    "executionInfo": {
     "elapsed": 32,
     "status": "error",
     "timestamp": 1646361543517,
     "user": {
      "displayName": "Sangheum Hwang",
      "photoUrl": "https://lh3.googleusercontent.com/a-/AOh14GhtqOw3hsZi5PhH_iEySd-ET3W-tZTVnyY_dax5-g=s64",
      "userId": "12292317320178717925"
     },
     "user_tz": -540
    },
    "id": "jUSZ4MlUHF6X",
    "outputId": "c7dbb8c0-6c19-4530-c1e0-11cc6bcd0673"
   },
   "outputs": [
    {
     "ename": "ValueError",
     "evalue": "cannot reshape array of size 6 into shape (3,4)",
     "output_type": "error",
     "traceback": [
      "\u001b[0;31m---------------------------------------------------------------------------\u001b[0m",
      "\u001b[0;31mValueError\u001b[0m                                Traceback (most recent call last)",
      "\u001b[0;32m/var/folders/h8/sxlsbms534sc8_ln9tk771tr0000gn/T/ipykernel_2360/2232060048.py\u001b[0m in \u001b[0;36m<module>\u001b[0;34m\u001b[0m\n\u001b[0;32m----> 1\u001b[0;31m \u001b[0mx\u001b[0m \u001b[0;34m=\u001b[0m \u001b[0mx\u001b[0m\u001b[0;34m.\u001b[0m\u001b[0mreshape\u001b[0m\u001b[0;34m(\u001b[0m\u001b[0;34m(\u001b[0m\u001b[0;36m3\u001b[0m\u001b[0;34m,\u001b[0m \u001b[0;36m4\u001b[0m\u001b[0;34m)\u001b[0m\u001b[0;34m)\u001b[0m\u001b[0;34m\u001b[0m\u001b[0;34m\u001b[0m\u001b[0m\n\u001b[0m\u001b[1;32m      2\u001b[0m \u001b[0mprint\u001b[0m\u001b[0;34m(\u001b[0m\u001b[0mx\u001b[0m\u001b[0;34m)\u001b[0m\u001b[0;34m\u001b[0m\u001b[0;34m\u001b[0m\u001b[0m\n",
      "\u001b[0;31mValueError\u001b[0m: cannot reshape array of size 6 into shape (3,4)"
     ]
    }
   ],
   "source": [
    "x = x.reshape((3, 4))\n",
    "print(x)"
   ]
  },
  {
   "cell_type": "markdown",
   "metadata": {
    "id": "rmmfnZq7HJfL"
   },
   "source": [
    "* A special case of reshaping is *transposition*.\n",
    "* *Transposing* a matrix means exchanging its rows and its columns, so that `x[i, :] --> x[:, i]`."
   ]
  },
  {
   "cell_type": "code",
   "execution_count": 52,
   "metadata": {
    "colab": {
     "base_uri": "https://localhost:8080/"
    },
    "executionInfo": {
     "elapsed": 541,
     "status": "ok",
     "timestamp": 1646361576024,
     "user": {
      "displayName": "Sangheum Hwang",
      "photoUrl": "https://lh3.googleusercontent.com/a-/AOh14GhtqOw3hsZi5PhH_iEySd-ET3W-tZTVnyY_dax5-g=s64",
      "userId": "12292317320178717925"
     },
     "user_tz": -540
    },
    "id": "EA502YgRHemS",
    "outputId": "6a27edd2-c804-482c-c2cd-33be16dc8f1a"
   },
   "outputs": [
    {
     "name": "stdout",
     "output_type": "stream",
     "text": [
      "(20, 300)\n"
     ]
    }
   ],
   "source": [
    "x = np.zeros((300, 20))\n",
    "x = np.transpose(x)\n",
    "print(x.shape)"
   ]
  },
  {
   "cell_type": "markdown",
   "metadata": {
    "id": "mxLAeiPuHh4w"
   },
   "source": [
    "> ### Geometric interpretation of tensor operations"
   ]
  },
  {
   "cell_type": "markdown",
   "metadata": {
    "id": "_8ibzJHep3Im"
   },
   "source": [
    "* The contents of the tensors manipulated by tensor operations --> coordinates of points in some geometric space.\n",
    "* Therefore, all tensor operations have a geometric interpretation.\n",
    "* Geometric interpretation of the sum of two vectors\n",
    "<img src=\"https://drive.google.com/uc?id=1-Kl6QeLYfXli-lfOiJTC0yzrmtUVGqHX\" width=\"800\">\n",
    "\n",
    "* In general, elementary geometric operations such as affine transformations, rotations, scaling, and so on can be expressed as tensor operations.\n",
    "* For example, a rotation of a 2D vector by an angle $\\theta$ can be achieved via a dot product with a 2\\*2 matrix `R`, where\n",
    "  ```python\n",
    "  R = [ [cos(theta), -sin(theta)],\n",
    "        [sin(theta),  cos(theta)] ]\n",
    "  ```"
   ]
  },
  {
   "cell_type": "code",
   "execution_count": 53,
   "metadata": {
    "colab": {
     "base_uri": "https://localhost:8080/"
    },
    "executionInfo": {
     "elapsed": 9,
     "status": "ok",
     "timestamp": 1646361576025,
     "user": {
      "displayName": "Sangheum Hwang",
      "photoUrl": "https://lh3.googleusercontent.com/a-/AOh14GhtqOw3hsZi5PhH_iEySd-ET3W-tZTVnyY_dax5-g=s64",
      "userId": "12292317320178717925"
     },
     "user_tz": -540
    },
    "id": "pYU_8FJBKo5-",
    "outputId": "5c800d2a-e213-4e1d-f673-7579189cc304"
   },
   "outputs": [
    {
     "name": "stdout",
     "output_type": "stream",
     "text": [
      "[0 2]\n"
     ]
    }
   ],
   "source": [
    "import numpy as np\n",
    "\n",
    "x = np.array([2, 0])\n",
    "rotation = np.array([ [0, -1],\n",
    "                      [1,  0] ])\n",
    "z = np.dot(rotation, x) # Careful about the order!\n",
    "print(z)"
   ]
  },
  {
   "cell_type": "code",
   "execution_count": 54,
   "metadata": {
    "colab": {
     "base_uri": "https://localhost:8080/"
    },
    "executionInfo": {
     "elapsed": 7,
     "status": "ok",
     "timestamp": 1646361576025,
     "user": {
      "displayName": "Sangheum Hwang",
      "photoUrl": "https://lh3.googleusercontent.com/a-/AOh14GhtqOw3hsZi5PhH_iEySd-ET3W-tZTVnyY_dax5-g=s64",
      "userId": "12292317320178717925"
     },
     "user_tz": -540
    },
    "id": "vdtCYwiwWJMq",
    "outputId": "ded1f27a-3047-4474-fba3-53598aad4da3"
   },
   "outputs": [
    {
     "data": {
      "text/plain": [
       "array([ 0, -2])"
      ]
     },
     "execution_count": 54,
     "metadata": {},
     "output_type": "execute_result"
    }
   ],
   "source": [
    "np.dot(x, rotation)"
   ]
  },
  {
   "cell_type": "code",
   "execution_count": 55,
   "metadata": {
    "colab": {
     "base_uri": "https://localhost:8080/"
    },
    "executionInfo": {
     "elapsed": 6,
     "status": "ok",
     "timestamp": 1646361576025,
     "user": {
      "displayName": "Sangheum Hwang",
      "photoUrl": "https://lh3.googleusercontent.com/a-/AOh14GhtqOw3hsZi5PhH_iEySd-ET3W-tZTVnyY_dax5-g=s64",
      "userId": "12292317320178717925"
     },
     "user_tz": -540
    },
    "id": "woy0DzXDYH2Q",
    "outputId": "66b61b48-ebee-4479-9847-9ced7476cdc4"
   },
   "outputs": [
    {
     "data": {
      "text/plain": [
       "array([[0, 0],\n",
       "       [2, 0]])"
      ]
     },
     "execution_count": 55,
     "metadata": {},
     "output_type": "execute_result"
    }
   ],
   "source": [
    "rotation * x"
   ]
  },
  {
   "cell_type": "code",
   "execution_count": 56,
   "metadata": {
    "colab": {
     "base_uri": "https://localhost:8080/"
    },
    "executionInfo": {
     "elapsed": 5,
     "status": "ok",
     "timestamp": 1646361576026,
     "user": {
      "displayName": "Sangheum Hwang",
      "photoUrl": "https://lh3.googleusercontent.com/a-/AOh14GhtqOw3hsZi5PhH_iEySd-ET3W-tZTVnyY_dax5-g=s64",
      "userId": "12292317320178717925"
     },
     "user_tz": -540
    },
    "id": "AWJncRlSYWDQ",
    "outputId": "6e855d86-3916-4fb1-a67f-14a31c462559"
   },
   "outputs": [
    {
     "data": {
      "text/plain": [
       "array([[0, 0],\n",
       "       [2, 0]])"
      ]
     },
     "execution_count": 56,
     "metadata": {},
     "output_type": "execute_result"
    }
   ],
   "source": [
    "x * rotation"
   ]
  },
  {
   "cell_type": "markdown",
   "metadata": {
    "id": "jZXsO0_-LkT_"
   },
   "source": [
    "> ### A geometric interpretation of deep learning"
   ]
  },
  {
   "cell_type": "markdown",
   "metadata": {
    "id": "ceNUQZMupym1"
   },
   "source": [
    "* We just learned that neural networks consist entirely of chains of tensor operations and that all of these tensor operations are just geometric transformations of the input data.\n",
    "* We can interpret a neural network = very complex geometric transformation.\n",
    "<img src=\"https://drive.google.com/uc?id=1-PJdmPmJkvQkhNvgeYP_n8ur8MnH6b8B\" width=\"800\">\n"
   ]
  },
  {
   "cell_type": "markdown",
   "metadata": {
    "id": "qXSb2QewjcG8"
   },
   "source": [
    "## Gradient-based optimization"
   ]
  },
  {
   "cell_type": "markdown",
   "metadata": {
    "id": "y-RQLajNjlxi"
   },
   "source": [
    "* Recall that `output = relu(dot(W, input) + b)`\n",
    "  * Here, `W` and `b` are tensors called the *weights* or *trainable parameters* of the layer (the `kernel` and `bias`, respectively).\n",
    "  * These weights contain the information learned by the network from exposure of training data.\n",
    "* Initially, these weight tensors are filled with small random values, a step called *random initialization*. --> This will yield meaningless representations.\n",
    "* These weights will be gradually adjusted based on a feedback signal.\n",
    "* This gradual adjustment, also called *training*, is basically the learning that machine learning is all about.\n",
    "* In a *training loop*, we will do the following things, and repeat these steps as long as necessary:\n",
    "  * Step 1: Draw a batch of training samples `x` and corresponding targets `y`.\n",
    "  * Step 2: Run the network on `x` (a step called the *forward pass*) to obtain predictions `y_pred`.\n",
    "  * Step 3: Compute the loss of the network on the batch, a measure of the mismatch between `y_pred` and `y`.\n",
    "  * Step 4: Update all weights of the network in a way that slightly reduces the loss on this batch.\n",
    "* We'll eventually end up with a network that has a very low loss on its training data: a low mismatch between predictions `y_pred` and expected target `y`.\n",
    "* Step 1, 2, and 3 are straghtforward. The only difficult part is Step 4:\n",
    "  * Given an individual weight coefficient in the network, how can we compute whether the coefficient should be increased or decreased, and by how much?\n",
    "* Note that all operations used in the network are *differentiable*!. Therefore, we can compute the *gradient* of the loss with regard to the network's coefficients.\n",
    "  * Then, we can move the coefficients in the opposite direction from the gradient, thus decreasing the loss."
   ]
  },
  {
   "cell_type": "markdown",
   "metadata": {
    "id": "khBX1IFlnO__"
   },
   "source": [
    "> ### What is a derivative?"
   ]
  },
  {
   "cell_type": "markdown",
   "metadata": {
    "id": "akKOfkSCnbQT"
   },
   "source": [
    "* Consider a continuous and smooth function `f(x) = y`.\n",
    "  * Because the function is *continuous*, a small change in `x` can only result in a small change in `y`.\n",
    "\n",
    "* If you increase `x` by a small factor `epsilon_x`, this results in a small `epsilon_y` change to `y`:\n",
    "  * `f(x + epsilon_x) = y + epsilon_y`\n",
    "\n",
    "* In addition, because the function is *smooth*, when `epsilon_x` is small enough, around a certain point `p`, it is possible to approximate `f` as a linear function of slope `a`, so that `epsilon_y` becomes `a*epsilon_x`:\n",
    "  * `f(x + epsilon_x) = y + a*epsilon_x`\n",
    "  * Obviously, this linear approximation is valid only when `x` is close enough to `p`.\n",
    "\n",
    "* The slope `a` is called the *derivative* of `f` in `p`.\n",
    "  * If `a` is negative: a small change of `x` around `p` --> a decrease of `f(x)`.\n",
    "  * If `a` is positive: a small change of `x` around `p` --> an increase of `f(x)`.\n",
    "  * The absolute value of `a` (the *magnitude* of the derivative): how quickly this increase or decrease will happen.\n",
    "  <img src=\"https://drive.google.com/uc?id=1rQownb5NB1TLMirZzxusxmlp3DNHz3mf\" width=\"800\">\n",
    "\n",
    "  \n",
    "* For every differentiable function `f(x)`, there exists a derivative function `f'(x)` that maps values of `x` to the slope of the local linear approximation of `f` in those points.\n",
    "\n",
    "* If we know the derivative of `f`, then we just need to move `x` a little in the opposite direction from the derivative to reduce the value of `f(x)`."
   ]
  },
  {
   "cell_type": "markdown",
   "metadata": {
    "id": "EdcHOD4orPP8"
   },
   "source": [
    "> ### Derivative of a tensor operation: the gradient"
   ]
  },
  {
   "cell_type": "markdown",
   "metadata": {
    "id": "_iGhchgQrVdp"
   },
   "source": [
    "* A *gradient* is the derivative of a tensor operation.\n",
    "  * It is the generalization of the concept of derivatives to functions of multidimensional inputs.\n",
    "  \n",
    "* Consider an input vector `x`, a matrix `W`, a target `y`, and a loss function `loss`.\n",
    "  * We can use `W` to compute a target candidate `y_pred`, and compute the loss between `y_pred` and `y`. For example,\n",
    "    * `y_pred = dot(W, x)`\n",
    "    * `loss_value = loss(y_pred, y)`\n",
    "  * Since `x` and `y` are frozen, this can be interpreted as a function mapping values of `W` to loss values:\n",
    "    * `loss_value = f(W)`\n",
    "  \n",
    "* Suppose that the current value of `W` is `W0`.\n",
    "  * Then, the derivative of `f` in the point `W0` is a tensor `gradient(f)(W0)` with the same shape as `W`.\n",
    "  * Here, each coefficient `gradient(f)(W0)[i,j]` indicates the direction and magnitude of the change in `loss_value` when modifying `W0[i,j]`.\n",
    "  * The tensor `gradient(f)(W0)` is the gradient of the function `f(W) = loss_value` in `W0`.  \n",
    "  * We know that the derivative of a function `f(x)` of a single coefficient can be interpreted as the slope of the curve of `f`.\n",
    "  * Likewise, `gradient(f)(W0)` can be interpreted as the tensor describing the *slope* of `f(W)` around `W0`.\n",
    "  \n",
    "* Therefore, you can reduce `f(W)` by moving `W` in the opposite direction from the gradient:\n",
    "  * For example, `W1 = W0 - step*gradient(f)(W0)` where `step` is a small constant.\n",
    "  * Note that `step` is needed because `gradient(f)(W0)` only approximates the slope where we are close to `W0`."
   ]
  },
  {
   "cell_type": "markdown",
   "metadata": {
    "id": "e6-cpRTIwFJ1"
   },
   "source": [
    "> ### Stochastic gradient descent"
   ]
  },
  {
   "cell_type": "markdown",
   "metadata": {
    "id": "BUjTnETywJ3V"
   },
   "source": [
    "* We are dealing with a differentiable function, so we can compute its gradient.\n",
    "* It means that if we update the weights in the opposite direction from the gradient, the loss will be a little less every time.\n",
    "* Now, our training loop will consist of the following steps:\n",
    "  * Step 1: Draw a batch of training samples `x` and corresponding targets `y`.\n",
    "  * Step 2: Run the network on `x` to obtain predictions `y_pred`.\n",
    "  * Step 3: Compute the loss of the network on the batch, a measure of the mismatch between `y_pred` and `y`.\n",
    "  * Step 4: Compute the gradient of the loss with regard to the network's parameters (a *backward pass*)\n",
    "  * Step 5: Move the parameters a little in the opposite direction from the gradient - for example, `W -= step*gradient` - thus reducing the loss on the batch a bit.\n",
    "  \n",
    "* The above procedure for updating the weights is called *mini-batch stochastic gradient descent* (mini-batch SGD).\n",
    "  * The term *stochastic*: each batch of data is drawn at random.\n",
    "  * The below figure illustrates what happens in 1D, when the network has only one parameter and we have only one training sample.\n",
    "  <img src=\"https://drive.google.com/uc?id=1mtBfAtdl0-wzvPE8gJy61Hi236g3A-7j\" width=\"600\">\n",
    " \n",
    "  * As we can see, it is important to have a reasonable value for the `step` parameter.\n",
    "    * If it's too small, we need many iterations and it could get stuck in a local minimum.\n",
    "    * It it's too large, we may have completely random locations on the curve.\n",
    "    \n",
    "    <img src=\"https://drive.google.com/uc?id=1N3acIQyBtywasUvhIXoFp90PVa3YB41m\" width=\"600\">\n",
    "  \n",
    "    \n",
    "* *True SGD* VS *mini-batch SGD* VS *batch GD*\n",
    "\n",
    "* There exist multiple variants of SGD that differ by taking into account previous weight updates when computing the next weight update, rather than just looking at the current value of the gradients.\n",
    "  * SGD with momentum, AdaGrad, RMSProp, etc.\n",
    "  * Such variants are known as *optimization methods* or simply *optimizers*.\n",
    "  \n",
    "* The concept of *momentum*\n",
    "  * It addresses two issues with SGD: convergence speed and local minima\n",
    "  * Local minimum and global minimum\n",
    "  <img src=\"https://drive.google.com/uc?id=1mfADtWA7kRI6fhByqiPzOEjbYgw8cyFK\" width=\"600\">\n",
    "    \n",
    "  * We can avoid such local minimums by using momentum.\n",
    "  * Think of the optimization process as a small ball rolling down the loss curve.\n",
    "  * It is implemented by moving the ball at each step based not only the current slope value but also on the current velocity.\n",
    "  * In practice, it means updating the parameter `W` based not only the current gradient value but also on the previous parameter update:\n",
    "  ```python\n",
    "past_velocity = 0.\n",
    "momentum = 0.1\n",
    "while loss > 0.01:\n",
    "      w, loss, gradient = get_current_parameters()\n",
    "      velocity = past_velocity * momentum + learning_rate * gradient\n",
    "      w = w + momentum * velocity - learning_rate * gradient\n",
    "      past_velocity = velocity\n",
    "      update_parameter(w)\n",
    "  ```\n",
    "\n"
   ]
  },
  {
   "cell_type": "markdown",
   "metadata": {
    "id": "x_rUwEbJ4BJq"
   },
   "source": [
    "> ### Chaining derivatives: the Backpropagation algorithm"
   ]
  },
  {
   "cell_type": "markdown",
   "metadata": {
    "id": "B1O1KNXB5Mla"
   },
   "source": [
    "* Note that a neural network function consists of many tensor operations chained together, each of which has a simple, known derivative.\n",
    "\n",
    "* For example, consider a network `f` composed of three tensor operations, `a`, `b`, and `c`, with weight matrices `W1`, `W2`, and `W3`:\n",
    "  * `f(W1, W2, W3) = a(W1, b(W2, c(W3)))`\n",
    "  \n",
    "* Such a chain of functions can be derived using the following *chain rule*:\n",
    "  * `f(g(x)) = f'(g(x)) * g'(x)`\n",
    "  \n",
    "* Applying the chain rule to the computation of the gradient values of a neural network gives rise to an algorithm called *Backpropagation* (also called *reverse-mode differentiation*).\n",
    "  * It starts with the final loss value and works backward from the top layers to the bottom layers.\n",
    "  \n",
    "* Nowdays, modern frameworks that are capable of *symbolic differentiation* compute a gradient function for the chain automatically."
   ]
  },
  {
   "cell_type": "markdown",
   "metadata": {
    "id": "jnw12P1d81g9"
   },
   "source": [
    "## Summary"
   ]
  },
  {
   "cell_type": "markdown",
   "metadata": {
    "id": "0IIJ1Oux9PXQ"
   },
   "source": [
    "* *Learning* means finding a combination of model parameters that minimizes a loss function for a given set of training data samples and their corresponding targets.\n",
    "\n",
    "* Learning happens by drawing random batches of data samples and their targets, and computing the gradient of the network parameters with respect to the loss on the batch. The network parameters are then moved a bit (the magnitude of the move is defined by the learning rate) in the opposite direction from the gradient.\n",
    "\n",
    "* The entire learning process is made possible by the fact that neural networks are chains of differentiable tensor operations, and thus it is possible to apply the chain rule of derivation to find the gradient function mapping the current parameters and current batch of data to a gradient value.\n",
    "\n",
    "* Two key concepts you'll see frequently in future chapters are *loss* and *optimizers*. These are the two things you need to define before you begin feeding data into a network.\n",
    "\n",
    "* The *loss* in the quantity you'll attempt to minimize during training, so it should represent a measure of success for the task you're trying to solve.\n",
    "\n",
    "* The *optimizer* specifies the exact way in which the gradient of the loss will be used to update parameters: for instance, it could be the RMSProp optimizer, SGD with momentum, and so on."
   ]
  }
 ],
 "metadata": {
  "accelerator": "GPU",
  "colab": {
   "collapsed_sections": [
    "dbGDwo4AQFi-",
    "7UzzrFs3l7Bo",
    "TGLA4yN-xyUG",
    "qXSb2QewjcG8",
    "jnw12P1d81g9"
   ],
   "name": "lec03-3-first-neural-networks.ipynb",
   "provenance": [
    {
     "file_id": "1-GA4RXQPyAGWkvdBMBBGzOj61nUDNQes",
     "timestamp": 1552904168896
    }
   ]
  },
  "kernelspec": {
   "display_name": "Python 3 (ipykernel)",
   "language": "python",
   "name": "python3"
  },
  "language_info": {
   "codemirror_mode": {
    "name": "ipython",
    "version": 3
   },
   "file_extension": ".py",
   "mimetype": "text/x-python",
   "name": "python",
   "nbconvert_exporter": "python",
   "pygments_lexer": "ipython3",
   "version": "3.8.11"
  }
 },
 "nbformat": 4,
 "nbformat_minor": 1
}
