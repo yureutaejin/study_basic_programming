{
 "cells": [
  {
   "cell_type": "markdown",
   "metadata": {
    "id": "W-ORnGHCPhM1"
   },
   "source": [
    "## Assignment #1"
   ]
  },
  {
   "cell_type": "markdown",
   "metadata": {
    "id": "VbQVdrrapfG_"
   },
   "source": [
    "* Release date: 2022.03.15 Tue\n",
    "* Due date: **2022.03.22 Tue 23:59** (will not accept late submission)\n",
    "* Submission format: notebook file which can be executed in Colab environment\n",
    "* Weighting: 5% (total 50 pts)"
   ]
  },
  {
   "cell_type": "markdown",
   "metadata": {
    "id": "QeVtMwumpcUu"
   },
   "source": [
    "1. **(10pts)** Calculate `rotation*x` and `x*rotation`. Explain how each computation is performed and why two results are the same.\n",
    "\n",
    "  ```python\n",
    "    import numpy as np\n",
    "\n",
    "    x = np.array([[2, 0]])\n",
    "    rotation = np.array([ [0, -1],\n",
    "                          [1,  0] ])\n",
    "  ```"
   ]
  },
  {
   "cell_type": "markdown",
   "metadata": {
    "id": "ARQKCA9sCpN-"
   },
   "source": [
    "2. **(5pts)** Suppose we have the following 2D tensor (i.e., a matrix). How to rearrange its values into 1D tensor (i.e., a vector) in a column major order?\n",
    "```python\n",
    "x = np.array([[1,  2,  3,  4],\n",
    "                 [5,  6,  7,  8],\n",
    "                 [9, 10, 11, 12]])\n",
    "```"
   ]
  },
  {
   "cell_type": "markdown",
   "metadata": {
    "id": "D0cUrs6OFJVn"
   },
   "source": [
    "3. **(5pts)** Compute a transpose of the matrix `x` in Problem 2 by using only `np.reshape` function."
   ]
  },
  {
   "cell_type": "markdown",
   "metadata": {
    "id": "lVzaCbniHnF6"
   },
   "source": [
    "4. **(5pts)** Perform vector arithmetic to create a `primes_squared_minus_one` vector, where the `i`th element is equal to the `i`th element in `primes` squared minus 1. For example, the second element of `primes_squared_minus_one` would be equal to `3^2 - 1 = 8`. Note that using `for` loop is not allowed.\n",
    "```python\n",
    "import numpy as np\n",
    "primes = np.array([2, 3, 5, 7, 11, 13])\n",
    "primes_squared_minus_one = ?\n",
    "```"
   ]
  },
  {
   "cell_type": "markdown",
   "metadata": {
    "id": "LGIhrK8hVgjh"
   },
   "source": [
    "5. **(10pts)** Given any random matrices, compute the element-wise multiplication using a naive Python implementation and Numpy built-in function respectively. Compare the wall-clock times of these implementations as the size of matrices increases.\n",
    "\n"
   ]
  },
  {
   "cell_type": "markdown",
   "metadata": {
    "id": "cDe6_vqqSe7f"
   },
   "source": [
    "6. **(15pts)** Consider MNIST classification problem covered during the class. For the details, please refer to the course material. In this example, we used the multilayer perceptron composed of an input layer with 512 hidden nodes and an output layer that produces predicted probabilities over 10 classes. In the class, we used GPU as a hardware accelerator to train our model.\n",
    "\n",
    "  Here, let's verify the actual benefit of using GPU for training. For this, compare the wall-clock times in the case of 1) using CPU and 2) using GPU to train MNIST classifier.\n"
   ]
  },
  {
   "cell_type": "markdown",
   "metadata": {},
   "source": [
    "# 1번  \n",
    "numpy broadcasting에 의해 x 배열이 자동으로 변환([[2,0]] -> [[2,0],[2,0]])되었기 때문에 요소별 곱 결과는 동일하다."
   ]
  },
  {
   "cell_type": "code",
   "execution_count": 1,
   "metadata": {},
   "outputs": [
    {
     "name": "stdout",
     "output_type": "stream",
     "text": [
      "[[0 0]\n",
      " [2 0]]\n",
      "[[0 0]\n",
      " [2 0]]\n"
     ]
    }
   ],
   "source": [
    "# 1번\n",
    "import numpy as np\n",
    "\n",
    "x = np.array([[2,0]])\n",
    "rotation = np.array([[0,-1],\n",
    "                    [1, 0]])\n",
    "\n",
    "print(x*rotation)\n",
    "print(rotation*x)"
   ]
  },
  {
   "cell_type": "markdown",
   "metadata": {},
   "source": [
    "# 2번"
   ]
  },
  {
   "cell_type": "code",
   "execution_count": 2,
   "metadata": {},
   "outputs": [
    {
     "data": {
      "text/plain": [
       "array([[ 1,  5,  9],\n",
       "       [ 2,  6, 10],\n",
       "       [ 3,  7, 11],\n",
       "       [ 4,  8, 12]])"
      ]
     },
     "execution_count": 2,
     "metadata": {},
     "output_type": "execute_result"
    }
   ],
   "source": [
    "# 2번\n",
    "x = np.array([[1,  2,  3,  4],\n",
    "              [5,  6,  7,  8],\n",
    "              [9, 10, 11, 12]])\n",
    "new_x = np.transpose(x)\n",
    "new_x"
   ]
  },
  {
   "cell_type": "markdown",
   "metadata": {},
   "source": [
    "# 3번"
   ]
  },
  {
   "cell_type": "code",
   "execution_count": 3,
   "metadata": {},
   "outputs": [
    {
     "data": {
      "text/plain": [
       "array([[ 1,  5,  9],\n",
       "       [ 2,  6, 10],\n",
       "       [ 3,  7, 11],\n",
       "       [ 4,  8, 12]])"
      ]
     },
     "execution_count": 3,
     "metadata": {},
     "output_type": "execute_result"
    }
   ],
   "source": [
    "# 3번\n",
    "x = np.array([[1,  2,  3,  4],\n",
    "              [5,  6,  7,  8],\n",
    "              [9, 10, 11, 12]])\n",
    "\n",
    "temp_x = (x.reshape(3, 4, 1))\n",
    "temp_x\n",
    "\n",
    "temp_list = []\n",
    "\n",
    "k = 0\n",
    "while True:\n",
    "    for i in range(len(temp_x)):\n",
    "        temp_list.append(temp_x[i][k][0])\n",
    "    \n",
    "    if k==3:\n",
    "        k=0\n",
    "    else: \n",
    "        k+=1\n",
    "    if len(temp_list)==x.size:\n",
    "        break\n",
    "        \n",
    "new_x = np.array(temp_list)\n",
    "new_x = np.reshape(new_x, (x.shape[1], x.shape[0]))\n",
    "new_x"
   ]
  },
  {
   "cell_type": "markdown",
   "metadata": {},
   "source": [
    "# 4번"
   ]
  },
  {
   "cell_type": "code",
   "execution_count": 4,
   "metadata": {},
   "outputs": [
    {
     "data": {
      "text/plain": [
       "array([  3,   8,  24,  48, 120, 168])"
      ]
     },
     "execution_count": 4,
     "metadata": {},
     "output_type": "execute_result"
    }
   ],
   "source": [
    "import numpy as np\n",
    "primes = np.array([2, 3, 5, 7, 11, 13])\n",
    "primes_squared_minus_one = primes**2-1\n",
    "primes_squared_minus_one"
   ]
  },
  {
   "cell_type": "markdown",
   "metadata": {},
   "source": [
    "# 5번  \n",
    "numpy built-in function이 python naive function보다 월등히 빠르다."
   ]
  },
  {
   "cell_type": "code",
   "execution_count": 5,
   "metadata": {
    "scrolled": false
   },
   "outputs": [
    {
     "name": "stdout",
     "output_type": "stream",
     "text": [
      "naive function Elapsed time: 0.0000\n",
      "numpy function Elapsed time: 0.0000\n",
      "naive function Elapsed time: 0.0021\n",
      "numpy function Elapsed time: 0.0000\n",
      "naive function Elapsed time: 0.2089\n",
      "numpy function Elapsed time: 0.0011\n"
     ]
    }
   ],
   "source": [
    "ex_1 = np.reshape(np.arange(100), (10, 10))\n",
    "ex_2 = np.reshape(np.arange(10000), (100, 100))\n",
    "ex_3 = np.reshape(np.arange(1000000), (1000, 1000))\n",
    "\n",
    "ex_list = [ex_1, ex_2, ex_3]\n",
    "\n",
    "# function naive python\n",
    "def naive_ex(np_array_1, np_array_2):\n",
    "    assert np_array_1.shape[1] == np_array_2.shape[0]\n",
    "        \n",
    "    width, length = np_array_1.shape\n",
    "    np_new = np_array_1.copy()\n",
    "    for i in range(length):\n",
    "        for j in range(width):\n",
    "            np_new[i, j] = np_array_1[i,j]*np_array_2[i,j]\n",
    "    return np_new\n",
    "\n",
    "\n",
    "# compare\n",
    "\n",
    "import time\n",
    "\n",
    "for ex in ex_list:\n",
    "    ex_temp = ex.copy()\n",
    "    naive_start = time.time()\n",
    "    naive_ex(ex, ex_temp)\n",
    "    naive_elapsed = time.time() - naive_start\n",
    "    print('naive function Elapsed time: %.4f' % naive_elapsed)\n",
    "    \n",
    "    numpy_start = time.time()\n",
    "    np.multiply(ex, ex_temp)\n",
    "    numpy_elapsed = time.time() - numpy_start\n",
    "    print('numpy function Elapsed time: %.4f' % numpy_elapsed)"
   ]
  },
  {
   "cell_type": "markdown",
   "metadata": {},
   "source": [
    "# 6번  \n",
    "In Colab Environment  \n",
    "CPU_Elapsed_time : 45.4480  \n",
    "GPU_Elapsed_time : 23.2251"
   ]
  },
  {
   "cell_type": "code",
   "execution_count": 6,
   "metadata": {
    "scrolled": false
   },
   "outputs": [
    {
     "name": "stdout",
     "output_type": "stream",
     "text": [
      "Metal device set to: Apple M1\n",
      "Epoch 1/10\n"
     ]
    },
    {
     "name": "stderr",
     "output_type": "stream",
     "text": [
      "2022-03-22 22:03:38.249715: I tensorflow/core/common_runtime/pluggable_device/pluggable_device_factory.cc:305] Could not identify NUMA node of platform GPU ID 0, defaulting to 0. Your kernel may not have been built with NUMA support.\n",
      "2022-03-22 22:03:38.249812: I tensorflow/core/common_runtime/pluggable_device/pluggable_device_factory.cc:271] Created TensorFlow device (/job:localhost/replica:0/task:0/device:GPU:0 with 0 MB memory) -> physical PluggableDevice (device: 0, name: METAL, pci bus id: <undefined>)\n",
      "2022-03-22 22:03:38.428393: W tensorflow/core/platform/profile_utils/cpu_utils.cc:128] Failed to get CPU frequency: 0 Hz\n"
     ]
    },
    {
     "name": "stdout",
     "output_type": "stream",
     "text": [
      "  8/469 [..............................] - ETA: 3s - loss: 1.4059 - accuracy: 0.5752  "
     ]
    },
    {
     "name": "stderr",
     "output_type": "stream",
     "text": [
      "2022-03-22 22:03:38.651346: I tensorflow/core/grappler/optimizers/custom_graph_optimizer_registry.cc:113] Plugin optimizer for device_type GPU is enabled.\n"
     ]
    },
    {
     "name": "stdout",
     "output_type": "stream",
     "text": [
      "469/469 [==============================] - 4s 8ms/step - loss: 0.2529 - accuracy: 0.9265\n",
      "Epoch 2/10\n",
      "469/469 [==============================] - 4s 9ms/step - loss: 0.1026 - accuracy: 0.9698\n",
      "Epoch 3/10\n",
      "469/469 [==============================] - 3s 7ms/step - loss: 0.0661 - accuracy: 0.9797\n",
      "Epoch 4/10\n",
      "469/469 [==============================] - 3s 7ms/step - loss: 0.0479 - accuracy: 0.9855\n",
      "Epoch 5/10\n",
      "469/469 [==============================] - 3s 7ms/step - loss: 0.0361 - accuracy: 0.9894\n",
      "Epoch 6/10\n",
      "469/469 [==============================] - 3s 7ms/step - loss: 0.0270 - accuracy: 0.9920\n",
      "Epoch 7/10\n",
      "469/469 [==============================] - 3s 7ms/step - loss: 0.0209 - accuracy: 0.9939\n",
      "Epoch 8/10\n",
      "469/469 [==============================] - 3s 7ms/step - loss: 0.0163 - accuracy: 0.9954\n",
      "Epoch 9/10\n",
      "469/469 [==============================] - 3s 7ms/step - loss: 0.0119 - accuracy: 0.9966\n",
      "Epoch 10/10\n",
      "469/469 [==============================] - 3s 7ms/step - loss: 0.0091 - accuracy: 0.9974\n",
      "Elapsed time: 34.0182\n"
     ]
    }
   ],
   "source": [
    "import tensorflow as tf\n",
    "from tensorflow import keras\n",
    "from tensorflow.keras.datasets import mnist\n",
    "from tensorflow.keras import models\n",
    "from tensorflow.keras import layers\n",
    "from tensorflow.keras.utils import to_categorical\n",
    "\n",
    "(train_images, train_labels), (test_images,test_labels) = mnist.load_data()\n",
    "\n",
    "network = models.Sequential()\n",
    "network.add(layers.Dense(512, activation='relu', input_shape=(28*28,)))\n",
    "network.add(layers.Dense(10, activation='softmax'))\n",
    "network.compile(optimizer='rmsprop',\n",
    "                loss='categorical_crossentropy',\n",
    "                metrics=['accuracy'])\n",
    "\n",
    "train_images = train_images.reshape((60000, 28*28))\n",
    "train_images = train_images.astype('float32') / 255\n",
    "\n",
    "test_images = test_images.reshape((10000, 28*28))\n",
    "test_images = test_images.astype('float32') / 255\n",
    "\n",
    "train_labels = to_categorical(train_labels)\n",
    "test_labels = to_categorical(test_labels)\n",
    "\n",
    "start = time.time()\n",
    "network.fit(train_images, train_labels, epochs=10, batch_size=128)\n",
    "elapsed = time.time() - start\n",
    "\n",
    "print('Elapsed time: %.4f' % elapsed)"
   ]
  }
 ],
 "metadata": {
  "accelerator": "GPU",
  "colab": {
   "collapsed_sections": [],
   "name": "assignment1.ipynb",
   "provenance": [
    {
     "file_id": "1TaAnOrSJr0rPN_5VBPj78fUr6yuZglUl",
     "timestamp": 1553487997965
    },
    {
     "file_id": "1-GA4RXQPyAGWkvdBMBBGzOj61nUDNQes",
     "timestamp": 1552904168896
    }
   ]
  },
  "kernelspec": {
   "display_name": "Python 3 (ipykernel)",
   "language": "python",
   "name": "python3"
  },
  "language_info": {
   "codemirror_mode": {
    "name": "ipython",
    "version": 3
   },
   "file_extension": ".py",
   "mimetype": "text/x-python",
   "name": "python",
   "nbconvert_exporter": "python",
   "pygments_lexer": "ipython3",
   "version": "3.8.11"
  }
 },
 "nbformat": 4,
 "nbformat_minor": 1
}
