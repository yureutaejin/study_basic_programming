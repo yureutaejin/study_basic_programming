{
 "cells": [
  {
   "cell_type": "code",
   "execution_count": 1,
   "metadata": {},
   "outputs": [],
   "source": [
    "import pandas as pd"
   ]
  },
  {
   "cell_type": "code",
   "execution_count": 2,
   "metadata": {},
   "outputs": [
    {
     "data": {
      "text/html": [
       "<div>\n",
       "<style scoped>\n",
       "    .dataframe tbody tr th:only-of-type {\n",
       "        vertical-align: middle;\n",
       "    }\n",
       "\n",
       "    .dataframe tbody tr th {\n",
       "        vertical-align: top;\n",
       "    }\n",
       "\n",
       "    .dataframe thead th {\n",
       "        text-align: right;\n",
       "    }\n",
       "</style>\n",
       "<table border=\"1\" class=\"dataframe\">\n",
       "  <thead>\n",
       "    <tr style=\"text-align: right;\">\n",
       "      <th></th>\n",
       "      <th>x1</th>\n",
       "      <th>x2</th>\n",
       "      <th>y1</th>\n",
       "      <th>y2</th>\n",
       "    </tr>\n",
       "  </thead>\n",
       "  <tbody>\n",
       "    <tr>\n",
       "      <th>0</th>\n",
       "      <td>166.1732</td>\n",
       "      <td>55.6023</td>\n",
       "      <td>-1.2778</td>\n",
       "      <td>-10.31300</td>\n",
       "    </tr>\n",
       "    <tr>\n",
       "      <th>1</th>\n",
       "      <td>186.7266</td>\n",
       "      <td>87.3961</td>\n",
       "      <td>19.2756</td>\n",
       "      <td>21.48070</td>\n",
       "    </tr>\n",
       "    <tr>\n",
       "      <th>2</th>\n",
       "      <td>159.2694</td>\n",
       "      <td>55.2475</td>\n",
       "      <td>-8.1816</td>\n",
       "      <td>-10.66790</td>\n",
       "    </tr>\n",
       "    <tr>\n",
       "      <th>3</th>\n",
       "      <td>174.4309</td>\n",
       "      <td>71.6564</td>\n",
       "      <td>6.9799</td>\n",
       "      <td>5.74100</td>\n",
       "    </tr>\n",
       "    <tr>\n",
       "      <th>4</th>\n",
       "      <td>172.2638</td>\n",
       "      <td>65.7194</td>\n",
       "      <td>4.8128</td>\n",
       "      <td>-0.19590</td>\n",
       "    </tr>\n",
       "    <tr>\n",
       "      <th>5</th>\n",
       "      <td>148.9880</td>\n",
       "      <td>53.0763</td>\n",
       "      <td>-18.4630</td>\n",
       "      <td>-12.83910</td>\n",
       "    </tr>\n",
       "    <tr>\n",
       "      <th>6</th>\n",
       "      <td>159.2009</td>\n",
       "      <td>48.4501</td>\n",
       "      <td>-8.2501</td>\n",
       "      <td>-17.46530</td>\n",
       "    </tr>\n",
       "    <tr>\n",
       "      <th>7</th>\n",
       "      <td>171.7790</td>\n",
       "      <td>70.6938</td>\n",
       "      <td>4.3280</td>\n",
       "      <td>4.77839</td>\n",
       "    </tr>\n",
       "    <tr>\n",
       "      <th>8</th>\n",
       "      <td>163.1725</td>\n",
       "      <td>64.6079</td>\n",
       "      <td>-4.2785</td>\n",
       "      <td>-1.30750</td>\n",
       "    </tr>\n",
       "    <tr>\n",
       "      <th>9</th>\n",
       "      <td>165.4728</td>\n",
       "      <td>71.5016</td>\n",
       "      <td>-1.9782</td>\n",
       "      <td>5.58620</td>\n",
       "    </tr>\n",
       "    <tr>\n",
       "      <th>10</th>\n",
       "      <td>172.9416</td>\n",
       "      <td>71.4369</td>\n",
       "      <td>5.4906</td>\n",
       "      <td>5.52150</td>\n",
       "    </tr>\n",
       "    <tr>\n",
       "      <th>11</th>\n",
       "      <td>168.9933</td>\n",
       "      <td>75.5963</td>\n",
       "      <td>1.5423</td>\n",
       "      <td>9.68090</td>\n",
       "    </tr>\n",
       "  </tbody>\n",
       "</table>\n",
       "</div>"
      ],
      "text/plain": [
       "          x1       x2       y1        y2\n",
       "0   166.1732  55.6023  -1.2778 -10.31300\n",
       "1   186.7266  87.3961  19.2756  21.48070\n",
       "2   159.2694  55.2475  -8.1816 -10.66790\n",
       "3   174.4309  71.6564   6.9799   5.74100\n",
       "4   172.2638  65.7194   4.8128  -0.19590\n",
       "5   148.9880  53.0763 -18.4630 -12.83910\n",
       "6   159.2009  48.4501  -8.2501 -17.46530\n",
       "7   171.7790  70.6938   4.3280   4.77839\n",
       "8   163.1725  64.6079  -4.2785  -1.30750\n",
       "9   165.4728  71.5016  -1.9782   5.58620\n",
       "10  172.9416  71.4369   5.4906   5.52150\n",
       "11  168.9933  75.5963   1.5423   9.68090"
      ]
     },
     "execution_count": 2,
     "metadata": {},
     "output_type": "execute_result"
    }
   ],
   "source": [
    "df_dict = {'x1':[166.1732, 186.7266, 159.2694, 174.4309, 172.2638, 148.988, 159.2009,171.779, 163.1725, 165.4728, 172.9416, 168.9933],\n",
    "          'x2':[55.6023, 87.3961, 55.2475, 71.6564, 65.7194, 53.0763, 48.4501, 70.6938, 64.6079, 71.5016, 71.4369, 75.5963],\n",
    "          'y1':[-1.2778, 19.2756, -8.1816, 6.9799, 4.8128, -18.463, -8.2501, 4.328, -4.2785, -1.9782, 5.4906, 1.5423],\n",
    "          'y2':[-10.3130, 21.4807, -10.6679, 5.7410, -0.1959, -12.8391, -17.4653, 4.77839, -1.3075, 5.5862, 5.5215, 9.6809]}\n",
    "\n",
    "df = pd.DataFrame(df_dict)\n",
    "df"
   ]
  },
  {
   "cell_type": "code",
   "execution_count": 3,
   "metadata": {},
   "outputs": [
    {
     "name": "stdout",
     "output_type": "stream",
     "text": [
      "원데이터 신장 평균: 167.45100000000002\n",
      "원데이터 체중 평균: 65.91538333333335\n",
      "평균보정데이터 신장 평균: 7.401486830834377e-17\n",
      "평균보정데이터 체중 평균: -8.333333335978447e-07\n"
     ]
    }
   ],
   "source": [
    "# (1) 각각의 데이터에서 신장과 체중의 평균을 구하시오\n",
    "def mean_self(temp_column):\n",
    "    temp_sum = 0\n",
    "    for i in temp_column:\n",
    "        temp_sum += i\n",
    "    result = temp_sum / len(temp_column)\n",
    "    \n",
    "    return result\n",
    "\n",
    "print(\"원데이터 신장 평균: {}\".format(mean_self(df['x1'])))\n",
    "print(\"원데이터 체중 평균: {}\".format(mean_self(df['x2'])))\n",
    "\n",
    "print(\"평균보정데이터 신장 평균: {}\".format(mean_self(df['y1'])))\n",
    "print(\"평균보정데이터 체중 평균: {}\".format(mean_self(df['y2'])))"
   ]
  },
  {
   "cell_type": "code",
   "execution_count": 4,
   "metadata": {},
   "outputs": [
    {
     "name": "stdout",
     "output_type": "stream",
     "text": [
      "원데이터 신장 분산: 82.8687060633333\n",
      "원데이터 체중 분산: 113.70136372638889\n",
      "평균보정데이터 신장 분산: 82.86870606333332\n",
      "평균보정데이터 체중 분산: 113.7011806126743\n"
     ]
    }
   ],
   "source": [
    "# (2) 각각의 데이터에서 신장과 체중의 분산을 구하시오.\n",
    "def var_self(temp_column):\n",
    "    temp_mean = mean_self(temp_column)\n",
    "    temp_ss = 0\n",
    "    \n",
    "    for i in temp_column:\n",
    "        temp_ss += (i - temp_mean)*(i-temp_mean)\n",
    "    \n",
    "    result = temp_ss/len(temp_column)\n",
    "    \n",
    "    return result\n",
    "        \n",
    "print(\"원데이터 신장 분산: {}\".format(var_self(df['x1'])))\n",
    "print(\"원데이터 체중 분산: {}\".format(var_self(df['x2'])))\n",
    "\n",
    "print(\"평균보정데이터 신장 분산: {}\".format(var_self(df['y1'])))\n",
    "print(\"평균보정데이터 체중 분산: {}\".format(var_self(df['y2'])))"
   ]
  }
 ],
 "metadata": {
  "kernelspec": {
   "display_name": "Python 3",
   "language": "python",
   "name": "python3"
  },
  "language_info": {
   "codemirror_mode": {
    "name": "ipython",
    "version": 3
   },
   "file_extension": ".py",
   "mimetype": "text/x-python",
   "name": "python",
   "nbconvert_exporter": "python",
   "pygments_lexer": "ipython3",
   "version": "3.8.5"
  }
 },
 "nbformat": 4,
 "nbformat_minor": 4
}
