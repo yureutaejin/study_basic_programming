{
 "cells": [
  {
   "cell_type": "code",
   "execution_count": 18,
   "metadata": {
    "colab": {
     "base_uri": "https://localhost:8080/"
    },
    "executionInfo": {
     "elapsed": 281,
     "status": "ok",
     "timestamp": 1639035468810,
     "user": {
      "displayName": "Yureutae Jin",
      "photoUrl": "https://lh3.googleusercontent.com/a-/AOh14Gj4ixDJ42GXAqQu1fY52wv8kPnONGvPIXuFJRM6AA=s64",
      "userId": "14331430118800228932"
     },
     "user_tz": -540
    },
    "id": "W9VLX4vYHmOr",
    "outputId": "ec045080-ff82-4b19-a473-5f0a4542f607"
   },
   "outputs": [
    {
     "name": "stdout",
     "output_type": "stream",
     "text": [
      "[nltk_data] Downloading package punkt to /root/nltk_data...\n",
      "[nltk_data]   Package punkt is already up-to-date!\n",
      "[nltk_data] Downloading package averaged_perceptron_tagger to\n",
      "[nltk_data]     /root/nltk_data...\n",
      "[nltk_data]   Package averaged_perceptron_tagger is already up-to-\n",
      "[nltk_data]       date!\n",
      "[nltk_data] Downloading package wordnet to /root/nltk_data...\n",
      "[nltk_data]   Package wordnet is already up-to-date!\n",
      "[nltk_data] Downloading package stopwords to /root/nltk_data...\n",
      "[nltk_data]   Unzipping corpora/stopwords.zip.\n"
     ]
    },
    {
     "data": {
      "text/plain": [
       "True"
      ]
     },
     "execution_count": 18,
     "metadata": {},
     "output_type": "execute_result"
    }
   ],
   "source": [
    "# import nltk\n",
    "# nltk.download('punkt')\n",
    "# nltk.download('averaged_perceptron_tagger')\n",
    "# nltk.download('wordnet')\n",
    "# nltk.download('stopwords')"
   ]
  },
  {
   "cell_type": "code",
   "execution_count": 1,
   "metadata": {
    "colab": {
     "base_uri": "https://localhost:8080/"
    },
    "executionInfo": {
     "elapsed": 2379,
     "status": "ok",
     "timestamp": 1639035386446,
     "user": {
      "displayName": "Yureutae Jin",
      "photoUrl": "https://lh3.googleusercontent.com/a-/AOh14Gj4ixDJ42GXAqQu1fY52wv8kPnONGvPIXuFJRM6AA=s64",
      "userId": "14331430118800228932"
     },
     "user_tz": -540
    },
    "id": "ipKikAd8EeeY",
    "outputId": "fb2e9be8-c311-4702-e405-339e42e56950"
   },
   "outputs": [
    {
     "name": "stdout",
     "output_type": "stream",
     "text": [
      "['Do', \"n't\", 'be', 'fooled', 'by', 'the', 'dark', 'sounding', 'name', ',', 'Mr.', 'Jone', \"'s\", 'Orphanage', 'is', 'as', 'cheery', 'as', 'cheery', 'goes', 'for', 'a', 'pastry', 'shop', '.']\n",
      "\n",
      "['Don', \"'\", 't', 'be', 'fooled', 'by', 'the', 'dark', 'sounding', 'name', ',', 'Mr', '.', 'Jone', \"'\", 's', 'Orphanage', 'is', 'as', 'cheery', 'as', 'cheery', 'goes', 'for', 'a', 'pastry', 'shop', '.']\n",
      "\n",
      "[\"don't\", 'be', 'fooled', 'by', 'the', 'dark', 'sounding', 'name', 'mr', \"jone's\", 'orphanage', 'is', 'as', 'cheery', 'as', 'cheery', 'goes', 'for', 'a', 'pastry', 'shop']\n",
      "\n",
      "['Starting', 'a', 'home-based', 'restaurant', 'may', 'be', 'an', 'ideal.', 'it', 'does', \"n't\", 'have', 'a', 'food', 'chain', 'or', 'restaurant', 'of', 'their', 'own', '.']\n"
     ]
    }
   ],
   "source": [
    "# Tokenization\n",
    "# word tokenization -> 토큰의 기준을 단어(word)로 하는 경우\n",
    "\n",
    "# 아포스트로피 처리\n",
    "from nltk.tokenize import word_tokenize\n",
    "print(word_tokenize(\"Don't be fooled by the dark sounding name, Mr. Jone's Orphanage is as cheery as cheery goes for a pastry shop.\"))\n",
    "print()\n",
    "from nltk.tokenize import WordPunctTokenizer\n",
    "print(WordPunctTokenizer().tokenize(\"Don't be fooled by the dark sounding name, Mr. Jone's Orphanage is as cheery as cheery goes for a pastry shop.\"))\n",
    "print()\n",
    "from tensorflow.keras.preprocessing.text import text_to_word_sequence\n",
    "print(text_to_word_sequence(\"Don't be fooled by the dark sounding name, Mr. Jone's Orphanage is as cheery as cheery goes for a pastry shop.\"))\n",
    "print()\n",
    "# 표준 토큰화 예제\n",
    "from nltk.tokenize import TreebankWordTokenizer\n",
    "tokenizer = TreebankWordTokenizer()\n",
    "text = \"Starting a home-based restaurant may be an ideal. it doesn't have a food chain or restaurant of their own.\"\n",
    "print(tokenizer.tokenize(text))"
   ]
  },
  {
   "cell_type": "code",
   "execution_count": 2,
   "metadata": {
    "colab": {
     "base_uri": "https://localhost:8080/"
    },
    "executionInfo": {
     "elapsed": 391,
     "status": "ok",
     "timestamp": 1639035392687,
     "user": {
      "displayName": "Yureutae Jin",
      "photoUrl": "https://lh3.googleusercontent.com/a-/AOh14Gj4ixDJ42GXAqQu1fY52wv8kPnONGvPIXuFJRM6AA=s64",
      "userId": "14331430118800228932"
     },
     "user_tz": -540
    },
    "id": "d59wyrgIEeeZ",
    "outputId": "b2e61884-6ec5-4e5d-ef87-2dbc19896a04",
    "scrolled": true
   },
   "outputs": [
    {
     "name": "stdout",
     "output_type": "stream",
     "text": [
      "['His barber kept his word.', 'But keeping such a huge secret to himself was driving him crazy.', 'Finally, the barber went up a mountain and almost to the edge of a cliff.', 'He dug a hole in the midst of some reeds.', 'He looked about, to make sure no one was near.']\n",
      "\n",
      "['I am actively looking for Ph.D. students.', 'and you are a Ph.D student.']\n",
      "\n"
     ]
    }
   ],
   "source": [
    "# 문장 토큰화\n",
    "from nltk.tokenize import sent_tokenize\n",
    "text = \"His barber kept his word. But keeping such a huge secret to himself was driving him crazy. Finally, the barber went up a mountain and almost to the edge of a cliff. He dug a hole in the midst of some reeds. He looked about, to make sure no one was near.\"\n",
    "print(sent_tokenize(text))\n",
    "print()\n",
    "text_2 = \"I am actively looking for Ph.D. students. and you are a Ph.D student.\"\n",
    "print(sent_tokenize(text_2))\n",
    "print()"
   ]
  },
  {
   "cell_type": "code",
   "execution_count": 3,
   "metadata": {
    "colab": {
     "base_uri": "https://localhost:8080/"
    },
    "executionInfo": {
     "elapsed": 284,
     "status": "ok",
     "timestamp": 1639035422351,
     "user": {
      "displayName": "Yureutae Jin",
      "photoUrl": "https://lh3.googleusercontent.com/a-/AOh14Gj4ixDJ42GXAqQu1fY52wv8kPnONGvPIXuFJRM6AA=s64",
      "userId": "14331430118800228932"
     },
     "user_tz": -540
    },
    "id": "e2JQdwJQEeea",
    "outputId": "93b1c426-33f7-4b21-e5b4-8a32f0d0e716"
   },
   "outputs": [
    {
     "name": "stdout",
     "output_type": "stream",
     "text": [
      "[('I', 'PRP'), ('am', 'VBP'), ('actively', 'RB'), ('looking', 'VBG'), ('for', 'IN'), ('Ph.D.', 'NNP'), ('students', 'NNS'), ('.', '.'), ('and', 'CC'), ('you', 'PRP'), ('are', 'VBP'), ('a', 'DT'), ('Ph.D.', 'NNP'), ('student', 'NN'), ('.', '.')]\n"
     ]
    }
   ],
   "source": [
    "# 품사 태깅\n",
    "from nltk.tokenize import word_tokenize\n",
    "text = \"I am actively looking for Ph.D. students. and you are a Ph.D. student.\"\n",
    "from nltk.tag import pos_tag\n",
    "tokenized_sentence = word_tokenize(text)\n",
    "print(pos_tag(tokenized_sentence))"
   ]
  },
  {
   "cell_type": "code",
   "execution_count": 4,
   "metadata": {
    "colab": {
     "base_uri": "https://localhost:8080/"
    },
    "executionInfo": {
     "elapsed": 304,
     "status": "ok",
     "timestamp": 1639035420694,
     "user": {
      "displayName": "Yureutae Jin",
      "photoUrl": "https://lh3.googleusercontent.com/a-/AOh14Gj4ixDJ42GXAqQu1fY52wv8kPnONGvPIXuFJRM6AA=s64",
      "userId": "14331430118800228932"
     },
     "user_tz": -540
    },
    "id": "aCIssJTXEeea",
    "outputId": "940cbcf5-0a62-4d58-8de3-656be78de150"
   },
   "outputs": [
    {
     "name": "stdout",
     "output_type": "stream",
     "text": [
      " was wondering anyone out there could enlighten this car.\n"
     ]
    }
   ],
   "source": [
    "# 정제(cleaning) and 정규화(Normalization)\n",
    "import re\n",
    "text = \"I was wondering if anyone out there could enlighten me on this car.\"\n",
    "\n",
    "# 얻어낸 코퍼스에서 노이즈 데이터의 특징을 잡아낼 수 있다면 정규 표현식을 통해서 이를 제거 (HTML 태그, 기사의 게재 시간 등의 규칙 기반)\n",
    "shortword = re.compile(r'\\W*\\b\\w{1,2}\\b') # 길이가 1~2인 단어들을 정규 표현식을 이용하여 삭제\n",
    "print(shortword.sub('', text))"
   ]
  },
  {
   "cell_type": "code",
   "execution_count": 5,
   "metadata": {
    "colab": {
     "base_uri": "https://localhost:8080/",
     "height": 53
    },
    "executionInfo": {
     "elapsed": 2306,
     "status": "ok",
     "timestamp": 1639035444574,
     "user": {
      "displayName": "Yureutae Jin",
      "photoUrl": "https://lh3.googleusercontent.com/a-/AOh14Gj4ixDJ42GXAqQu1fY52wv8kPnONGvPIXuFJRM6AA=s64",
      "userId": "14331430118800228932"
     },
     "user_tz": -540
    },
    "id": "87FeEyWAEeeb",
    "outputId": "324ec999-6c11-4e9c-a0ac-5f36b7c05354"
   },
   "outputs": [
    {
     "name": "stdout",
     "output_type": "stream",
     "text": [
      "['policy', 'doing', 'organization', 'have', 'going', 'love', 'life', 'fly', 'dy', 'watched', 'ha', 'starting']\n"
     ]
    },
    {
     "data": {
      "text/plain": [
       "'have'"
      ]
     },
     "execution_count": 5,
     "metadata": {},
     "output_type": "execute_result"
    }
   ],
   "source": [
    "# 어간 추출(Stemming) and 표제어 추출(Lemmatiztion)\n",
    "## 표제어: 문법적 의미가 같은 것 -> 형태학적 파싱 진행(형태소 단위부터 시작하여 단어를 만들어 감)\n",
    "## 형태소 - 어간(stem): 단어의 의미를 담고 있는 단어의 핵심 부분, 접사(affix): 단어에 추가적인 의미를 주는 부분\n",
    "\n",
    "#표제어 추출\n",
    "from nltk.stem import WordNetLemmatizer\n",
    "lemmatizer = WordNetLemmatizer()\n",
    "words = ['policy', 'doing', 'organization', 'have', 'going', 'love', 'lives', 'fly', 'dies', 'watched', 'has', 'starting']\n",
    "lemmatize_word = []\n",
    "for w in words:\n",
    "    lemmatize_word.append(lemmatizer.lemmatize(w))\n",
    "print(lemmatize_word)\n",
    "\n",
    "# 정확하지 않은 단어는 품사의 정보를 입력해주어야 함.\n",
    "lemmatizer.lemmatize('dies', 'v')\n",
    "lemmatizer.lemmatize('watched', 'v')\n",
    "lemmatizer.lemmatize('has', 'v')"
   ]
  },
  {
   "cell_type": "code",
   "execution_count": 6,
   "metadata": {
    "colab": {
     "base_uri": "https://localhost:8080/"
    },
    "executionInfo": {
     "elapsed": 283,
     "status": "ok",
     "timestamp": 1639035449068,
     "user": {
      "displayName": "Yureutae Jin",
      "photoUrl": "https://lh3.googleusercontent.com/a-/AOh14Gj4ixDJ42GXAqQu1fY52wv8kPnONGvPIXuFJRM6AA=s64",
      "userId": "14331430118800228932"
     },
     "user_tz": -540
    },
    "id": "dzz0-nwgEeec",
    "outputId": "1bf7287d-8cba-4160-b758-ebd404482538"
   },
   "outputs": [
    {
     "name": "stdout",
     "output_type": "stream",
     "text": [
      "['This', 'was', 'not', 'the', 'map', 'we', 'found', 'in', 'Billy', 'Bones', \"'s\", 'chest', ',', 'but', 'an', 'accurate', 'copy', ',', 'complete', 'in', 'all', 'things', '--', 'names', 'and', 'heights', 'and', 'soundings', '--', 'with', 'the', 'single', 'exception', 'of', 'the', 'red', 'crosses', 'and', 'the', 'written', 'notes', '.']\n",
      "\n",
      "['thi', 'wa', 'not', 'the', 'map', 'we', 'found', 'in', 'billi', 'bone', \"'s\", 'chest', ',', 'but', 'an', 'accur', 'copi', ',', 'complet', 'in', 'all', 'thing', '--', 'name', 'and', 'height', 'and', 'sound', '--', 'with', 'the', 'singl', 'except', 'of', 'the', 'red', 'cross', 'and', 'the', 'written', 'note', '.']\n",
      "\n",
      "['polici', 'do', 'organ', 'have', 'go', 'love', 'live', 'fli', 'die', 'watch', 'ha', 'start']\n",
      "['policy', 'doing', 'org', 'hav', 'going', 'lov', 'liv', 'fly', 'die', 'watch', 'has', 'start']\n"
     ]
    }
   ],
   "source": [
    "# 어간 추출\n",
    "## Porterstemmer 알고리즘\n",
    "from nltk.stem import PorterStemmer\n",
    "from nltk.tokenize import word_tokenize\n",
    "stemmer = PorterStemmer()\n",
    "text = \"This was not the map we found in Billy Bones's chest, but an accurate copy, complete in all things--names and heights and soundings--with the single exception of the red crosses and the written notes.\"\n",
    "words = word_tokenize(text)\n",
    "print(words)\n",
    "print()\n",
    "print([stemmer.stem(w) for w in words])\n",
    "print()\n",
    "## Lancasterstemmer 알고리즘\n",
    "from nltk.stem import LancasterStemmer\n",
    "lancaster_stemmer = LancasterStemmer()\n",
    "words = ['policy', 'doing', 'organization', 'have', 'going', 'love', 'lives', 'fly', 'dies', 'watched', 'has', 'starting']\n",
    "print([stemmer.stem(w) for w in words])\n",
    "print([lancaster_stemmer.stem(w) for w in words])"
   ]
  },
  {
   "cell_type": "code",
   "execution_count": 7,
   "metadata": {
    "colab": {
     "base_uri": "https://localhost:8080/"
    },
    "executionInfo": {
     "elapsed": 287,
     "status": "ok",
     "timestamp": 1639035474660,
     "user": {
      "displayName": "Yureutae Jin",
      "photoUrl": "https://lh3.googleusercontent.com/a-/AOh14Gj4ixDJ42GXAqQu1fY52wv8kPnONGvPIXuFJRM6AA=s64",
      "userId": "14331430118800228932"
     },
     "user_tz": -540
    },
    "id": "f5CBhFi3Eeed",
    "outputId": "da168178-fe63-4472-d4b5-e35bc22e6b48"
   },
   "outputs": [
    {
     "name": "stdout",
     "output_type": "stream",
     "text": [
      "['Family', 'is', 'not', 'an', 'important', 'thing', '.', 'It', \"'s\", 'everything', '.']\n",
      "['Family', 'important', 'thing', '.', 'It', \"'s\", 'everything', '.']\n"
     ]
    }
   ],
   "source": [
    "# 불용어(stopword)\n",
    "\n",
    "from nltk.corpus import stopwords\n",
    "stopwords.words('english')[:10]\n",
    "\n",
    "# NLTK 통해서 불용어 제거\n",
    "from nltk.corpus import stopwords\n",
    "from nltk.tokenize import word_tokenize\n",
    "\n",
    "example = \"Family is not an important thing. It's everything.\"\n",
    "stop_words = set(stopwords.words('english'))\n",
    "\n",
    "word_tokens = word_tokenize(example)\n",
    "\n",
    "result = []\n",
    "for w in word_tokens:\n",
    "    if w not in stop_words:\n",
    "        result.append(w)\n",
    "print(word_tokens)\n",
    "print(result)"
   ]
  },
  {
   "cell_type": "code",
   "execution_count": 8,
   "metadata": {
    "colab": {
     "base_uri": "https://localhost:8080/",
     "height": 53
    },
    "executionInfo": {
     "elapsed": 281,
     "status": "ok",
     "timestamp": 1639035477864,
     "user": {
      "displayName": "Yureutae Jin",
      "photoUrl": "https://lh3.googleusercontent.com/a-/AOh14Gj4ixDJ42GXAqQu1fY52wv8kPnONGvPIXuFJRM6AA=s64",
      "userId": "14331430118800228932"
     },
     "user_tz": -540
    },
    "id": "m1qMG5SeEeee",
    "outputId": "01853655-9cd9-490a-825d-30d76a185213"
   },
   "outputs": [
    {
     "data": {
      "text/plain": [
       "'Regular expression   A regular expression  regex or regexp     sometimes called a rational expression        is  in theoretical computer science and formal language theory  a sequence of characters that define a search pattern '"
      ]
     },
     "execution_count": 8,
     "metadata": {},
     "output_type": "execute_result"
    }
   ],
   "source": [
    "# 정규표현식 -> re 모듈 활용\n",
    "import re\n",
    "\n",
    "# .기호 -> 한 개의 임의의 문자를 뜻함\n",
    "r = re.compile(\"a.c\")\n",
    "r.search(\"kkk\")\n",
    "r.search(\"abc\")\n",
    "\n",
    "# ?기호 -> ? 앞의 문자가 존재할 수도 있고, 존재하지 않을 수도 있는 경우를 나타냄\n",
    "r = re.compile(\"ab?c\")\n",
    "r.search(\"abbc\")\n",
    "r.search(\"abc\")\n",
    "r.search(\"ac\")\n",
    "\n",
    "# *기호 -> 바로 앞의 문자가 0개 이상일 경우. 앞의 문자는 존재하지 않을 수도 있고 여러 개일 수도 있음\n",
    "r = re.compile(\"ab*c\")\n",
    "r.search(\"a\")\n",
    "r.search(\"ac\")\n",
    "r.search(\"abc\")\n",
    "r.search(\"abbbbc\")\n",
    "\n",
    "# +기호 -> *과 유사하나 앞의 문자가 최소 1개 이상이어야함\n",
    "r = re.compile(\"ab+c\")\n",
    "r.search(\"ac\")\n",
    "r.search(\"abc\")\n",
    "r.search(\"abbbbc\")\n",
    "\n",
    "# ^기호 -> 시작되는 글자를 지정\n",
    "r = re.compile(\"^a\")\n",
    "r.search(\"bbc\")\n",
    "r.search(\"ab\")\n",
    "\n",
    "# {숫자}기호 -> 해당 문자를 숫자만큼 반복한 것\n",
    "r = re.compile(\"ab{2}c\")\n",
    "r.search(\"ac\")\n",
    "r.search(\"abc\")\n",
    "r.search(\"abbc\")\n",
    "r.search(\"abbbbc\")\n",
    "\n",
    "# {숫자1, 숫자2}기호 -> 해당 문자를 숫자1 이상 숫자2이하만큼 반복\n",
    "r = re.compile(\"ab{2,8}c\")\n",
    "r.search(\"ac\")\n",
    "r.search(\"abc\")\n",
    "r.search(\"abbbc\")\n",
    "\n",
    "# {숫자,}기호 -> 해당 문자를 숫자 이상 만큼 반복\n",
    "r = re.compile(\"a{2,}bc\")\n",
    "r.search(\"bc\")\n",
    "r.search(\"aa\")\n",
    "r.search(\"aabc\")\n",
    "r.search(\"aaaaaaaabc\")\n",
    "\n",
    "# []기호 -> 대괄호안 문자들 중 한개의 문자와 매치\n",
    "r = re.compile(\"[abc]\")\n",
    "r.search(\"zzz\")\n",
    "r.search(\"a\")\n",
    "r.search(\"aaaaa\")\n",
    "r.search(\"baaac\")\n",
    "\n",
    "# [^문자]기호 -> ^ 기호 뒤에 붙은 문자들을 제외한 모든 문자를 매치\n",
    "r = re.compile(\"[^abc]\")\n",
    "r.search(\"a\")\n",
    "r.search(\"ab\")\n",
    "r.search(\"1\")\n",
    "\n",
    "# re.split() -> 문자열을 분리하여 리스트로 리턴화\n",
    "text = \"사과 딸기 수박 메론 바나나\"\n",
    "re.split(\" \", text)\n",
    "\n",
    "text =\"\"\"사과\n",
    "딸기\n",
    "수박\n",
    "메론\n",
    "바나나\"\"\"\n",
    "re.split(\"\\n\", text)\n",
    "\n",
    "text = \"사과+딸기+수박+메론+바나나\"\n",
    "re.split(\"\\+\", text)\n",
    "\n",
    "# re.findall() -> 정규 표현식과 매치되는 모든 문자열들을 리스트로 리턴\n",
    "text = \"\"\"이름 : 김철수\n",
    "전화번호 : 010 - 1234 - 1234\n",
    "나이 : 30\n",
    "성별 : 남\"\"\"\n",
    "re.findall(\"\\d+\", text)\n",
    "\n",
    "# re.sub() -> 정규 표현식 패턴과 일치하는 문자열을 찾아 다른 문자열로 대체\n",
    "text = \"Regular expression : A regular expression, regex or regexp[1] (sometimes called a rational expression)[2][3] is, in theoretical computer science and formal language theory, a sequence of characters that define a search pattern.\"\n",
    "re.sub('[^a-zA-Z]',' ',text)"
   ]
  },
  {
   "cell_type": "code",
   "execution_count": 9,
   "metadata": {
    "colab": {
     "base_uri": "https://localhost:8080/"
    },
    "executionInfo": {
     "elapsed": 286,
     "status": "ok",
     "timestamp": 1639035481500,
     "user": {
      "displayName": "Yureutae Jin",
      "photoUrl": "https://lh3.googleusercontent.com/a-/AOh14Gj4ixDJ42GXAqQu1fY52wv8kPnONGvPIXuFJRM6AA=s64",
      "userId": "14331430118800228932"
     },
     "user_tz": -540
    },
    "id": "QcCXhp_jEeee",
    "outputId": "37167d5e-8b8e-442d-9625-5e0fbbecd1e2"
   },
   "outputs": [
    {
     "data": {
      "text/plain": [
       "['John', 'James', 'Mac']"
      ]
     },
     "execution_count": 9,
     "metadata": {},
     "output_type": "execute_result"
    }
   ],
   "source": [
    "# 정규 표현식 텍스트 전처리 예제\n",
    "text = \"\"\"100 John    PROF\n",
    "101 James   STUD\n",
    "102 Mac   STUD\"\"\"\n",
    "\n",
    "re.split('\\s+', text)\n",
    "re.findall('\\d+', text)\n",
    "re.findall('[A-Z]', text)\n",
    "re.findall('[A-Z][a-z]+', text)"
   ]
  },
  {
   "cell_type": "code",
   "execution_count": 10,
   "metadata": {
    "colab": {
     "base_uri": "https://localhost:8080/"
    },
    "executionInfo": {
     "elapsed": 351,
     "status": "ok",
     "timestamp": 1639035483712,
     "user": {
      "displayName": "Yureutae Jin",
      "photoUrl": "https://lh3.googleusercontent.com/a-/AOh14Gj4ixDJ42GXAqQu1fY52wv8kPnONGvPIXuFJRM6AA=s64",
      "userId": "14331430118800228932"
     },
     "user_tz": -540
    },
    "id": "DClw0LIGEeef",
    "outputId": "8d16b597-e1a0-4ac7-8102-fc153e728cdc"
   },
   "outputs": [
    {
     "name": "stdout",
     "output_type": "stream",
     "text": [
      "['Don', 't', 'be', 'fooled', 'by', 'the', 'dark', 'sounding', 'name', 'Mr', 'Jone', 's', 'Orphanage', 'is', 'as', 'cheery', 'as', 'cheery', 'goes', 'for', 'a', 'pastry', 'shop']\n",
      "[\"Don't\", 'be', 'fooled', 'by', 'the', 'dark', 'sounding', 'name,', 'Mr.', \"Jone's\", 'Orphanage', 'is', 'as', 'cheery', 'as', 'cheery', 'goes', 'for', 'a', 'pastry', 'shop']\n"
     ]
    }
   ],
   "source": [
    "# 정규 표현식 이용 토큰화\n",
    "from nltk.tokenize import RegexpTokenizer\n",
    "tokenizer = RegexpTokenizer(\"[\\w]+\")\n",
    "print(tokenizer.tokenize(\"Don't be fooled by the dark sounding name, Mr. Jone's Orphanage is as cheery as cheery goes for a pastry shop\"))\n",
    "\n",
    "tokenizer = RegexpTokenizer(\"\\s+\", gaps=True)\n",
    "print(tokenizer.tokenize(\"Don't be fooled by the dark sounding name, Mr. Jone's Orphanage is as cheery as cheery goes for a pastry shop\"))"
   ]
  },
  {
   "cell_type": "code",
   "execution_count": 11,
   "metadata": {
    "colab": {
     "base_uri": "https://localhost:8080/"
    },
    "executionInfo": {
     "elapsed": 283,
     "status": "ok",
     "timestamp": 1639035485549,
     "user": {
      "displayName": "Yureutae Jin",
      "photoUrl": "https://lh3.googleusercontent.com/a-/AOh14Gj4ixDJ42GXAqQu1fY52wv8kPnONGvPIXuFJRM6AA=s64",
      "userId": "14331430118800228932"
     },
     "user_tz": -540
    },
    "id": "Gji6RgasEeef",
    "outputId": "ad6b2b21-98ac-4476-f99d-994bd3813511"
   },
   "outputs": [
    {
     "name": "stdout",
     "output_type": "stream",
     "text": [
      "['A barber is a person.', 'a barber is good person.', 'a barber is huge person.', 'he Knew A Secret!', 'The Secret He Kept is huge secret.', 'Huge secret.', 'His barber kept his word.', 'a barber kept his word.', 'His barber kept his secret.', 'But keeping and keeping such a huge secret to himself was driving the barber crazy.', 'the barber went up a huge mountain.']\n",
      "\n",
      "[['barber', 'person'], ['barber', 'good', 'person'], ['barber', 'huge', 'person'], ['knew', 'secret'], ['secret', 'kept', 'huge', 'secret'], ['huge', 'secret'], ['barber', 'kept', 'word'], ['barber', 'kept', 'word'], ['barber', 'kept', 'secret'], ['keeping', 'keeping', 'huge', 'secret', 'driving', 'barber', 'crazy'], ['barber', 'went', 'huge', 'mountain']]\n",
      "\n",
      "{'barber': 8, 'person': 3, 'good': 1, 'huge': 5, 'knew': 1, 'secret': 6, 'kept': 4, 'word': 2, 'keeping': 2, 'driving': 1, 'crazy': 1, 'went': 1, 'mountain': 1}\n",
      "[('barber', 8), ('secret', 6), ('huge', 5), ('kept', 4), ('person', 3), ('word', 2), ('keeping', 2), ('good', 1), ('knew', 1), ('driving', 1), ('crazy', 1), ('went', 1), ('mountain', 1)]\n",
      "\n",
      "{'barber': 1, 'secret': 2, 'huge': 3, 'kept': 4, 'person': 5, 'word': 6, 'keeping': 7}\n",
      "\n",
      "{'barber': 1, 'secret': 2, 'huge': 3, 'kept': 4, 'person': 5}\n",
      "\n",
      "{'barber': 1, 'secret': 2, 'huge': 3, 'kept': 4, 'person': 5, 'OOV': 6}\n",
      "\n",
      "[[1, 5], [1, 6, 5], [1, 3, 5], [6, 2], [2, 4, 3, 2], [3, 2], [1, 4, 6], [1, 4, 6], [1, 4, 2], [6, 6, 3, 2, 6, 1, 6], [1, 6, 3, 6]]\n"
     ]
    }
   ],
   "source": [
    "# 정수 인코딩 풀이\n",
    "# dictionary\n",
    "from nltk.tokenize import sent_tokenize\n",
    "from nltk.tokenize import word_tokenize\n",
    "from nltk.corpus import stopwords\n",
    "\n",
    "raw_text = \"A barber is a person. a barber is good person. a barber is huge person. he Knew A Secret! The Secret He Kept is huge secret. Huge secret. His barber kept his word. a barber kept his word. His barber kept his secret. But keeping and keeping such a huge secret to himself was driving the barber crazy. the barber went up a huge mountain.\"\n",
    "\n",
    "sentences = sent_tokenize(raw_text)\n",
    "print(sentences)\n",
    "print()\n",
    "vocab = {}\n",
    "preprocessed_sentences = []\n",
    "stop_words = set(stopwords.words('english'))\n",
    "\n",
    "for sentence in sentences:\n",
    "    # 단어 토큰화\n",
    "    tokenized_sentence = word_tokenize(sentence)\n",
    "    result = []\n",
    "    \n",
    "    for word in tokenized_sentence:\n",
    "        word = word.lower()\n",
    "        if word not in stop_words:\n",
    "            if len(word) > 2:\n",
    "                \n",
    "                result.append(word)\n",
    "                if word not in vocab:\n",
    "                    vocab[word] = 0\n",
    "                vocab[word] += 1\n",
    "    preprocessed_sentences.append(result)\n",
    "print(preprocessed_sentences)\n",
    "print()\n",
    "print(vocab)\n",
    "\n",
    "vocab_sorted = sorted(vocab.items(), key = lambda x:x[1], reverse = True)\n",
    "print(vocab_sorted)\n",
    "print()\n",
    "\n",
    "word_to_index = {} # 빈도수가 높은 단어일수록 낮은 정수 인덱스를 부여\n",
    "i = 0\n",
    "for (word, frequency) in vocab_sorted:\n",
    "    if frequency > 1:\n",
    "        i = i + 1\n",
    "        word_to_index[word] = i\n",
    "        \n",
    "print(word_to_index)\n",
    "print()\n",
    "\n",
    "# 상위 n개의 단어만 사용\n",
    "vocab_size = 5\n",
    "words_frequency = [word for word, index in word_to_index.items() if index >= vocab_size + 1]\n",
    "for w in words_frequency:\n",
    "    del word_to_index[w]\n",
    "print(word_to_index)\n",
    "print()\n",
    "\n",
    "# Out-Of-Vocabulary\n",
    "word_to_index['OOV'] = len(word_to_index) + 1\n",
    "print(word_to_index)\n",
    "print()\n",
    "\n",
    "# encoding\n",
    "encoded_sentences = []\n",
    "for sentence in preprocessed_sentences:\n",
    "    encoded_sentence = []\n",
    "    for word in sentence:\n",
    "        try:\n",
    "            encoded_sentence.append(word_to_index[word])\n",
    "        except KeyError:\n",
    "            encoded_sentence.append(word_to_index['OOV'])\n",
    "    encoded_sentences.append(encoded_sentence)\n",
    "print(encoded_sentences)"
   ]
  },
  {
   "cell_type": "code",
   "execution_count": 12,
   "metadata": {
    "colab": {
     "base_uri": "https://localhost:8080/"
    },
    "executionInfo": {
     "elapsed": 311,
     "status": "ok",
     "timestamp": 1639035490129,
     "user": {
      "displayName": "Yureutae Jin",
      "photoUrl": "https://lh3.googleusercontent.com/a-/AOh14Gj4ixDJ42GXAqQu1fY52wv8kPnONGvPIXuFJRM6AA=s64",
      "userId": "14331430118800228932"
     },
     "user_tz": -540
    },
    "id": "bGmPxpUsEeeg",
    "outputId": "00d2c0dc-b02c-4cb6-9b3c-377cb0b43a61"
   },
   "outputs": [
    {
     "name": "stdout",
     "output_type": "stream",
     "text": [
      "[['barber', 'person'], ['barber', 'good', 'person'], ['barber', 'huge', 'person'], ['knew', 'secret'], ['secret', 'kept', 'huge', 'secret'], ['huge', 'secret'], ['barber', 'kept', 'word'], ['barber', 'kept', 'word'], ['barber', 'kept', 'secret'], ['keeping', 'keeping', 'huge', 'secret', 'driving', 'barber', 'crazy'], ['barber', 'went', 'huge', 'mountain']]\n",
      "\n",
      "['barber', 'person', 'barber', 'good', 'person', 'barber', 'huge', 'person', 'knew', 'secret', 'secret', 'kept', 'huge', 'secret', 'huge', 'secret', 'barber', 'kept', 'word', 'barber', 'kept', 'word', 'barber', 'kept', 'secret', 'keeping', 'keeping', 'huge', 'secret', 'driving', 'barber', 'crazy', 'barber', 'went', 'huge', 'mountain']\n",
      "\n",
      "Counter({'barber': 8, 'secret': 6, 'huge': 5, 'kept': 4, 'person': 3, 'word': 2, 'keeping': 2, 'good': 1, 'knew': 1, 'driving': 1, 'crazy': 1, 'went': 1, 'mountain': 1})\n",
      "\n",
      "[('barber', 8), ('secret', 6), ('huge', 5), ('kept', 4), ('person', 3)]\n",
      "{'barber': 1, 'secret': 2, 'huge': 3, 'kept': 4, 'person': 5}\n"
     ]
    }
   ],
   "source": [
    "# Counter 사용 encoding\n",
    "from collections import Counter\n",
    "print(preprocessed_sentences)\n",
    "print()\n",
    "\n",
    "# 겹대괄호 제거 -> np.hstack(preprocessed_sentences)로도 가능\n",
    "all_words_list = sum(preprocessed_sentences, [])\n",
    "print(all_words_list)\n",
    "print()\n",
    "\n",
    "vocab = Counter(all_words_list)\n",
    "print(vocab)\n",
    "print()\n",
    "\n",
    "vocab_size = 5\n",
    "vocab = vocab.most_common(vocab_size) # 등장 빈도수가 높은 상위 5개의 단어만 저장\n",
    "print(vocab)\n",
    "\n",
    "word_to_index = {}\n",
    "i = 0\n",
    "for (word, frequency) in vocab:\n",
    "    i += 1\n",
    "    word_to_index[word] = i\n",
    "\n",
    "print(word_to_index)"
   ]
  },
  {
   "cell_type": "code",
   "execution_count": 13,
   "metadata": {
    "colab": {
     "base_uri": "https://localhost:8080/"
    },
    "executionInfo": {
     "elapsed": 322,
     "status": "ok",
     "timestamp": 1639035493737,
     "user": {
      "displayName": "Yureutae Jin",
      "photoUrl": "https://lh3.googleusercontent.com/a-/AOh14Gj4ixDJ42GXAqQu1fY52wv8kPnONGvPIXuFJRM6AA=s64",
      "userId": "14331430118800228932"
     },
     "user_tz": -540
    },
    "id": "PuRbedC8Eeeg",
    "outputId": "4cc05c26-52cf-4caf-ecb3-3dc8b3e6e03c"
   },
   "outputs": [
    {
     "name": "stdout",
     "output_type": "stream",
     "text": [
      "8\n",
      "\n",
      "[('barber', 8), ('secret', 6), ('huge', 5), ('kept', 4), ('person', 3)]\n",
      "\n",
      "{'barber': 1, 'secret': 2, 'huge': 3, 'kept': 4, 'person': 5}\n"
     ]
    }
   ],
   "source": [
    "# NLTK FreqDist -> 빈도수 계산 도구 사용 encoding\n",
    "from nltk import FreqDist\n",
    "import numpy as np\n",
    "\n",
    "vocab = FreqDist(np.hstack(preprocessed_sentences))\n",
    "print(vocab[\"barber\"])\n",
    "print()\n",
    "\n",
    "vocab_size = 5\n",
    "vocab = vocab.most_common(vocab_size)\n",
    "print(vocab)\n",
    "print()\n",
    "\n",
    "word_to_index = {word[0] : index + 1 for index, word in enumerate(vocab)}\n",
    "print(word_to_index)"
   ]
  },
  {
   "cell_type": "code",
   "execution_count": 14,
   "metadata": {
    "colab": {
     "base_uri": "https://localhost:8080/"
    },
    "executionInfo": {
     "elapsed": 290,
     "status": "ok",
     "timestamp": 1639035496310,
     "user": {
      "displayName": "Yureutae Jin",
      "photoUrl": "https://lh3.googleusercontent.com/a-/AOh14Gj4ixDJ42GXAqQu1fY52wv8kPnONGvPIXuFJRM6AA=s64",
      "userId": "14331430118800228932"
     },
     "user_tz": -540
    },
    "id": "9v6XptibEeeg",
    "outputId": "78261fa9-ed6e-4a7a-d79b-f7befdaae2c5"
   },
   "outputs": [
    {
     "name": "stdout",
     "output_type": "stream",
     "text": [
      "{'barber': 1, 'secret': 2, 'huge': 3, 'kept': 4, 'person': 5, 'word': 6, 'keeping': 7, 'good': 8, 'knew': 9, 'driving': 10, 'crazy': 11, 'went': 12, 'mountain': 13}\n",
      "OrderedDict([('barber', 8), ('person', 3), ('good', 1), ('huge', 5), ('knew', 1), ('secret', 6), ('kept', 4), ('word', 2), ('keeping', 2), ('driving', 1), ('crazy', 1), ('went', 1), ('mountain', 1)])\n",
      "[[1, 5], [1, 8, 5], [1, 3, 5], [9, 2], [2, 4, 3, 2], [3, 2], [1, 4, 6], [1, 4, 6], [1, 4, 2], [7, 7, 3, 2, 10, 1, 11], [1, 12, 3, 13]]\n",
      "\n",
      "{'barber': 1, 'secret': 2, 'huge': 3, 'kept': 4, 'person': 5, 'word': 6, 'keeping': 7, 'good': 8, 'knew': 9, 'driving': 10, 'crazy': 11, 'went': 12, 'mountain': 13}\n",
      "OrderedDict([('barber', 8), ('person', 3), ('good', 1), ('huge', 5), ('knew', 1), ('secret', 6), ('kept', 4), ('word', 2), ('keeping', 2), ('driving', 1), ('crazy', 1), ('went', 1), ('mountain', 1)])\n",
      "[[1, 5], [1, 5], [1, 3, 5], [2], [2, 4, 3, 2], [3, 2], [1, 4], [1, 4], [1, 4, 2], [3, 2, 1], [1, 3]]\n",
      "\n",
      "단어 OOV의 인덱스 : 1\n",
      "[[2, 6], [2, 1, 6], [2, 4, 6], [1, 3], [3, 5, 4, 3], [4, 3], [2, 5, 1], [2, 5, 1], [2, 5, 3], [1, 1, 4, 3, 1, 2, 1], [2, 1, 4, 1]]\n"
     ]
    }
   ],
   "source": [
    "# text preprocessing by keras\n",
    "\n",
    "from tensorflow.keras.preprocessing.text import Tokenizer\n",
    "preprocessed_sentences = [['barber', 'person'], ['barber', 'good', 'person'], ['barber', 'huge', 'person'], ['knew', 'secret'], ['secret', 'kept', 'huge', 'secret'], ['huge', 'secret'], ['barber', 'kept', 'word'], ['barber', 'kept', 'word'], ['barber', 'kept', 'secret'], ['keeping', 'keeping', 'huge', 'secret', 'driving', 'barber', 'crazy'], ['barber', 'went', 'huge', 'mountain']]\n",
    "\n",
    "tokenizer = Tokenizer()\n",
    "\n",
    "# fit_on_texts()안에 코퍼스를 입력으로 하면 빈도수를 기준으로 단어 집합을 생성\n",
    "tokenizer.fit_on_texts(preprocessed_sentences)\n",
    "print(tokenizer.word_index) # 인덱스 부여 dict\n",
    "print(tokenizer.word_counts) # 빈도수 ordereddict\n",
    "print(tokenizer.texts_to_sequences(preprocessed_sentences)) # 입력으로 들어온 corpus에 대해서 각 단어를 이미 정해진 인덱스로 변환, []: 문장 단위, [[]] : 단어 단위\n",
    "print()\n",
    "\n",
    "vocab_size = 5\n",
    "tokenizer = Tokenizer(num_words = vocab_size + 1)\n",
    "tokenizer.fit_on_texts(preprocessed_sentences)\n",
    "print(tokenizer.word_index)\n",
    "print(tokenizer.word_counts)\n",
    "print(tokenizer.texts_to_sequences(preprocessed_sentences))\n",
    "print()\n",
    "\n",
    "# keras에서는 OOV에 대해서 단어를 아예 제거해버림. 보존하고싶다면 oov_token 활용, keras OOV 인덱스는 1로 설정\n",
    "vocab_size = 5\n",
    "tokenizer = Tokenizer(num_words = vocab_size + 2, oov_token = 'OOV')\n",
    "tokenizer.fit_on_texts(preprocessed_sentences)\n",
    "print('단어 OOV의 인덱스 : {}'.format(tokenizer.word_index['OOV']))\n",
    "print(tokenizer.texts_to_sequences(preprocessed_sentences))"
   ]
  },
  {
   "cell_type": "code",
   "execution_count": 15,
   "metadata": {
    "colab": {
     "base_uri": "https://localhost:8080/"
    },
    "executionInfo": {
     "elapsed": 412,
     "status": "ok",
     "timestamp": 1639035500354,
     "user": {
      "displayName": "Yureutae Jin",
      "photoUrl": "https://lh3.googleusercontent.com/a-/AOh14Gj4ixDJ42GXAqQu1fY52wv8kPnONGvPIXuFJRM6AA=s64",
      "userId": "14331430118800228932"
     },
     "user_tz": -540
    },
    "id": "U2IJGtr-Eeeh",
    "outputId": "e99edaf1-8a53-45e8-a726-9409aca052ee"
   },
   "outputs": [
    {
     "name": "stdout",
     "output_type": "stream",
     "text": [
      "[[1, 5], [1, 8, 5], [1, 3, 5], [9, 2], [2, 4, 3, 2], [3, 2], [1, 4, 6], [1, 4, 6], [1, 4, 2], [7, 7, 3, 2, 10, 1, 11], [1, 12, 3, 13]]\n",
      "\n",
      "7\n",
      "\n",
      "[[ 1  5  0  0  0  0  0]\n",
      " [ 1  8  5  0  0  0  0]\n",
      " [ 1  3  5  0  0  0  0]\n",
      " [ 9  2  0  0  0  0  0]\n",
      " [ 2  4  3  2  0  0  0]\n",
      " [ 3  2  0  0  0  0  0]\n",
      " [ 1  4  6  0  0  0  0]\n",
      " [ 1  4  6  0  0  0  0]\n",
      " [ 1  4  2  0  0  0  0]\n",
      " [ 7  7  3  2 10  1 11]\n",
      " [ 1 12  3 13  0  0  0]]\n"
     ]
    }
   ],
   "source": [
    "# Padding -> 병렬 연산을 위해서 여러 문장의 길이를 임의로 동일하게 맞춰주는 작업\n",
    "\n",
    "# numpy padding\n",
    "import numpy as np\n",
    "from tensorflow.keras.preprocessing.text import Tokenizer\n",
    "\n",
    "preprocessed_sentences = [['barber', 'person'], ['barber', 'good', 'person'], ['barber', 'huge', 'person'], ['knew', 'secret'], ['secret', 'kept', 'huge', 'secret'], ['huge', 'secret'], ['barber', 'kept', 'word'], ['barber', 'kept', 'word'], ['barber', 'kept', 'secret'], ['keeping', 'keeping', 'huge', 'secret', 'driving', 'barber', 'crazy'], ['barber', 'went', 'huge', 'mountain']]\n",
    "\n",
    "tokenizer = Tokenizer()\n",
    "\n",
    "# fit_on_texts()안에 코퍼스를 입력으로 하면 빈도수를 기준으로 단어 집합 생성\n",
    "tokenizer.fit_on_texts(preprocessed_sentences)\n",
    "\n",
    "encoded  = tokenizer.texts_to_sequences(preprocessed_sentences)\n",
    "print(encoded)\n",
    "print()\n",
    "\n",
    "max_len = max(len(item) for item in encoded)\n",
    "print(max_len)\n",
    "print()\n",
    "\n",
    "for sentence in encoded:\n",
    "    while len(sentence) < max_len:\n",
    "        sentence.append(0)\n",
    "\n",
    "padded_np = np.array(encoded)\n",
    "print(padded_np) # zero padding -> 0는 아무런 의미도 없어 자연어 처리시 무시됨."
   ]
  },
  {
   "cell_type": "code",
   "execution_count": 16,
   "metadata": {
    "colab": {
     "base_uri": "https://localhost:8080/"
    },
    "executionInfo": {
     "elapsed": 295,
     "status": "ok",
     "timestamp": 1639035505120,
     "user": {
      "displayName": "Yureutae Jin",
      "photoUrl": "https://lh3.googleusercontent.com/a-/AOh14Gj4ixDJ42GXAqQu1fY52wv8kPnONGvPIXuFJRM6AA=s64",
      "userId": "14331430118800228932"
     },
     "user_tz": -540
    },
    "id": "wTcTzX_xEeeh",
    "outputId": "65593046-819a-4fda-a51d-a5a5d4373c94"
   },
   "outputs": [
    {
     "name": "stdout",
     "output_type": "stream",
     "text": [
      "[[1, 5], [1, 8, 5], [1, 3, 5], [9, 2], [2, 4, 3, 2], [3, 2], [1, 4, 6], [1, 4, 6], [1, 4, 2], [7, 7, 3, 2, 10, 1, 11], [1, 12, 3, 13]]\n",
      "\n",
      "[[ 1  5  0  0  0  0  0]\n",
      " [ 1  8  5  0  0  0  0]\n",
      " [ 1  3  5  0  0  0  0]\n",
      " [ 9  2  0  0  0  0  0]\n",
      " [ 2  4  3  2  0  0  0]\n",
      " [ 3  2  0  0  0  0  0]\n",
      " [ 1  4  6  0  0  0  0]\n",
      " [ 1  4  6  0  0  0  0]\n",
      " [ 1  4  2  0  0  0  0]\n",
      " [ 7  7  3  2 10  1 11]\n",
      " [ 1 12  3 13  0  0  0]]\n",
      "\n",
      "True\n",
      "\n",
      "[[ 1  5  0  0  0]\n",
      " [ 1  8  5  0  0]\n",
      " [ 1  3  5  0  0]\n",
      " [ 9  2  0  0  0]\n",
      " [ 2  4  3  2  0]\n",
      " [ 3  2  0  0  0]\n",
      " [ 1  4  6  0  0]\n",
      " [ 1  4  6  0  0]\n",
      " [ 1  4  2  0  0]\n",
      " [ 3  2 10  1 11]\n",
      " [ 1 12  3 13  0]]\n",
      "14\n",
      "[[ 1  5 14 14 14 14 14]\n",
      " [ 1  8  5 14 14 14 14]\n",
      " [ 1  3  5 14 14 14 14]\n",
      " [ 9  2 14 14 14 14 14]\n",
      " [ 2  4  3  2 14 14 14]\n",
      " [ 3  2 14 14 14 14 14]\n",
      " [ 1  4  6 14 14 14 14]\n",
      " [ 1  4  6 14 14 14 14]\n",
      " [ 1  4  2 14 14 14 14]\n",
      " [ 7  7  3  2 10  1 11]\n",
      " [ 1 12  3 13 14 14 14]]\n"
     ]
    }
   ],
   "source": [
    "# keras padding\n",
    "\n",
    "from tensorflow.keras.preprocessing.sequence import pad_sequences\n",
    "\n",
    "encoded = tokenizer.texts_to_sequences(preprocessed_sentences)\n",
    "print(encoded)\n",
    "print()\n",
    "padded = pad_sequences(encoded, padding = 'post') # padding ='post' 인자로 zero padding\n",
    "print(padded)\n",
    "print()\n",
    "\n",
    "print((padded == padded_np).all())\n",
    "print()\n",
    "\n",
    "# max 값 제한 가능\n",
    "padded = pad_sequences(encoded, padding = 'post', maxlen = 5)\n",
    "print(padded)\n",
    "\n",
    "# 0이 아닌 다른 수로 패딩\n",
    "last_value = len(tokenizer.word_index) + 1 # 단어 집합의 크기보다 1 큰 숫자를 사용\n",
    "print(last_value)\n",
    "padded = pad_sequences(encoded, padding = 'post', value = last_value)\n",
    "print(padded)"
   ]
  },
  {
   "cell_type": "code",
   "execution_count": 17,
   "metadata": {
    "colab": {
     "base_uri": "https://localhost:8080/"
    },
    "executionInfo": {
     "elapsed": 302,
     "status": "ok",
     "timestamp": 1639035508754,
     "user": {
      "displayName": "Yureutae Jin",
      "photoUrl": "https://lh3.googleusercontent.com/a-/AOh14Gj4ixDJ42GXAqQu1fY52wv8kPnONGvPIXuFJRM6AA=s64",
      "userId": "14331430118800228932"
     },
     "user_tz": -540
    },
    "id": "yFyU8cHREeeh",
    "outputId": "7ed08cda-53ff-4183-fe27-7c23fc269ed2"
   },
   "outputs": [
    {
     "name": "stdout",
     "output_type": "stream",
     "text": [
      "{'barber': 1, 'secret': 2, 'huge': 3, 'kept': 4, 'person': 5, 'word': 6, 'keeping': 7, 'good': 8, 'knew': 9, 'driving': 10, 'crazy': 11, 'went': 12, 'mountain': 13}\n",
      "[1, 3, 5, 9, 2]\n",
      "\n",
      "[[0. 1. 0. 0. 0. 0. 0. 0. 0. 0.]\n",
      " [0. 0. 0. 1. 0. 0. 0. 0. 0. 0.]\n",
      " [0. 0. 0. 0. 0. 1. 0. 0. 0. 0.]\n",
      " [0. 0. 0. 0. 0. 0. 0. 0. 0. 1.]\n",
      " [0. 0. 1. 0. 0. 0. 0. 0. 0. 0.]]\n"
     ]
    }
   ],
   "source": [
    "# One-Hot Encoding: 단어 집합의 크기를 벡터의 차원으로 하고, 표현하고 싶은 단어의 인덱스에 1의 값을 부여하고, 다른 인덱스에는 0을 부여하는 단어의 벡터 표현 방식. -> One-Hot vector\n",
    "# 과정 -> 1) 각 단어에 고유한 인덱스를 부여 (정수 인코딩), 2) 표현하고 싶은 단어의 인덱스 위치에 1을 부여하고, 다른 단어의 인덱스 위치에는 0을 부여\n",
    "# 단어 집합(vocabulary): 단어의 변형 형태도 다른 단어로 간주하여 중복을 허용하지 않고 모아놓은 집합\n",
    "\n",
    "# keras one-hot encoding\n",
    "\n",
    "## vocab 구성\n",
    "text = \"A barber is a person. a barber is good person. a barber is huge person. he Knew A Secret! The Secret He Kept is huge secret. Huge secret. His barber kept his word. a barber kept his word. His barber kept his secret. But keeping and keeping such a huge secret to himself was driving the barber crazy. the barber went up a huge mountain.\"\n",
    "\n",
    "from tensorflow.keras.preprocessing.text import Tokenizer\n",
    "from tensorflow.keras.utils import to_categorical\n",
    "from nltk.tokenize import sent_tokenize\n",
    "from nltk.tokenize import word_tokenize\n",
    "from nltk.corpus import stopwords\n",
    "from tensorflow.keras.preprocessing.sequence import pad_sequences\n",
    "\n",
    "sentences = sent_tokenize(text)\n",
    "stop_words = set(stopwords.words('english'))\n",
    "\n",
    "preprocessed_sentences = []\n",
    "\n",
    "for sentence in sentences: # 불용어 처리 및 의미있는 어간 추출\n",
    "    # 단어 토큰화\n",
    "    tokenized_sentence = word_tokenize(sentence)\n",
    "    result = []\n",
    "    \n",
    "    for word in tokenized_sentence:\n",
    "        word = word.lower()\n",
    "        if word not in stop_words:\n",
    "            if len(word) > 2:\n",
    "                result.append(word)\n",
    "    preprocessed_sentences.append(result)\n",
    "    \n",
    "encoded = tokenizer.texts_to_sequences(preprocessed_sentences)\n",
    "print(tokenizer.word_index)\n",
    "\n",
    "# sub_text에 one-hot encoding\n",
    "sub_text = \"a barber is huge person. he Knew A Secret!\"\n",
    "\n",
    "encoded_sub = tokenizer.texts_to_sequences([sub_text])[0]\n",
    "print(encoded_sub)\n",
    "\n",
    "one_hot = to_categorical(encoded_sub)\n",
    "print()\n",
    "print(one_hot)\n",
    "\n",
    "# one-hot encoding은 단어의 개수가 늘어날 수록, 벡터를 저장하기 위해 필요한 공간이 늘어난다는 단점이 있음. 즉 단어 집합의 크기가 곧 벡터의 차원 수가 됨.\n",
    "# 또한 단어의 유사도를 표현하지 못함 -> 1) LSA, HAL 2) NNLM, RNLM, Word2Vec, FastText 3) GloVe 로 해결"
   ]
  },
  {
   "cell_type": "code",
   "execution_count": 18,
   "metadata": {
    "colab": {
     "base_uri": "https://localhost:8080/"
    },
    "executionInfo": {
     "elapsed": 275,
     "status": "ok",
     "timestamp": 1639035511269,
     "user": {
      "displayName": "Yureutae Jin",
      "photoUrl": "https://lh3.googleusercontent.com/a-/AOh14Gj4ixDJ42GXAqQu1fY52wv8kPnONGvPIXuFJRM6AA=s64",
      "userId": "14331430118800228932"
     },
     "user_tz": -540
    },
    "id": "mpDXCHa2Eeei",
    "outputId": "454d4d38-13d6-4eef-9a6a-e2ac52d72f46"
   },
   "outputs": [
    {
     "name": "stdout",
     "output_type": "stream",
     "text": [
      "[[0 1]\n",
      " [2 3]\n",
      " [4 5]\n",
      " [6 7]]\n"
     ]
    }
   ],
   "source": [
    "# 데이터의 분리 -> train, test data set\n",
    "\n",
    "# 사이킷 런을 이용하여 분리\n",
    "import numpy as np\n",
    "from sklearn.model_selection import train_test_split\n",
    "\n",
    "X, y =np.arange(10).reshape((5, 2)), range(5)\n",
    "X_train, X_test, y_train, y_test = train_test_split(X, y, test_size =0.2, random_state=1234) # test_size: 비율, random_state: 난수 시드\n",
    "\n",
    "print(X_train)\n"
   ]
  },
  {
   "cell_type": "code",
   "execution_count": null,
   "metadata": {},
   "outputs": [],
   "source": []
  }
 ],
 "metadata": {
  "colab": {
   "collapsed_sections": [],
   "name": "example_text_preprocessing.ipynb",
   "provenance": []
  },
  "kernelspec": {
   "display_name": "Python 3 (ipykernel)",
   "language": "python",
   "name": "python3"
  },
  "language_info": {
   "codemirror_mode": {
    "name": "ipython",
    "version": 3
   },
   "file_extension": ".py",
   "mimetype": "text/x-python",
   "name": "python",
   "nbconvert_exporter": "python",
   "pygments_lexer": "ipython3",
   "version": "3.8.12"
  }
 },
 "nbformat": 4,
 "nbformat_minor": 4
}
