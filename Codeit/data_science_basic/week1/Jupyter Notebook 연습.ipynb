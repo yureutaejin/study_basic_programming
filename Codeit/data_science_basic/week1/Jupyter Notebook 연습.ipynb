{
 "cells": [
  {
   "cell_type": "code",
   "execution_count": null,
   "metadata": {
    "scrolled": true
   },
   "outputs": [],
   "source": [
    "print(\"Hello World!\")"
   ]
  },
  {
   "cell_type": "code",
   "execution_count": null,
   "metadata": {},
   "outputs": [],
   "source": [
    "x = 5\n",
    "print(x)\n",
    "y=17"
   ]
  },
  {
   "cell_type": "code",
   "execution_count": null,
   "metadata": {},
   "outputs": [],
   "source": [
    "print(x)"
   ]
  },
  {
   "cell_type": "code",
   "execution_count": null,
   "metadata": {},
   "outputs": [],
   "source": [
    "print(y)"
   ]
  },
  {
   "cell_type": "code",
   "execution_count": null,
   "metadata": {},
   "outputs": [],
   "source": [
    "y = 50"
   ]
  },
  {
   "cell_type": "markdown",
   "metadata": {},
   "source": [
    "# 가장 큰 제목\n",
    "## 두 번째 큰 제목\n",
    "### 세 번째 큰 제목"
   ]
  },
  {
   "cell_type": "markdown",
   "metadata": {},
   "source": [
    "글을 **두껍게** 쓸 수도 있고, *날려* 쓸 수도 있습니다. __언더바도__ 가능합니다. _그렇죠?_\n",
    "~~아님 말고~~\n",
    "\n",
    "flash theme (https://www.youtube.com/watch?v=HfesFMHgWEk&t=243s)\n",
    "\n",
    "코드잇 이미지 (https://www.codeit.kr/static/images/brand/logo_original.png))\n",
    "\n",
    "코드 블록\n",
    "```python\n",
    "\n",
    "print(\"hello\")\n",
    "\n",
    "for i in range(1, 11, 1):\n",
    "    print(i)\n",
    "```\n",
    "---\n",
    "\n",
    "값을 출력하고 싶으면 `print` 함수를 사용하면 되겠죠?"
   ]
  },
  {
   "cell_type": "markdown",
   "metadata": {},
   "source": [
    "이렇게 리스트를 쓸 수도 있죠!\n",
    "* list item 1\n",
    "* list item 2\n",
    "* list item 3"
   ]
  },
  {
   "cell_type": "markdown",
   "metadata": {},
   "source": [
    "1. 첫 번째 할 일입니다.\n",
    "2. 두 번째 할 일입니다.\n",
    "3. 세 번째 할 일입니다."
   ]
  },
  {
   "cell_type": "markdown",
   "metadata": {},
   "source": [
    "경찰청 철창살은 외철창살이냐 쌍철창살이냐?  \n",
    "내가 그린 기린 그림은 잘 그린 기린 그림이고 네가 그린 기린 그림은 잘 못 그린 기린 그림이다.  \n",
    "신인 샹송 가수의 신춘 샹송 쇼"
   ]
  },
  {
   "cell_type": "code",
   "execution_count": null,
   "metadata": {},
   "outputs": [],
   "source": [
    "x"
   ]
  },
  {
   "cell_type": "code",
   "execution_count": null,
   "metadata": {},
   "outputs": [],
   "source": [
    "2 + 5\n",
    "x\n",
    "print(y)\n",
    "3 * 4"
   ]
  }
 ],
 "metadata": {
  "kernelspec": {
   "display_name": "Python 3",
   "language": "python",
   "name": "python3"
  },
  "language_info": {
   "codemirror_mode": {
    "name": "ipython",
    "version": 3
   },
   "file_extension": ".py",
   "mimetype": "text/x-python",
   "name": "python",
   "nbconvert_exporter": "python",
   "pygments_lexer": "ipython3",
   "version": "3.8.5"
  }
 },
 "nbformat": 4,
 "nbformat_minor": 4
}
