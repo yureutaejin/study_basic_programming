{
 "cells": [
  {
   "cell_type": "code",
   "execution_count": 1,
   "id": "f713e087",
   "metadata": {},
   "outputs": [],
   "source": [
    "# 실습과제_sklearn으로 유저 평점 예측하기\n",
    "\n",
    "from sklearn.linear_model import LinearRegression\n",
    "from sklearn.model_selection import train_test_split\n",
    "from sklearn.metrics import mean_squared_error\n",
    "\n",
    "import pandas as pd \n",
    "import numpy as np"
   ]
  },
  {
   "cell_type": "code",
   "execution_count": 2,
   "id": "38416913",
   "metadata": {},
   "outputs": [
    {
     "data": {
      "text/html": [
       "<div>\n",
       "<style scoped>\n",
       "    .dataframe tbody tr th:only-of-type {\n",
       "        vertical-align: middle;\n",
       "    }\n",
       "\n",
       "    .dataframe tbody tr th {\n",
       "        vertical-align: top;\n",
       "    }\n",
       "\n",
       "    .dataframe thead th {\n",
       "        text-align: right;\n",
       "    }\n",
       "</style>\n",
       "<table border=\"1\" class=\"dataframe\">\n",
       "  <thead>\n",
       "    <tr style=\"text-align: right;\">\n",
       "      <th></th>\n",
       "      <th>romance</th>\n",
       "      <th>action</th>\n",
       "      <th>comedy</th>\n",
       "      <th>heart-warming</th>\n",
       "      <th>rating</th>\n",
       "    </tr>\n",
       "  </thead>\n",
       "  <tbody>\n",
       "    <tr>\n",
       "      <th>0</th>\n",
       "      <td>0.740458</td>\n",
       "      <td>0.733800</td>\n",
       "      <td>0.526879</td>\n",
       "      <td>0.332906</td>\n",
       "      <td>3.0</td>\n",
       "    </tr>\n",
       "    <tr>\n",
       "      <th>1</th>\n",
       "      <td>0.658391</td>\n",
       "      <td>0.825211</td>\n",
       "      <td>0.608177</td>\n",
       "      <td>0.906809</td>\n",
       "      <td>5.0</td>\n",
       "    </tr>\n",
       "    <tr>\n",
       "      <th>2</th>\n",
       "      <td>0.680250</td>\n",
       "      <td>0.401992</td>\n",
       "      <td>0.400964</td>\n",
       "      <td>0.535223</td>\n",
       "      <td>2.0</td>\n",
       "    </tr>\n",
       "    <tr>\n",
       "      <th>3</th>\n",
       "      <td>0.572216</td>\n",
       "      <td>0.312618</td>\n",
       "      <td>0.496313</td>\n",
       "      <td>0.319996</td>\n",
       "      <td>1.0</td>\n",
       "    </tr>\n",
       "    <tr>\n",
       "      <th>4</th>\n",
       "      <td>0.543545</td>\n",
       "      <td>0.623021</td>\n",
       "      <td>0.713110</td>\n",
       "      <td>0.696774</td>\n",
       "      <td>4.0</td>\n",
       "    </tr>\n",
       "  </tbody>\n",
       "</table>\n",
       "</div>"
      ],
      "text/plain": [
       "    romance    action    comedy  heart-warming  rating\n",
       "0  0.740458  0.733800  0.526879       0.332906     3.0\n",
       "1  0.658391  0.825211  0.608177       0.906809     5.0\n",
       "2  0.680250  0.401992  0.400964       0.535223     2.0\n",
       "3  0.572216  0.312618  0.496313       0.319996     1.0\n",
       "4  0.543545  0.623021  0.713110       0.696774     4.0"
      ]
     },
     "execution_count": 2,
     "metadata": {},
     "output_type": "execute_result"
    }
   ],
   "source": [
    "MOVIE_DATA_PATH = '../data/movie_rating.csv'\n",
    "\n",
    "movie_rating_df = pd.read_csv(MOVIE_DATA_PATH)\n",
    "\n",
    "movie_rating_df.head()"
   ]
  },
  {
   "cell_type": "code",
   "execution_count": 3,
   "id": "319e0de9",
   "metadata": {},
   "outputs": [
    {
     "data": {
      "text/plain": [
       "Index(['romance', 'action', 'comedy', 'heart-warming', 'rating'], dtype='object')"
      ]
     },
     "execution_count": 3,
     "metadata": {},
     "output_type": "execute_result"
    }
   ],
   "source": [
    "movie_rating_df.columns"
   ]
  },
  {
   "cell_type": "code",
   "execution_count": 4,
   "id": "01cb3e57",
   "metadata": {},
   "outputs": [],
   "source": [
    "X = movie_rating_df[['romance', 'action', 'comedy', 'heart-warming']]\n",
    "y = movie_rating_df[['rating']]\n",
    "\n",
    "X_train, X_test, y_train, y_test = train_test_split(X, y, test_size=0.2, random_state=5)"
   ]
  },
  {
   "cell_type": "code",
   "execution_count": 5,
   "id": "ed4da2d0",
   "metadata": {},
   "outputs": [
    {
     "name": "stdout",
     "output_type": "stream",
     "text": [
      "[[3.83034441]\n",
      " [2.59418977]\n",
      " [2.63653566]\n",
      " [3.48333221]\n",
      " [2.75217812]\n",
      " [2.43303141]\n",
      " [3.03247628]\n",
      " [4.41312853]\n",
      " [4.28145539]\n",
      " [3.61139607]\n",
      " [3.82260281]\n",
      " [3.01099122]\n",
      " [3.06324646]\n",
      " [4.41401949]\n",
      " [4.08837667]\n",
      " [3.30347874]\n",
      " [4.69514621]\n",
      " [4.3397661 ]\n",
      " [3.42084949]\n",
      " [3.94638571]] 0.8329209093894 0.35162270554081687\n"
     ]
    }
   ],
   "source": [
    "model = LinearRegression()\n",
    "\n",
    "model.fit(X_train, y_train)\n",
    "\n",
    "y_test_prediction = model.predict(X_test)\n",
    " \n",
    "score = model.score(X_test, y_test)\n",
    "mse = mean_squared_error(y_test, y_test_prediction)\n",
    "mse = mse **0.5\n",
    "print(y_test_prediction, score, mse)"
   ]
  }
 ],
 "metadata": {
  "kernelspec": {
   "display_name": "Python 3 (ipykernel)",
   "language": "python",
   "name": "python3"
  },
  "language_info": {
   "codemirror_mode": {
    "name": "ipython",
    "version": 3
   },
   "file_extension": ".py",
   "mimetype": "text/x-python",
   "name": "python",
   "nbconvert_exporter": "python",
   "pygments_lexer": "ipython3",
   "version": "3.8.12"
  }
 },
 "nbformat": 4,
 "nbformat_minor": 5
}
