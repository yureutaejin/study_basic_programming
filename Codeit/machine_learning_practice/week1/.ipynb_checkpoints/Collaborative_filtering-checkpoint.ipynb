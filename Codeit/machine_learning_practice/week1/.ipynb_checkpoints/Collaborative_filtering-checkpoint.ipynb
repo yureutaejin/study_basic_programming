{
 "cells": [
  {
   "cell_type": "code",
   "execution_count": 1,
   "id": "9bc67d87",
   "metadata": {},
   "outputs": [
    {
     "name": "stdout",
     "output_type": "stream",
     "text": [
      "49\n",
      "2.45\n",
      "47.0\n",
      "2.473684210526316\n"
     ]
    }
   ],
   "source": [
    "# 복습\n",
    "\n",
    "import numpy as np\n",
    "# numpy 기본 함수\n",
    "\n",
    "A = np.array([\n",
    "    [3, 3, 2, 3, 1],\n",
    "    [5, 2, 2, 3, 1],\n",
    "    [3, 3, 2, 3, 1],\n",
    "    [3, 1, 4, 3, 1],\n",
    "])\n",
    "\n",
    "print(np.sum(A))\n",
    "print(np.mean(A))\n",
    "\n",
    "Anan = np.array([\n",
    "    [3, 3, 2, 3, 1],\n",
    "    [5, 2, 2, 3, 1],\n",
    "    [3, 3, np.nan, 3, 1],\n",
    "    [3, 1, 4, 3, 1],\n",
    "])\n",
    "\n",
    "print(np.nansum(Anan)) # nan 제외하고 계산\n",
    "print(np.nanmean(Anan))"
   ]
  },
  {
   "cell_type": "code",
   "execution_count": 2,
   "id": "8787faae",
   "metadata": {},
   "outputs": [
    {
     "name": "stdout",
     "output_type": "stream",
     "text": [
      "[3 3 2 3 1]\n",
      "[3 1 4 3 1]\n",
      "[3 3 3 3]\n",
      "[3 1 4 3 1]\n"
     ]
    }
   ],
   "source": [
    "# numpy 행렬 접근법\n",
    "print(A[0])\n",
    "print(A[3])\n",
    "print(A[:, 3])\n",
    "print(A[3, :])"
   ]
  },
  {
   "cell_type": "code",
   "execution_count": 3,
   "id": "04bfe4ae",
   "metadata": {},
   "outputs": [
    {
     "data": {
      "text/plain": [
       "4.795831523312719"
      ]
     },
     "execution_count": 3,
     "metadata": {},
     "output_type": "execute_result"
    }
   ],
   "source": [
    "# 유클리드 거리\n",
    "# 실습과제_numpy로 유저 간 거리 구하기\n",
    "import numpy as np\n",
    "from math import sqrt\n",
    "\n",
    "\n",
    "def distance(user_1, user_2):\n",
    "    \"\"\"유클리드 거리를 계산해주는 함수\"\"\"\n",
    "    # 코드를 쓰세요 \n",
    "    \n",
    "    result = sqrt(sum((user_1 - user_2)**2))\n",
    "    \n",
    "    return result\n",
    "    \n",
    "\n",
    "# 실행 코드\n",
    "user_1 = np.array([0, 1, 2, 3, 4, 5])\n",
    "user_2 = np.array([0, 1, 4, 6, 1, 4])\n",
    "\n",
    "distance(user_1, user_2)\n",
    "\n"
   ]
  },
  {
   "cell_type": "code",
   "execution_count": 4,
   "id": "24b23e6c",
   "metadata": {},
   "outputs": [
    {
     "data": {
      "text/plain": [
       "array([[3.18, 3.18, 3.18, 5.  , 3.18, 3.18, 2.  , 2.  , 2.  , 3.18, 3.  ,\n",
       "        4.  , 2.  , 5.  , 4.  , 3.18, 3.18, 3.18, 4.  , 2.  ],\n",
       "       [3.36, 5.  , 3.36, 5.  , 3.  , 3.36, 3.36, 3.  , 2.  , 4.  , 2.  ,\n",
       "        3.36, 4.  , 4.  , 5.  , 4.  , 2.  , 3.36, 1.  , 3.  ],\n",
       "       [2.71, 2.71, 2.  , 5.  , 2.71, 2.71, 2.71, 2.71, 2.71, 2.71, 2.71,\n",
       "        2.71, 1.  , 2.71, 2.71, 2.71, 3.  , 1.  , 5.  , 2.  ],\n",
       "       [2.78, 5.  , 1.  , 4.  , 2.78, 2.78, 2.78, 3.  , 1.  , 2.78, 1.  ,\n",
       "        2.78, 2.78, 4.  , 2.78, 2.78, 2.  , 2.78, 2.78, 4.  ],\n",
       "       [3.  , 3.  , 3.  , 5.  , 4.  , 3.  , 3.  , 4.  , 5.  , 3.  , 3.  ,\n",
       "        1.  , 2.  , 1.  , 1.  , 3.  , 3.  , 3.  , 4.  , 3.  ]])"
      ]
     },
     "execution_count": 4,
     "metadata": {},
     "output_type": "execute_result"
    }
   ],
   "source": [
    "import pandas as pd\n",
    "import numpy as np\n",
    "from math import sqrt\n",
    "\n",
    "RATING_DATA_PATH = '../data/ratings.csv'  # 받아올 평점 데이터 경로 정의\n",
    "\n",
    "np.set_printoptions(precision=2)  # 소수점 둘째 자리까지만 출력\n",
    "\n",
    "def distance(user_1, user_2):\n",
    "    \"\"\"유클리드 거리를 계산해주는 함수\"\"\"\n",
    "    return sqrt(np.sum((user_1 - user_2)**2))\n",
    "    \n",
    "    \n",
    "def filter_users_without_movie(rating_data, movie_id):\n",
    "    \"\"\"movie_id 번째 영화를 평가하지 않은 유저들은 미리 제외해주는 함수\"\"\"\n",
    "    return rating_data[~np.isnan(rating_data[:,movie_id])]\n",
    "    \n",
    "    \n",
    "def fill_nan_with_user_mean(rating_data):\n",
    "    \"\"\"평점 데이터의 빈값들을 각 유저 평균 값으로 체워주는 함수\"\"\"\n",
    "    filled_data = np.copy(rating_data)  # 평점 데이터를 훼손하지 않기 위해 복사\n",
    "    row_mean = np.nanmean(filled_data, axis=1)  # 유저 평균 평점 계산\n",
    "    \n",
    "    inds = np.where(np.isnan(filled_data))  # 비어 있는 인덱스들을 구한다\n",
    "    filled_data[inds] = np.take(row_mean, inds[0])  #빈 인덱스를 유저 평점으로 채운다\n",
    "    \n",
    "    return filled_data\n",
    "    \n",
    "    \n",
    "def get_k_neighbors(user_id, rating_data, k):\n",
    "    \"\"\"user_id에 해당하는 유저의 이웃들을 찾아주는 함수\"\"\"\n",
    "    distance_data = np.copy(rating_data)  # 평점 데이터를 훼손하지 않기 위해 복사\n",
    "    # 마지막에 거리 데이터를 담을 열 추가한다\n",
    "    distance_data = np.append(distance_data, np.zeros((distance_data.shape[0], 1)), axis=1)\n",
    "    \n",
    "    # 코드를 쓰세요.\n",
    "    for i in range(len(distance_data)):\n",
    "        row = distance_data[i]\n",
    "        \n",
    "        if i == user_id:\n",
    "            row[-1] = np.inf\n",
    "        else:\n",
    "            row[-1] = distance(distance_data[user_id][:-1], row[:-1])\n",
    "    \n",
    "    # 데이터를 거리 열을 기준으로 정렬한다\n",
    "    distance_data = distance_data[np.argsort(distance_data[:, -1])]\n",
    "    \n",
    "    # 가장 가까운 k개의 행만 리턴한다 + 마지막(거리) 열은 제외한다\n",
    "    return distance_data[:k, :-1]\n",
    "    \n",
    "\n",
    "# 실행 코드\n",
    "# 영화 3을 본 유저들 중, 유저 0와 비슷한 유저 5명을 찾는다\n",
    "rating_data = pd.read_csv(RATING_DATA_PATH, index_col='user_id').values  # 평점 데이터를 불러온다\n",
    "filtered_data = filter_users_without_movie(rating_data, 3)  # 3 번째 영화를 보지 않은 유저를 데이터에서 미리 제외시킨다\n",
    "filled_data = fill_nan_with_user_mean(filtered_data)  # 빈값들이 채워진 새로운 행렬을 만든다\n",
    "user_0_neighbors = get_k_neighbors(0, filled_data, 5)  # 유저 0과 비슷한 5개의 유저 데이터를 찾는다\n",
    "user_0_neighbors"
   ]
  },
  {
   "cell_type": "code",
   "execution_count": 5,
   "id": "f5100c8b",
   "metadata": {},
   "outputs": [
    {
     "data": {
      "text/plain": [
       "4.8"
      ]
     },
     "execution_count": 5,
     "metadata": {},
     "output_type": "execute_result"
    }
   ],
   "source": [
    "# 실습과제_유저 평점 예측하기\n",
    "\n",
    "import pandas as pd\n",
    "import numpy as np\n",
    "from math import sqrt\n",
    "\n",
    "RATING_DATA_PATH = '../data/ratings.csv'  # 받아올 평점 데이터 경로 정의\n",
    "\n",
    "np.set_printoptions(precision=2)  # 소수점 둘째 자리까지만 출력\n",
    "\n",
    "def distance(user_1, user_2):\n",
    "    \"\"\"유클리드 거리를 계산해주는 함수\"\"\"\n",
    "    return sqrt(np.sum((user_1 - user_2)**2))\n",
    "    \n",
    "    \n",
    "def filter_users_without_movie(rating_data, movie_id):\n",
    "    \"\"\"movie_id 번째 영화를 평가하지 않은 유저들은 미리 제외해주는 함수\"\"\"\n",
    "    return rating_data[~np.isnan(rating_data[:,movie_id])]\n",
    "    \n",
    "    \n",
    "def fill_nan_with_user_mean(rating_data):\n",
    "    \"\"\"평점 데이터의 빈값들을 각 유저 평균 값으로 체워주는 함수\"\"\"\n",
    "    filled_data = np.copy(rating_data)  # 평점 데이터를 훼손하지 않기 위해 복사\n",
    "    row_mean = np.nanmean(filled_data, axis=1)  # 유저 평균 평점 계산\n",
    "    \n",
    "    inds = np.where(np.isnan(filled_data))  # 비어 있는 인덱스들을 구한다\n",
    "    filled_data[inds] = np.take(row_mean, inds[0])  #빈 인덱스를 유저 평점으로 채운다\n",
    "    \n",
    "    return filled_data\n",
    "    \n",
    "    \n",
    "def get_k_neighbors(user_id, rating_data, k):\n",
    "    \"\"\"user_id에 해당하는 유저의 이웃들을 찾아주는 함수\"\"\"\n",
    "    distance_data = np.copy(rating_data)  # 평점 데이터를 훼손하지 않기 위해 복사\n",
    "    # 마지막에 거리 데이터를 담을 열 추가한다\n",
    "    distance_data = np.append(distance_data, np.zeros((distance_data.shape[0], 1)), axis=1)\n",
    "    \n",
    "    # 코드를 쓰세요.\n",
    "    for i in range(len(distance_data)):\n",
    "        row = distance_data[i]\n",
    "        \n",
    "        if i == user_id:  # 같은 유저면 거리를 무한대로 설정\n",
    "            row[-1] = np.inf\n",
    "        else:  # 다른 유저면 마지막 열에 거리 데이터를 저장\n",
    "            row[-1] = distance(distance_data[user_id][:-1], row[:-1])\n",
    "    \n",
    "    # 데이터를 거리 열을 기준으로 정렬한다\n",
    "    distance_data = distance_data[np.argsort(distance_data[:, -1])]\n",
    "    \n",
    "    # 가장 가까운 k개의 행만 리턴한다 + 마지막(거리) 열은 제외한다\n",
    "    return distance_data[:k, :-1]\n",
    "    \n",
    "def predict_user_rating(rating_data, k, user_id, movie_id,):\n",
    "    \"\"\"예측 행렬에 따라 유저의 영화 평점 예측 값 구하기\"\"\"\n",
    "    # movie_id 번째 영화를 보지 않은 유저를 데이터에서 미리 제외시킨다\n",
    "    filtered_data = filter_users_without_movie(rating_data, movie_id)\n",
    "    # 빈값들이 채워진 새로운 행렬을 만든다\n",
    "    filled_data = fill_nan_with_user_mean(filtered_data)\n",
    "    # 유저 user_id와 비슷한 k개의 유저 데이터를 찾는다\n",
    "    neighbors = get_k_neighbors(user_id, filled_data, k)\n",
    "    \n",
    "    # 코드를 쓰세요\n",
    "    return np.mean(neighbors[:, movie_id])\n",
    "    \n",
    "    \n",
    "# 실행 코드   \n",
    "# 평점 데이터를 불러온다\n",
    "rating_data = pd.read_csv(RATING_DATA_PATH, index_col='user_id').values\n",
    "# 5개의 이웃들을 써서 유저 0의 영화 3에 대한 예측 평점 구하기\n",
    "predict_user_rating(rating_data, 5, 0, 3)  \n"
   ]
  }
 ],
 "metadata": {
  "kernelspec": {
   "display_name": "Python 3 (ipykernel)",
   "language": "python",
   "name": "python3"
  },
  "language_info": {
   "codemirror_mode": {
    "name": "ipython",
    "version": 3
   },
   "file_extension": ".py",
   "mimetype": "text/x-python",
   "name": "python",
   "nbconvert_exporter": "python",
   "pygments_lexer": "ipython3",
   "version": "3.8.12"
  }
 },
 "nbformat": 4,
 "nbformat_minor": 5
}
