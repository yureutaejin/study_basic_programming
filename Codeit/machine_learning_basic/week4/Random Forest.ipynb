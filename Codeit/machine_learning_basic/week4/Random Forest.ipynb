{
 "cells": [
  {
   "cell_type": "markdown",
   "id": "4fa9105d",
   "metadata": {},
   "source": [
    "## Random Forest\n",
    "트리 모델을 임의로 많이 만들어서 다수결 투표로 결과를 종합하는 알고리즘  \n",
    "\n",
    "## Bootstrapping\n",
    "갖고있는 데이터 셋으로 다른 데이터 셋(Bootstrap dataset)을 만들어내는 방법  \n",
    "모든 모델을 정확히 똑같은 데이터 셋으로 학습시키면 결과 다양성 떨어질 수 있기 때문에, 각 모델을 임의로 만들어준 Bootstrap dataset으로 학습시켜줌  \n",
    "앙상블 기법을 사용하는 모든 알고리즘들이 bootstrapping을 쓰는 것은 아님.\n",
    "\n",
    "## Bagging (Bootstrap aggregating)\n",
    "Bootstrap dataset을 만들어 내고, 모델들의 결정을 합치는 것\n",
    "\n",
    "## Random Forest 과정\n",
    "column 중 임의로 n개 선택 후 두 개의 지니 불순도를 계산해서 root 노드, 이후 같은 과정 반복해서 Decision tree 만듦  \n",
    "매 노드를 만들 때 임의로 선택해서 만들기 때문에 수 많은 서로 다른 Decision Tree가 나올 수 있음  \n",
    "1. Bootstrapping 사용해서 임의로 데이터 셋 만들고 \n",
    "2. 결정 트리를 만들 때도 질문 노드들을 어느 정도는 임의로 만듦 \n",
    "3. 계속 반복해서 서로 다른 m개의 결정트리 만들기\n"
   ]
  },
  {
   "cell_type": "code",
   "execution_count": 1,
   "id": "d4f47033",
   "metadata": {},
   "outputs": [],
   "source": [
    "# random-forest by scikit-learn\n",
    "from sklearn.datasets import load_iris\n",
    "from sklearn.model_selection import train_test_split\n",
    "from sklearn.ensemble import RandomForestClassifier\n",
    "import matplotlib.pyplot as plt\n",
    "\n",
    "import numpy as np\n",
    "import pandas as pd"
   ]
  },
  {
   "cell_type": "code",
   "execution_count": 2,
   "id": "f56ef26e",
   "metadata": {},
   "outputs": [],
   "source": [
    "iris_data = load_iris()\n",
    "\n",
    "X = pd.DataFrame(iris_data.data, columns=iris_data.feature_names)\n",
    "y = pd.DataFrame(iris_data.target, columns=['class'])\n",
    "\n",
    "X_train, X_test, y_train, y_test = train_test_split(X, y, test_size=0.2, random_state=5)\n",
    "y_train = y_train.values.ravel()"
   ]
  },
  {
   "cell_type": "code",
   "execution_count": 3,
   "id": "0d7bb6b1",
   "metadata": {},
   "outputs": [],
   "source": [
    "model = RandomForestClassifier(n_estimators=100, max_depth=4) # n_estimators: 몇 개의 결정트리를 만들 것인가"
   ]
  },
  {
   "cell_type": "code",
   "execution_count": 4,
   "id": "be68ff27",
   "metadata": {},
   "outputs": [
    {
     "data": {
      "text/plain": [
       "RandomForestClassifier(max_depth=4)"
      ]
     },
     "execution_count": 4,
     "metadata": {},
     "output_type": "execute_result"
    }
   ],
   "source": [
    "model.fit(X_train, y_train)"
   ]
  },
  {
   "cell_type": "code",
   "execution_count": 5,
   "id": "3d612dc0",
   "metadata": {},
   "outputs": [
    {
     "data": {
      "text/plain": [
       "array([1, 1, 2, 0, 2, 1, 0, 2, 0, 1, 1, 1, 2, 2, 0, 0, 2, 2, 0, 0, 1, 2,\n",
       "       0, 1, 1, 2, 1, 1, 1, 2])"
      ]
     },
     "execution_count": 5,
     "metadata": {},
     "output_type": "execute_result"
    }
   ],
   "source": [
    "model.predict(X_test)"
   ]
  },
  {
   "cell_type": "code",
   "execution_count": 6,
   "id": "43f4211a",
   "metadata": {},
   "outputs": [
    {
     "data": {
      "text/plain": [
       "0.9"
      ]
     },
     "execution_count": 6,
     "metadata": {},
     "output_type": "execute_result"
    }
   ],
   "source": [
    "model.score(X_test, y_test)"
   ]
  },
  {
   "cell_type": "code",
   "execution_count": 7,
   "id": "5b4b4ff7",
   "metadata": {},
   "outputs": [],
   "source": [
    "importances = model.feature_importances_"
   ]
  },
  {
   "cell_type": "code",
   "execution_count": 8,
   "id": "1eefc0c5",
   "metadata": {},
   "outputs": [
    {
     "data": {
      "image/png": "[encoded data removed]",
      "text/plain": [
       "<Figure size 432x288 with 1 Axes>"
      ]
     },
     "metadata": {
      "needs_background": "light"
     },
     "output_type": "display_data"
    }
   ],
   "source": [
    "indices_sorted = np.argsort(importances)\n",
    "\n",
    "plt.figure()\n",
    "plt.title(\"Feature importances\")\n",
    "plt.bar(range(len(importances)), importances[indices_sorted])\n",
    "plt.xticks(range(len(importances)), X.columns[indices_sorted], rotation=90)\n",
    "plt.show()"
   ]
  },
  {
   "cell_type": "code",
   "execution_count": 9,
   "id": "889980c5",
   "metadata": {},
   "outputs": [
    {
     "data": {
      "text/plain": [
       "(array([0, 1, 1, 1, 1, 0, 1, 1, 0, 1, 1, 1, 0, 1, 1, 1, 1, 1, 1, 1, 0, 1,\n",
       "        1, 1, 1, 1, 1, 0, 1, 0, 0, 0, 0, 0, 1, 1, 0, 1, 1, 0, 1, 1, 1, 0,\n",
       "        1, 1, 0, 0, 1, 0, 1, 1, 1, 1, 1, 0, 0, 0, 1, 0, 0, 0, 1, 1, 1, 1,\n",
       "        1, 1, 1, 0, 1, 0, 1, 1, 1, 1, 0, 1, 0, 0, 0, 1, 0, 0, 0, 1, 0, 1,\n",
       "        0, 0, 0, 0, 1, 1, 0, 0, 1, 1, 1, 1, 1, 0, 1, 1, 0, 0, 1, 0, 1, 1,\n",
       "        1, 0, 0, 0]),\n",
       " 0.9649122807017544)"
      ]
     },
     "execution_count": 9,
     "metadata": {},
     "output_type": "execute_result"
    }
   ],
   "source": [
    "# 실습과제_랜덤 포레스트로 악성.양성 유방암 분류하기\n",
    "\n",
    "from sklearn.ensemble import RandomForestClassifier\n",
    "from sklearn.datasets import load_breast_cancer\n",
    "from sklearn.model_selection import train_test_split\n",
    "\n",
    "import pandas as pd\n",
    "\n",
    "cancer_data = load_breast_cancer()\n",
    "\n",
    "X = pd.DataFrame(cancer_data.data, columns=cancer_data.feature_names)\n",
    "y = pd.DataFrame(cancer_data.target, columns=['class'])\n",
    "\n",
    "X_train, X_test, y_train, y_test = train_test_split(X, y, test_size=0.2, random_state=5)\n",
    "\n",
    "y_train = y_train.values.ravel()\n",
    "\n",
    "model = RandomForestClassifier(n_estimators=10, max_depth=4, random_state=42)\n",
    "\n",
    "model.fit(X_train, y_train)\n",
    "\n",
    "predictions = model.predict(X_test)\n",
    "score = model.score(X_test, y_test)\n",
    "\n",
    "predictions, score"
   ]
  }
 ],
 "metadata": {
  "kernelspec": {
   "display_name": "Python 3 (ipykernel)",
   "language": "python",
   "name": "python3"
  },
  "language_info": {
   "codemirror_mode": {
    "name": "ipython",
    "version": 3
   },
   "file_extension": ".py",
   "mimetype": "text/x-python",
   "name": "python",
   "nbconvert_exporter": "python",
   "pygments_lexer": "ipython3",
   "version": "3.8.8"
  }
 },
 "nbformat": 4,
 "nbformat_minor": 5
}
